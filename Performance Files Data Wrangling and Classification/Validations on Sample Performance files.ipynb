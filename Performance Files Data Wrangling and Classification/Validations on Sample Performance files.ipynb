{
 "cells": [
  {
   "cell_type": "markdown",
   "metadata": {},
   "source": [
    "# Import the libraries"
   ]
  },
  {
   "cell_type": "code",
   "execution_count": 2,
   "metadata": {
    "collapsed": true
   },
   "outputs": [],
   "source": [
    "import pandas as pd\n",
    "import numpy as np\n",
    "import os\n",
    "import requests\n",
    "import zipfile\n",
    "import io"
   ]
  },
  {
   "cell_type": "code",
   "execution_count": 276,
   "metadata": {
    "collapsed": true
   },
   "outputs": [],
   "source": [
    "s = requests.session()\n",
    "payload = {'username': 'jain.yo@husky.neu.edu', 'password': '0_iSRa}e'}\n",
    "url = 'https://freddiemac.embs.com/FLoan/secure/auth.php'\n",
    "a = s.post(url, data=payload)\n",
    "\n",
    "values = {'accept': 'Yes','acceptSubmit':'Continue','action': 'acceptTandC'}\n",
    "url1 = 'https://freddiemac.embs.com/FLoan/Data/download.php'\n",
    "b = s.post(url1,data=values)"
   ]
  },
  {
   "cell_type": "code",
   "execution_count": 277,
   "metadata": {
    "collapsed": false
   },
   "outputs": [],
   "source": [
    "for year in range(1999,2017):\n",
    "    url3 = 'https://freddiemac.embs.com/FLoan/Data/sample_'+str(year)+'.zip'\n",
    "    file = s.get(url3)\n",
    "    m=zipfile.ZipFile(io.BytesIO(file.content))\n",
    "    m.extractall()"
   ]
  },
  {
   "cell_type": "markdown",
   "metadata": {},
   "source": [
    "# Change the directory to the location of source file"
   ]
  },
  {
   "cell_type": "markdown",
   "metadata": {
    "collapsed": false
   },
   "source": [
    "os.getcwd()\n",
    "tar = os.chdir(os.getcwd()+'/'+'SampleFile')"
   ]
  },
  {
   "cell_type": "markdown",
   "metadata": {},
   "source": [
    "# Load each performance file and read using pandas"
   ]
  },
  {
   "cell_type": "code",
   "execution_count": 3,
   "metadata": {
    "collapsed": false
   },
   "outputs": [],
   "source": [
    "performance_files = [file for file in os.listdir() if file.startswith('sample_svcg')]"
   ]
  },
  {
   "cell_type": "code",
   "execution_count": 4,
   "metadata": {
    "collapsed": false
   },
   "outputs": [
    {
     "data": {
      "text/plain": [
       "['sample_svcg_1999.txt',\n",
       " 'sample_svcg_2000.txt',\n",
       " 'sample_svcg_2001.txt',\n",
       " 'sample_svcg_2002.txt',\n",
       " 'sample_svcg_2003.txt',\n",
       " 'sample_svcg_2004.txt',\n",
       " 'sample_svcg_2005.txt',\n",
       " 'sample_svcg_2006.txt',\n",
       " 'sample_svcg_2007.txt',\n",
       " 'sample_svcg_2008.txt',\n",
       " 'sample_svcg_2009.txt',\n",
       " 'sample_svcg_2010.txt',\n",
       " 'sample_svcg_2011.txt',\n",
       " 'sample_svcg_2012.txt',\n",
       " 'sample_svcg_2013.txt',\n",
       " 'sample_svcg_2014.txt',\n",
       " 'sample_svcg_2015.txt',\n",
       " 'sample_svcg_2016.txt']"
      ]
     },
     "execution_count": 4,
     "metadata": {},
     "output_type": "execute_result"
    }
   ],
   "source": [
    "performance_files[:]        ### performance files from 1999-2016"
   ]
  },
  {
   "cell_type": "markdown",
   "metadata": {},
   "source": [
    "# Load the data"
   ]
  },
  {
   "cell_type": "code",
   "execution_count": 29,
   "metadata": {
    "collapsed": false
   },
   "outputs": [],
   "source": [
    "def load_data(file):\n",
    "    df = pd.read_table(file,delimiter='|', header=None)\n",
    "    return df"
   ]
  },
  {
   "cell_type": "markdown",
   "metadata": {},
   "source": [
    "# Name the columns"
   ]
  },
  {
   "cell_type": "code",
   "execution_count": 30,
   "metadata": {
    "collapsed": false
   },
   "outputs": [],
   "source": [
    "def name_column(df):\n",
    "\n",
    "    df.columns=['LOAN_SEQUENCE_NUMBER','MONTHLY_REPORTING_PERIOD','CURRENT_ACTUAL_UPB',\n",
    "                     'CURRENT_LOAN_DELINQUENCY_STATUS','LOAN_AGE','REMAINING_MONTHS_TO_LEGAL_MATURITY',\n",
    "                     'REPURCHASE_FLAG','MODIFICATION_FLAG','ZERO_BALANCE_CODE','ZERO_BALANCE_EFFECTIVE_DATE',\n",
    "                     'CURRENT_INTEREST_RATE','CURRENT_DEFERRED_UPB','DUE_DATE_OF_LAST_PAID_INSTALLMENT_DDLPI',\n",
    "                     'MI_RECOVERIES','NET_SALES_PROCEEDS','NON_MI_RECOVERIES','EXPENSES','Legal_Costs',\n",
    "                     'Maintenance_and_Preservation_Costs','Taxes_and_Insurance','Miscellaneous_Expenses',\n",
    "                     'Actual_Loss_Calculation']\n",
    "    numberofrows = len(df.index)\n",
    "    print(numberofrows)\n",
    "    return df"
   ]
  },
  {
   "cell_type": "code",
   "execution_count": 309,
   "metadata": {
    "collapsed": false
   },
   "outputs": [
    {
     "data": {
      "text/html": [
       "<div>\n",
       "<table border=\"1\" class=\"dataframe\">\n",
       "  <thead>\n",
       "    <tr style=\"text-align: right;\">\n",
       "      <th></th>\n",
       "      <th>LOAN_SEQUENCE_NUMBER</th>\n",
       "      <th>MONTHLY_REPORTING_PERIOD</th>\n",
       "      <th>CURRENT_ACTUAL_UPB</th>\n",
       "      <th>CURRENT_LOAN_DELINQUENCY_STATUS</th>\n",
       "      <th>LOAN_AGE</th>\n",
       "      <th>REMAINING_MONTHS_TO_LEGAL_MATURITY</th>\n",
       "      <th>REPURCHASE_FLAG</th>\n",
       "      <th>MODIFICATION_FLAG</th>\n",
       "      <th>ZERO_BALANCE_CODE</th>\n",
       "      <th>ZERO_BALANCE_EFFECTIVE_DATE</th>\n",
       "      <th>...</th>\n",
       "      <th>DUE_DATE_OF_LAST_PAID_INSTALLMENT_DDLPI</th>\n",
       "      <th>MI_RECOVERIES</th>\n",
       "      <th>NET_SALES_PROCEEDS</th>\n",
       "      <th>NON_MI_RECOVERIES</th>\n",
       "      <th>EXPENSES</th>\n",
       "      <th>Legal_Costs</th>\n",
       "      <th>Maintenance_and_Preservation_Costs</th>\n",
       "      <th>Taxes_and_Insurance</th>\n",
       "      <th>Miscellaneous_Expenses</th>\n",
       "      <th>Actual_Loss_Calculation</th>\n",
       "    </tr>\n",
       "  </thead>\n",
       "  <tbody>\n",
       "    <tr>\n",
       "      <th>0</th>\n",
       "      <td>F101Q1000011</td>\n",
       "      <td>200203</td>\n",
       "      <td>71966.12</td>\n",
       "      <td>0</td>\n",
       "      <td>11</td>\n",
       "      <td>349</td>\n",
       "      <td>U</td>\n",
       "      <td>U</td>\n",
       "      <td>NA</td>\n",
       "      <td>NA</td>\n",
       "      <td>...</td>\n",
       "      <td>199701</td>\n",
       "      <td>0</td>\n",
       "      <td>0</td>\n",
       "      <td>0</td>\n",
       "      <td>NA</td>\n",
       "      <td>NA</td>\n",
       "      <td>NA</td>\n",
       "      <td>NA</td>\n",
       "      <td>NaN</td>\n",
       "      <td>0.0</td>\n",
       "    </tr>\n",
       "    <tr>\n",
       "      <th>1</th>\n",
       "      <td>F101Q1000011</td>\n",
       "      <td>200204</td>\n",
       "      <td>71966.12</td>\n",
       "      <td>0</td>\n",
       "      <td>12</td>\n",
       "      <td>348</td>\n",
       "      <td>U</td>\n",
       "      <td>U</td>\n",
       "      <td>NA</td>\n",
       "      <td>NA</td>\n",
       "      <td>...</td>\n",
       "      <td>199701</td>\n",
       "      <td>0</td>\n",
       "      <td>0</td>\n",
       "      <td>0</td>\n",
       "      <td>NA</td>\n",
       "      <td>NA</td>\n",
       "      <td>NA</td>\n",
       "      <td>NA</td>\n",
       "      <td>NaN</td>\n",
       "      <td>0.0</td>\n",
       "    </tr>\n",
       "    <tr>\n",
       "      <th>2</th>\n",
       "      <td>F101Q1000011</td>\n",
       "      <td>200205</td>\n",
       "      <td>71230.94</td>\n",
       "      <td>0</td>\n",
       "      <td>13</td>\n",
       "      <td>347</td>\n",
       "      <td>U</td>\n",
       "      <td>U</td>\n",
       "      <td>NA</td>\n",
       "      <td>NA</td>\n",
       "      <td>...</td>\n",
       "      <td>199701</td>\n",
       "      <td>0</td>\n",
       "      <td>0</td>\n",
       "      <td>0</td>\n",
       "      <td>NA</td>\n",
       "      <td>NA</td>\n",
       "      <td>NA</td>\n",
       "      <td>NA</td>\n",
       "      <td>NaN</td>\n",
       "      <td>0.0</td>\n",
       "    </tr>\n",
       "    <tr>\n",
       "      <th>3</th>\n",
       "      <td>F101Q1000011</td>\n",
       "      <td>200206</td>\n",
       "      <td>71230.94</td>\n",
       "      <td>0</td>\n",
       "      <td>14</td>\n",
       "      <td>346</td>\n",
       "      <td>U</td>\n",
       "      <td>U</td>\n",
       "      <td>NA</td>\n",
       "      <td>NA</td>\n",
       "      <td>...</td>\n",
       "      <td>199701</td>\n",
       "      <td>0</td>\n",
       "      <td>0</td>\n",
       "      <td>0</td>\n",
       "      <td>NA</td>\n",
       "      <td>NA</td>\n",
       "      <td>NA</td>\n",
       "      <td>NA</td>\n",
       "      <td>NaN</td>\n",
       "      <td>0.0</td>\n",
       "    </tr>\n",
       "    <tr>\n",
       "      <th>4</th>\n",
       "      <td>F101Q1000011</td>\n",
       "      <td>200207</td>\n",
       "      <td>70860.07</td>\n",
       "      <td>0</td>\n",
       "      <td>15</td>\n",
       "      <td>345</td>\n",
       "      <td>U</td>\n",
       "      <td>U</td>\n",
       "      <td>NA</td>\n",
       "      <td>NA</td>\n",
       "      <td>...</td>\n",
       "      <td>199701</td>\n",
       "      <td>0</td>\n",
       "      <td>0</td>\n",
       "      <td>0</td>\n",
       "      <td>NA</td>\n",
       "      <td>NA</td>\n",
       "      <td>NA</td>\n",
       "      <td>NA</td>\n",
       "      <td>NaN</td>\n",
       "      <td>0.0</td>\n",
       "    </tr>\n",
       "  </tbody>\n",
       "</table>\n",
       "<p>5 rows × 22 columns</p>\n",
       "</div>"
      ],
      "text/plain": [
       "  LOAN_SEQUENCE_NUMBER  MONTHLY_REPORTING_PERIOD  CURRENT_ACTUAL_UPB  \\\n",
       "0         F101Q1000011                    200203            71966.12   \n",
       "1         F101Q1000011                    200204            71966.12   \n",
       "2         F101Q1000011                    200205            71230.94   \n",
       "3         F101Q1000011                    200206            71230.94   \n",
       "4         F101Q1000011                    200207            70860.07   \n",
       "\n",
       "  CURRENT_LOAN_DELINQUENCY_STATUS  LOAN_AGE  \\\n",
       "0                               0        11   \n",
       "1                               0        12   \n",
       "2                               0        13   \n",
       "3                               0        14   \n",
       "4                               0        15   \n",
       "\n",
       "   REMAINING_MONTHS_TO_LEGAL_MATURITY REPURCHASE_FLAG MODIFICATION_FLAG  \\\n",
       "0                                 349               U                 U   \n",
       "1                                 348               U                 U   \n",
       "2                                 347               U                 U   \n",
       "3                                 346               U                 U   \n",
       "4                                 345               U                 U   \n",
       "\n",
       "  ZERO_BALANCE_CODE ZERO_BALANCE_EFFECTIVE_DATE           ...            \\\n",
       "0                NA                          NA           ...             \n",
       "1                NA                          NA           ...             \n",
       "2                NA                          NA           ...             \n",
       "3                NA                          NA           ...             \n",
       "4                NA                          NA           ...             \n",
       "\n",
       "   DUE_DATE_OF_LAST_PAID_INSTALLMENT_DDLPI  MI_RECOVERIES NET_SALES_PROCEEDS  \\\n",
       "0                                   199701              0                  0   \n",
       "1                                   199701              0                  0   \n",
       "2                                   199701              0                  0   \n",
       "3                                   199701              0                  0   \n",
       "4                                   199701              0                  0   \n",
       "\n",
       "  NON_MI_RECOVERIES EXPENSES Legal_Costs Maintenance_and_Preservation_Costs  \\\n",
       "0                 0       NA          NA                                 NA   \n",
       "1                 0       NA          NA                                 NA   \n",
       "2                 0       NA          NA                                 NA   \n",
       "3                 0       NA          NA                                 NA   \n",
       "4                 0       NA          NA                                 NA   \n",
       "\n",
       "  Taxes_and_Insurance Miscellaneous_Expenses Actual_Loss_Calculation  \n",
       "0                  NA                    NaN                     0.0  \n",
       "1                  NA                    NaN                     0.0  \n",
       "2                  NA                    NaN                     0.0  \n",
       "3                  NA                    NaN                     0.0  \n",
       "4                  NA                    NaN                     0.0  \n",
       "\n",
       "[5 rows x 22 columns]"
      ]
     },
     "execution_count": 309,
     "metadata": {},
     "output_type": "execute_result"
    }
   ],
   "source": [
    "df.head()"
   ]
  },
  {
   "cell_type": "markdown",
   "metadata": {},
   "source": [
    "# Check the DataTypes"
   ]
  },
  {
   "cell_type": "code",
   "execution_count": null,
   "metadata": {
    "collapsed": false
   },
   "outputs": [],
   "source": [
    "#perfor_data.dtypes"
   ]
  },
  {
   "cell_type": "markdown",
   "metadata": {},
   "source": [
    "# Validate the columns"
   ]
  },
  {
   "cell_type": "markdown",
   "metadata": {},
   "source": [
    "# 1) LOAN SEQUENCE NUMBER  \n",
    "\n",
    "It's a Unique identifier assigned to each loan. \n",
    "It is of length 12 and alpha-numeric type.\n",
    "\n",
    "valid values: F1YYQnXXXXXX\n",
    "F1 = product (Fixed Rate Mortgage);\n",
    "YYQn = origination\n",
    "year and quarter; and,\n",
    "XXXXXX = randomly\n",
    "assigned digits"
   ]
  },
  {
   "cell_type": "markdown",
   "metadata": {},
   "source": [
    "# validation pending... for loan"
   ]
  },
  {
   "cell_type": "markdown",
   "metadata": {},
   "source": [
    "# 2) MONTHLY REPORTING PERIOD \n",
    "The as-of month for loan information contained in the loan record.\n",
    "\n",
    "Valid Values: YYYYMM\n",
    "Type: Date \n",
    "length : 6"
   ]
  },
  {
   "cell_type": "markdown",
   "metadata": {},
   "source": [
    "Check if there are null values in the column and\n",
    "if there are any replace it with : 199701 "
   ]
  },
  {
   "cell_type": "code",
   "execution_count": 5,
   "metadata": {
    "collapsed": false
   },
   "outputs": [],
   "source": [
    "def validate_monthly_report(df):\n",
    "\n",
    "    if any(df['MONTHLY_REPORTING_PERIOD'].isnull()):\n",
    "        df['MONTHLY_REPORTING_PERIOD'].fillna('199701')\n",
    "    return df\n",
    "    \n",
    "    "
   ]
  },
  {
   "cell_type": "markdown",
   "metadata": {},
   "source": [
    "# 3) CURRENT ACTUAL UPB \n",
    "\n",
    "The Current Actual UPB reflects the mortgage ending balance as reported by the servicer for the corresponding monthly reporting period.\n",
    "For fixed rate mortgages, this UPB is derived from the mortgage balance as reported by the servicer \n",
    "and includes any scheduled and unscheduled principal reductions applied to the mortgage.\n",
    "\n",
    "Calculation: (interest bearing UPB) + (non- interest bearing UPB)\n",
    "Numeric Literal decimal\n",
    "length : 2"
   ]
  },
  {
   "cell_type": "code",
   "execution_count": 6,
   "metadata": {
    "collapsed": false
   },
   "outputs": [],
   "source": [
    "def validate_upb(df):\n",
    "    if any(df['CURRENT_ACTUAL_UPB'].isnull()):\n",
    "        df['CURRENT_ACTUAL_UPB'].fillna('00')\n",
    "    return df"
   ]
  },
  {
   "cell_type": "markdown",
   "metadata": {},
   "source": [
    "# 4) CURRENT LOAN DELINQUENCY STATUS \n",
    "\n",
    "A value corresponding to the number of days the borrower is delinquent, based on the due date of last paid installment (“DDLPI”) reported by\n",
    "ervicers to Freddie Mac, and is calculated under the Mortgage Bankers Association (MBA) method.\n",
    "If a loan has been acquired by REO, then the Current Loan Delinquency Status will reflect the value corresponding to that status (instead of the value corresponding to the number of days the borrower is delinquent)."
   ]
  },
  {
   "cell_type": "markdown",
   "metadata": {},
   "source": [
    " XX = Unknown\n",
    " 0 = Current, or less\n",
    "than 30 days past due\n",
    " 1 = 30-59 days delinquent\n",
    " 2=60–89days delinquent\n",
    " 3=90–119days delinquent\n",
    " And so on...\n",
    " R = REO Acquisition\n",
    " Space (3) =\n",
    "Unavailable"
   ]
  },
  {
   "cell_type": "code",
   "execution_count": 7,
   "metadata": {
    "collapsed": false
   },
   "outputs": [],
   "source": [
    "def loan_delinquency_status(df):\n",
    "    if any(df['CURRENT_LOAN_DELINQUENCY_STATUS'].isnull()):\n",
    "        df['CURRENT_LOAN_DELINQUENCY_STATUS'].fillna('U')\n",
    "            \n",
    "        df['CURRENT_LOAN_DELINQUENCY_STATUS'] = df.CURRENT_LOAN_DELINQUENCY_STATUS.replace('   ','U')\n",
    "    \n",
    "    return df\n"
   ]
  },
  {
   "cell_type": "code",
   "execution_count": 8,
   "metadata": {
    "collapsed": false
   },
   "outputs": [
    {
     "ename": "NameError",
     "evalue": "name 'df' is not defined",
     "output_type": "error",
     "traceback": [
      "\u001b[0;31m---------------------------------------------------------------------------\u001b[0m",
      "\u001b[0;31mNameError\u001b[0m                                 Traceback (most recent call last)",
      "\u001b[0;32m<ipython-input-8-0c13e651f45a>\u001b[0m in \u001b[0;36m<module>\u001b[0;34m()\u001b[0m\n\u001b[0;32m----> 1\u001b[0;31m \u001b[0mdf\u001b[0m\u001b[1;33m[\u001b[0m\u001b[1;34m'CURRENT_LOAN_DELINQUENCY_STATUS'\u001b[0m\u001b[1;33m]\u001b[0m\u001b[1;33m.\u001b[0m\u001b[0mvalue_counts\u001b[0m\u001b[1;33m(\u001b[0m\u001b[1;33m)\u001b[0m\u001b[1;33m\u001b[0m\u001b[0m\n\u001b[0m",
      "\u001b[0;31mNameError\u001b[0m: name 'df' is not defined"
     ]
    }
   ],
   "source": [
    "df['CURRENT_LOAN_DELINQUENCY_STATUS'].value_counts()"
   ]
  },
  {
   "cell_type": "markdown",
   "metadata": {},
   "source": [
    "# 5)LOAN AGE\n",
    "\n",
    "from the columns Monthly Reporting Period : if its 201602 - then loan age is 0, 201603 is 1 and 201604 is 2 and so one.\n",
    "\n",
    "should i put a range from (0,999)"
   ]
  },
  {
   "cell_type": "code",
   "execution_count": 32,
   "metadata": {
    "collapsed": true
   },
   "outputs": [],
   "source": [
    "def validate_loan_age(df):\n",
    "    if any(df['LOAN_AGE'].isnull()):\n",
    "        df['LOAN_AGE'] = df.LOAN_AGE.fillna('NA')\n",
    "        \n",
    "    if any(df['LOAN_AGE']) not in range(0,1000):\n",
    "        print(\" loan age value out of range\")\n",
    "    return df"
   ]
  },
  {
   "cell_type": "markdown",
   "metadata": {},
   "source": [
    "# 6 REMAINING MONTHS TO LEGAL MATURITY\n",
    "\n",
    "Since its numneric. what to fill na with??\n"
   ]
  },
  {
   "cell_type": "code",
   "execution_count": 10,
   "metadata": {
    "collapsed": true
   },
   "outputs": [],
   "source": [
    "def validate_remaining_months_to_legal_maturity(df):\n",
    "    if any(df['REMAINING_MONTHS_TO_LEGAL_MATURITY'].isnull()):\n",
    "        df['REMAINING_MONTHS_TO_LEGAL_MATURITY'] = df.REMAINING_MONTHS_TO_LEGAL_MATURITY.fillna('NA')\n",
    "        \n",
    "    if any(df['REMAINING_MONTHS_TO_LEGAL_MATURITY']) not in range(0,1000):\n",
    "        print(\" loan age value out of range\")\n",
    "    \n",
    "    return df"
   ]
  },
  {
   "cell_type": "markdown",
   "metadata": {},
   "source": [
    "# 7 REPURCHASE FLAG"
   ]
  },
  {
   "cell_type": "markdown",
   "metadata": {},
   "source": [
    "Null values replaced with U (Unknown)"
   ]
  },
  {
   "cell_type": "code",
   "execution_count": 11,
   "metadata": {
    "collapsed": true
   },
   "outputs": [],
   "source": [
    "def validate_repurchase_flag(df):\n",
    "    if any(df['REPURCHASE_FLAG'].isnull()):\n",
    "        df['REPURCHASE_FLAG'] = df.REPURCHASE_FLAG.fillna('U')\n",
    "   \n",
    "    df['REPURCHASE_FLAG'] = df.REPURCHASE_FLAG.replace(' ','U')\n",
    "    return df"
   ]
  },
  {
   "cell_type": "markdown",
   "metadata": {},
   "source": [
    "# 8 MODIFICATION FLAG "
   ]
  },
  {
   "cell_type": "markdown",
   "metadata": {},
   "source": [
    "Replaced Null as Unknown and Replaced ' ' with N"
   ]
  },
  {
   "cell_type": "code",
   "execution_count": 12,
   "metadata": {
    "collapsed": true
   },
   "outputs": [],
   "source": [
    "def validation_modification_flag(df):\n",
    "    if any(df['MODIFICATION_FLAG'].isnull()):\n",
    "        df['MODIFICATION_FLAG'] = df.MODIFICATION_FLAG.fillna('U')\n",
    "    \n",
    "    df['MODIFICATION_FLAG'] = df.MODIFICATION_FLAG.replace(' ','N')\n",
    "    \n",
    "    return df"
   ]
  },
  {
   "cell_type": "markdown",
   "metadata": {},
   "source": [
    "# 9 ZERO BALANCE CODE\n",
    "  01 = Prepaid or Matured (Voluntary Payoff)\n",
    "  03 = Foreclosure Alternative Group (Short Sale, Third Party Sale, Charge Off or Note Sale)\n",
    "  06 = Repurchase prior to Property Disposition\n",
    "  09 = REO Disposition\n",
    "  Space(2) = Not (NA)\n",
    "Applicable"
   ]
  },
  {
   "cell_type": "code",
   "execution_count": 13,
   "metadata": {
    "collapsed": false
   },
   "outputs": [],
   "source": [
    "def validate_zero_balance_code(df):\n",
    "    if any(df['ZERO_BALANCE_CODE'].isnull()):\n",
    "        df['ZERO_BALANCE_CODE'] = df.ZERO_BALANCE_CODE.fillna('NA')\n",
    "        \n",
    "    \n",
    "    df['ZERO_BALANCE_CODE'] = df.ZERO_BALANCE_CODE.replace('  ','NA')\n",
    "        \n",
    "    #f any(df['ZERO_BALANCE_CODE']) != 1.0 or any(df['ZERO_BALANCE_CODE']) != 6.0 or any(df['ZERO_BALANCE_CODE']) != 3.0 or any(df['ZERO_BALANCE_CODE']) != 9.0:\n",
    "    if 1.0 not in df['ZERO_BALANCE_CODE'] or 3.0 not in df['ZERO_BALANCE_CODE'] or 6.0 not in df['ZERO_BALANCE_CODE'] or 9.0 not in df['ZERO_BALANCE_CODE']:\n",
    "        print(\"Not a 1 or 3 or 6 or 9 zero balance code\")\n",
    "    return df\n"
   ]
  },
  {
   "cell_type": "markdown",
   "metadata": {},
   "source": [
    "if any(df['ORIGINAL_COMBINED_LOAN_TO_VALUE_CLTV'].isnull()):\n",
    "        df['ORIGINAL_COMBINED_LOAN_TO_VALUE_CLTV'] = df.ORIGINAL_COMBINED_LOAN_TO_VALUE_CLTV.fillna(999)\n",
    "        print (sum(cltv_count['ORIGINAL_COMBINED_LOAN_TO_VALUE_CLTV'].count()))\n",
    "        return df"
   ]
  },
  {
   "cell_type": "markdown",
   "metadata": {},
   "source": [
    "# 10 ZERO BALANCE EFFECTIVE DATE\n",
    "\n",
    "YYYYMM\n",
    "  Space(6) = Not\n",
    "Applicable\n",
    "\n",
    "Assumption : replacing nan with 199701. since the year strats from 1999.\n",
    "nan = 199701"
   ]
  },
  {
   "cell_type": "code",
   "execution_count": 14,
   "metadata": {
    "collapsed": false
   },
   "outputs": [],
   "source": [
    "def validate_zero_balance_effective_date(df):\n",
    "    if any(df['ZERO_BALANCE_EFFECTIVE_DATE'].isnull()):\n",
    "        df['ZERO_BALANCE_EFFECTIVE_DATE'] = df.ZERO_BALANCE_EFFECTIVE_DATE.fillna('199701')\n",
    "    \n",
    "    df['ZERO_BALANCE_EFFECTIVE_DATE'] = df.ZERO_BALANCE_CODE.replace('      ','000000')\n",
    "    \n",
    "    return df"
   ]
  },
  {
   "cell_type": "markdown",
   "metadata": {},
   "source": [
    "# 11 CURRENT INTEREST RATE\n",
    "\n",
    "Reflects the current interest rate on the mortgage note, taking into account any loan modifications.\n",
    "\n",
    "Numeric \n",
    "Literal \n",
    "Decimal"
   ]
  },
  {
   "cell_type": "code",
   "execution_count": 15,
   "metadata": {
    "collapsed": true
   },
   "outputs": [],
   "source": [
    "def validate_current_interest_rate(df):\n",
    "    if any(df['CURRENT_INTEREST_RATE'].isnull()):\n",
    "        df['CURRENT_INTEREST_RATE'] = df.CURRENT_INTEREST_RATE.fillna('NA')\n",
    "        #print(pd.value_counts(df['CURRENT_INTEREST_RATE'].values, sort=True).head())\n",
    "    return df"
   ]
  },
  {
   "cell_type": "markdown",
   "metadata": {},
   "source": [
    "# 12 CURRENT DEFERRED UPB\n",
    "\n",
    "The current non-interest bearing UPB of the modified mortgage.\n",
    "$ Amount. Non-Interest Bearing UPB.\n",
    "\n",
    "The column has only zero as value.. validation?? "
   ]
  },
  {
   "cell_type": "code",
   "execution_count": 16,
   "metadata": {
    "collapsed": false
   },
   "outputs": [],
   "source": [
    "def validate_current_deferred_upb(df):\n",
    "    return df"
   ]
  },
  {
   "cell_type": "markdown",
   "metadata": {},
   "source": [
    "# 13 DUE DATE OF LAST PAID INSTALLMENT (DDLPI)\n",
    "\n",
    "YYYYMM\n",
    "\n",
    "fill na : 199701"
   ]
  },
  {
   "cell_type": "code",
   "execution_count": 17,
   "metadata": {
    "collapsed": true
   },
   "outputs": [],
   "source": [
    "def validate_ddpli(df):\n",
    "    if any(df['DUE_DATE_OF_LAST_PAID_INSTALLMENT_DDLPI'].isnull()):\n",
    "        df['DUE_DATE_OF_LAST_PAID_INSTALLMENT_DDLPI'] = df.DUE_DATE_OF_LAST_PAID_INSTALLMENT_DDLPI.fillna('199701')\n",
    "        \n",
    "    return df"
   ]
  },
  {
   "cell_type": "markdown",
   "metadata": {},
   "source": [
    "# 14 MI RECOVERIES"
   ]
  },
  {
   "cell_type": "code",
   "execution_count": 18,
   "metadata": {
    "collapsed": true
   },
   "outputs": [],
   "source": [
    "def validate_MI_recoveries(df):\n",
    "    if any(df['MI_RECOVERIES'].isnull()):\n",
    "        df['MI_RECOVERIES'] = df.MI_RECOVERIES.fillna('0')\n",
    "        \n",
    "    return df"
   ]
  },
  {
   "cell_type": "markdown",
   "metadata": {},
   "source": [
    "# 15 NET SALES PROCEEDS\n",
    "\n",
    "$ Amount. Gross Sale Proceeds – Allowable Selling Expenses.\n",
    "C = Covered U = Unknown\n",
    "\n",
    "Alpha- numeric Literal Decimal"
   ]
  },
  {
   "cell_type": "code",
   "execution_count": 19,
   "metadata": {
    "collapsed": false
   },
   "outputs": [],
   "source": [
    "def validate_net_sales_proceeds(df):\n",
    "    if any(df['NET_SALES_PROCEEDS'].isnull()):\n",
    "         df['NET_SALES_PROCEEDS'] = df.NET_SALES_PROCEEDS.fillna('0')\n",
    "        \n",
    "    return df"
   ]
  },
  {
   "cell_type": "markdown",
   "metadata": {},
   "source": [
    "# 16 NON MI RECOVERIES\n"
   ]
  },
  {
   "cell_type": "code",
   "execution_count": 20,
   "metadata": {
    "collapsed": true
   },
   "outputs": [],
   "source": [
    "def validate_non_MI_recoveries(df):\n",
    "    if any(df['NON_MI_RECOVERIES'].isnull()):\n",
    "        df['NON_MI_RECOVERIES']=df.NET_SALES_PROCEEDS.fillna('0')\n",
    "    return df"
   ]
  },
  {
   "cell_type": "markdown",
   "metadata": {},
   "source": [
    "# 17 EXPENSES"
   ]
  },
  {
   "cell_type": "code",
   "execution_count": 21,
   "metadata": {
    "collapsed": true
   },
   "outputs": [],
   "source": [
    "def validate_expenses(df):\n",
    "    if any(df['EXPENSES'].isnull()):\n",
    "        df['EXPENSES']=df.EXPENSES.fillna('NA')\n",
    "    return df"
   ]
  },
  {
   "cell_type": "markdown",
   "metadata": {},
   "source": [
    "# 18 Legal Costs "
   ]
  },
  {
   "cell_type": "code",
   "execution_count": 22,
   "metadata": {
    "collapsed": true
   },
   "outputs": [],
   "source": [
    "def validate_legal_costs(df):\n",
    "    if any(df['Legal_Costs'].isnull()):\n",
    "        df['Legal_Costs']=df.Legal_Costs.fillna('NA')\n",
    "    return df"
   ]
  },
  {
   "cell_type": "markdown",
   "metadata": {},
   "source": [
    "# 19 Maintenance and Preservation Costs"
   ]
  },
  {
   "cell_type": "code",
   "execution_count": 23,
   "metadata": {
    "collapsed": true
   },
   "outputs": [],
   "source": [
    "def validate_maintenance_preservation_costs(df):\n",
    "    if any(df['Maintenance_and_Preservation_Costs'].isnull()):\n",
    "        df['Maintenance_and_Preservation_Costs']=df.Maintenance_and_Preservation_Costs.fillna('NA')\n",
    "    return df"
   ]
  },
  {
   "cell_type": "markdown",
   "metadata": {},
   "source": [
    "20 Taxes and Insurance Data"
   ]
  },
  {
   "cell_type": "code",
   "execution_count": 24,
   "metadata": {
    "collapsed": true
   },
   "outputs": [],
   "source": [
    "def validate_taxes_and_insurance(df):\n",
    "    if any(df['Taxes_and_Insurance'].isnull()):\n",
    "        df['Taxes_and_Insurance']=df.Taxes_and_Insurance.fillna('NA')\n",
    "    return df"
   ]
  },
  {
   "cell_type": "markdown",
   "metadata": {},
   "source": [
    "# 21 Miscellaneous Expenses"
   ]
  },
  {
   "cell_type": "code",
   "execution_count": 25,
   "metadata": {
    "collapsed": true
   },
   "outputs": [],
   "source": [
    "def validate_miscellaneous_expenses(df):\n",
    "    return df"
   ]
  },
  {
   "cell_type": "markdown",
   "metadata": {},
   "source": [
    "# 22 Actual Loss Calculation"
   ]
  },
  {
   "cell_type": "code",
   "execution_count": 26,
   "metadata": {
    "collapsed": false
   },
   "outputs": [],
   "source": [
    "def validate_actual_loss_cal(df):\n",
    "    if (df['REPURCHASE_FLAG'] == 'Y').values.any() or (df['NET_SALES_PROCEEDS']== 'C').values.any() or (df['NET_SALES_PROCEEDS']== 'U').values.any() :\n",
    "#or any(perfor_data['NET_SALES_PROCEEDS']) == 'C' or any(perfor_data['NET_SALES_PROCEEDS']) == 'U':\n",
    "        #print('here')\n",
    "        df['Actual_Loss_Calculation'] = df.Actual_Loss_Calculation.fillna(0)\n",
    "    return df"
   ]
  },
  {
   "cell_type": "markdown",
   "metadata": {},
   "source": [
    "# 23 Modification Cost \n"
   ]
  },
  {
   "cell_type": "code",
   "execution_count": 27,
   "metadata": {
    "collapsed": true
   },
   "outputs": [],
   "source": [
    "def validate_modification_cost(df):\n",
    "    return df"
   ]
  },
  {
   "cell_type": "markdown",
   "metadata": {},
   "source": [
    "MAIN VALIDATION FUNCTIONS AND CODE"
   ]
  },
  {
   "cell_type": "code",
   "execution_count": 33,
   "metadata": {
    "collapsed": false
   },
   "outputs": [
    {
     "name": "stdout",
     "output_type": "stream",
     "text": [
      "sample_svcg_1999.txt\n"
     ]
    },
    {
     "name": "stderr",
     "output_type": "stream",
     "text": [
      "C:\\Users\\antri\\Anaconda3\\lib\\site-packages\\IPython\\core\\interactiveshell.py:2821: DtypeWarning: Columns (3,7,14) have mixed types. Specify dtype option on import or set low_memory=False.\n",
      "  if self.run_code(code, result):\n"
     ]
    },
    {
     "name": "stdout",
     "output_type": "stream",
     "text": [
      "2308977\n",
      "sample_svcg_2000.txt\n"
     ]
    },
    {
     "name": "stderr",
     "output_type": "stream",
     "text": [
      "C:\\Users\\antri\\Anaconda3\\lib\\site-packages\\IPython\\core\\interactiveshell.py:2821: DtypeWarning: Columns (14) have mixed types. Specify dtype option on import or set low_memory=False.\n",
      "  if self.run_code(code, result):\n"
     ]
    },
    {
     "name": "stdout",
     "output_type": "stream",
     "text": [
      "1332880\n",
      "sample_svcg_2001.txt\n"
     ]
    },
    {
     "name": "stderr",
     "output_type": "stream",
     "text": [
      "C:\\Users\\antri\\Anaconda3\\lib\\site-packages\\IPython\\core\\interactiveshell.py:2821: DtypeWarning: Columns (7,14) have mixed types. Specify dtype option on import or set low_memory=False.\n",
      "  if self.run_code(code, result):\n"
     ]
    },
    {
     "name": "stdout",
     "output_type": "stream",
     "text": [
      "1762804\n",
      "sample_svcg_2002.txt\n",
      "2141666\n",
      "sample_svcg_2003.txt\n",
      "3545234\n",
      "sample_svcg_2004.txt\n",
      "3533308\n",
      "sample_svcg_2005.txt\n"
     ]
    },
    {
     "name": "stderr",
     "output_type": "stream",
     "text": [
      "C:\\Users\\antri\\Anaconda3\\lib\\site-packages\\IPython\\core\\interactiveshell.py:2821: DtypeWarning: Columns (3,14) have mixed types. Specify dtype option on import or set low_memory=False.\n",
      "  if self.run_code(code, result):\n"
     ]
    },
    {
     "name": "stdout",
     "output_type": "stream",
     "text": [
      "3553395\n",
      "sample_svcg_2006.txt\n",
      "2888628\n",
      "sample_svcg_2007.txt\n",
      "2666815\n",
      "sample_svcg_2008.txt\n",
      "2168339\n",
      "sample_svcg_2009.txt\n",
      "2469956\n",
      "sample_svcg_2010.txt\n",
      "2338890\n",
      "sample_svcg_2011.txt\n",
      "2098079\n",
      "sample_svcg_2012.txt\n"
     ]
    },
    {
     "name": "stderr",
     "output_type": "stream",
     "text": [
      "C:\\Users\\antri\\Anaconda3\\lib\\site-packages\\IPython\\core\\interactiveshell.py:2821: DtypeWarning: Columns (3,7) have mixed types. Specify dtype option on import or set low_memory=False.\n",
      "  if self.run_code(code, result):\n"
     ]
    },
    {
     "name": "stdout",
     "output_type": "stream",
     "text": [
      "2142561\n",
      "sample_svcg_2013.txt\n",
      "1709889\n",
      "sample_svcg_2014.txt\n",
      "1173710\n",
      "sample_svcg_2015.txt\n"
     ]
    },
    {
     "name": "stderr",
     "output_type": "stream",
     "text": [
      "C:\\Users\\antri\\Anaconda3\\lib\\site-packages\\IPython\\core\\interactiveshell.py:2821: DtypeWarning: Columns (7) have mixed types. Specify dtype option on import or set low_memory=False.\n",
      "  if self.run_code(code, result):\n"
     ]
    },
    {
     "name": "stdout",
     "output_type": "stream",
     "text": [
      "698149\n",
      "sample_svcg_2016.txt\n",
      "83491\n"
     ]
    }
   ],
   "source": [
    "for i in range(len(performance_files)):\n",
    "    df = pd.DataFrame()\n",
    "    print (performance_files[i])\n",
    "    df = load_data(performance_files[i])\n",
    "    \n",
    "    df = name_column(df)\n",
    "    \n",
    "    #1)\n",
    "    \n",
    "    df = validate_monthly_report(df)\n",
    "    df = validate_upb(df)\n",
    "    df = loan_delinquency_status(df)\n",
    "    df = validate_loan_age(df)\n",
    "    df = validate_remaining_months_to_legal_maturity(df)\n",
    "    df = validate_repurchase_flag(df)\n",
    "    df = validation_modification_flag(df)\n",
    "    df = validate_zero_balance_code(df)\n",
    "    df = validate_zero_balance_effective_date(df)\n",
    "    df = validate_current_interest_rate(df)\n",
    "    df = validate_current_deferred_upb(df)\n",
    "    df = validate_ddpli(df)\n",
    "    df = validate_MI_recoveries(df)\n",
    "    df = validate_net_sales_proceeds(df)\n",
    "    df = validate_non_MI_recoveries(df)\n",
    "    df = validate_expenses(df)\n",
    "    df = validate_legal_costs(df)\n",
    "    df = validate_maintenance_preservation_costs(df)\n",
    "    df = validate_taxes_and_insurance(df)\n",
    "    df = validate_miscellaneous_expenses(df)\n",
    "    df = validate_actual_loss_cal(df)\n",
    "    df = validate_modification_cost(df)\n",
    "    \n",
    "    df.to_csv('Sample_Performance_Validated_'+str(performance_files[i][12:-4])+'.csv', index=None)\n",
    "    "
   ]
  },
  {
   "cell_type": "code",
   "execution_count": null,
   "metadata": {
    "collapsed": true
   },
   "outputs": [],
   "source": [
    "print('Performance file validation done')"
   ]
  }
 ],
 "metadata": {
  "anaconda-cloud": {},
  "kernelspec": {
   "display_name": "Python 3",
   "language": "python",
   "name": "python3"
  },
  "language_info": {
   "codemirror_mode": {
    "name": "ipython",
    "version": 3
   },
   "file_extension": ".py",
   "mimetype": "text/x-python",
   "name": "python",
   "nbconvert_exporter": "python",
   "pygments_lexer": "ipython3",
   "version": "3.6.0"
  }
 },
 "nbformat": 4,
 "nbformat_minor": 1
}
