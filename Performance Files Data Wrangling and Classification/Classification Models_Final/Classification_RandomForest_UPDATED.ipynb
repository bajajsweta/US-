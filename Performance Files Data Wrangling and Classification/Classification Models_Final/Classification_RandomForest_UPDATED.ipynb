{
 "cells": [
  {
   "cell_type": "code",
   "execution_count": 2,
   "metadata": {
    "collapsed": false
   },
   "outputs": [
    {
     "name": "stderr",
     "output_type": "stream",
     "text": [
      "/Users/vikasshah/anaconda/lib/python3.5/site-packages/sklearn/cross_validation.py:44: DeprecationWarning: This module was deprecated in version 0.18 in favor of the model_selection module into which all the refactored classes and functions are moved. Also note that the interface of the new CV iterators are different from that of this module. This module will be removed in 0.20.\n",
      "  \"This module will be removed in 0.20.\", DeprecationWarning)\n"
     ]
    }
   ],
   "source": [
    "import pickle\n",
    "import pandas as pd\n",
    "import numpy as np\n",
    "from sklearn.cross_validation  import cross_val_score\n",
    "from sklearn.ensemble import RandomForestClassifier\n",
    "import statsmodels.api as sm\n",
    "\n",
    "from statsmodels.formula.api import logit, probit, poisson, ols\n",
    "from sklearn.cross_validation import train_test_split\n",
    "from sklearn.metrics import confusion_matrix\n",
    "from sklearn.metrics import roc_curve\n",
    "import matplotlib.pylab as plt\n",
    "from sklearn import metrics\n",
    "from sklearn import svm\n",
    "import os"
   ]
  },
  {
   "cell_type": "code",
   "execution_count": 3,
   "metadata": {
    "collapsed": false
   },
   "outputs": [],
   "source": [
    "Yearfile = pd.read_csv('Quarter.csv',sep=',')\n",
    "#Yearfile"
   ]
  },
  {
   "cell_type": "code",
   "execution_count": 4,
   "metadata": {
    "collapsed": false
   },
   "outputs": [
    {
     "name": "stdout",
     "output_type": "stream",
     "text": [
      "Enter the To Quarter and year:Q12005\n",
      "Enter the From Quarter and year:Q12006\n",
      "Q12005\n",
      "Q12006\n"
     ]
    }
   ],
   "source": [
    "to = input(\"Enter the To Quarter and year:\")\n",
    "frm = str(input(\"Enter the From Quarter and year:\"))\n",
    "print(to)\n",
    "print(frm)"
   ]
  },
  {
   "cell_type": "code",
   "execution_count": 5,
   "metadata": {
    "collapsed": false
   },
   "outputs": [
    {
     "name": "stdout",
     "output_type": "stream",
     "text": [
      "Q12005\n",
      "[25]\n",
      "[29]\n"
     ]
    }
   ],
   "source": [
    "print(to)\n",
    "tonumber = Yearfile[Yearfile['Values'] == to]\n",
    "print (tonumber.Number.values)\n",
    "fromnumber = Yearfile[Yearfile['Values'] == frm]\n",
    "print (fromnumber.Number.values)\n"
   ]
  },
  {
   "cell_type": "code",
   "execution_count": 6,
   "metadata": {
    "collapsed": false
   },
   "outputs": [
    {
     "name": "stdout",
     "output_type": "stream",
     "text": [
      "24\n",
      "25\n",
      "26\n",
      "27\n",
      "28\n",
      "['Q12005', 'Q22005', 'Q32005', 'Q42005', 'Q12006']\n"
     ]
    },
    {
     "name": "stderr",
     "output_type": "stream",
     "text": [
      "/Users/vikasshah/anaconda/lib/python3.5/site-packages/ipykernel/__main__.py:2: VisibleDeprecationWarning: converting an array with ndim > 0 to an index will result in an error in the future\n",
      "  from ipykernel import kernelapp as app\n"
     ]
    }
   ],
   "source": [
    "ListOfYear= []\n",
    "for i in range(tonumber.Number.values-1,fromnumber.Number.values):\n",
    "    print(i)\n",
    "    ListOfYear.append(Yearfile['Values'].iloc[i])\n",
    "print(ListOfYear)"
   ]
  },
  {
   "cell_type": "code",
   "execution_count": 7,
   "metadata": {
    "collapsed": false
   },
   "outputs": [
    {
     "data": {
      "text/plain": [
       "['Sample_Performance_Validated_ata1_time_Q12005.csv',\n",
       " 'Sample_Performance_Validated_ata1_time_Q22005.csv']"
      ]
     },
     "execution_count": 7,
     "metadata": {},
     "output_type": "execute_result"
    }
   ],
   "source": [
    "per_files = [file for file in os.listdir() if file.startswith('Historical_Performance_Validated_ata1_time_')]\n",
    "per_files= per_files[:2]\n",
    "per_files"
   ]
  },
  {
   "cell_type": "code",
   "execution_count": 8,
   "metadata": {
    "collapsed": true
   },
   "outputs": [],
   "source": [
    "l1 = []\n",
    "for file in per_files:\n",
    "    if file[-10:-4] in ListOfYear:\n",
    "        l1.append(file)"
   ]
  },
  {
   "cell_type": "code",
   "execution_count": 9,
   "metadata": {
    "collapsed": false
   },
   "outputs": [
    {
     "name": "stderr",
     "output_type": "stream",
     "text": [
      "/Users/vikasshah/anaconda/lib/python3.5/site-packages/IPython/core/interactiveshell.py:2717: DtypeWarning: Columns (3,14,15) have mixed types. Specify dtype option on import or set low_memory=False.\n",
      "  interactivity=interactivity, compiler=compiler, result=result)\n"
     ]
    }
   ],
   "source": [
    "QuarterData1 = pd.read_csv(l1[0],index_col=None)"
   ]
  },
  {
   "cell_type": "code",
   "execution_count": 49,
   "metadata": {
    "collapsed": false
   },
   "outputs": [
    {
     "data": {
      "text/plain": [
       "28997352"
      ]
     },
     "execution_count": 49,
     "metadata": {},
     "output_type": "execute_result"
    }
   ],
   "source": [
    "len(QuarterData2)"
   ]
  },
  {
   "cell_type": "code",
   "execution_count": 10,
   "metadata": {
    "collapsed": false
   },
   "outputs": [
    {
     "name": "stderr",
     "output_type": "stream",
     "text": [
      "/Users/vikasshah/anaconda/lib/python3.5/site-packages/IPython/core/interactiveshell.py:2717: DtypeWarning: Columns (3,14,15) have mixed types. Specify dtype option on import or set low_memory=False.\n",
      "  interactivity=interactivity, compiler=compiler, result=result)\n"
     ]
    }
   ],
   "source": [
    "QuarterData2 = pd.read_csv(l1[1],index_col=None)"
   ]
  },
  {
   "cell_type": "code",
   "execution_count": 50,
   "metadata": {
    "collapsed": true
   },
   "outputs": [],
   "source": [
    "QD = QuarterData1.head(2500000)\n",
    "QD1 = QuarterData2.head(2500000)"
   ]
  },
  {
   "cell_type": "code",
   "execution_count": 51,
   "metadata": {
    "collapsed": false
   },
   "outputs": [
    {
     "name": "stderr",
     "output_type": "stream",
     "text": [
      "/Users/vikasshah/anaconda/lib/python3.5/site-packages/ipykernel/__main__.py:1: FutureWarning: convert_objects is deprecated.  Use the data-type specific converters pd.to_datetime, pd.to_timedelta and pd.to_numeric.\n",
      "  if __name__ == '__main__':\n"
     ]
    }
   ],
   "source": [
    "QD = QD.convert_objects(convert_numeric=True)"
   ]
  },
  {
   "cell_type": "code",
   "execution_count": 52,
   "metadata": {
    "collapsed": false
   },
   "outputs": [
    {
     "name": "stderr",
     "output_type": "stream",
     "text": [
      "/Users/vikasshah/anaconda/lib/python3.5/site-packages/ipykernel/__main__.py:1: FutureWarning: convert_objects is deprecated.  Use the data-type specific converters pd.to_datetime, pd.to_timedelta and pd.to_numeric.\n",
      "  if __name__ == '__main__':\n"
     ]
    }
   ],
   "source": [
    "QD1 = QD1.convert_objects(convert_numeric=True)"
   ]
  },
  {
   "cell_type": "code",
   "execution_count": 53,
   "metadata": {
    "collapsed": true
   },
   "outputs": [],
   "source": [
    "QD['CURRENT_LOAN_DELINQUENCY_STATUS'].replace('nan',999,inplace=True)\n",
    "QD1['CURRENT_LOAN_DELINQUENCY_STATUS'].replace('nan',999,inplace=True)\n",
    "\n",
    "QD['Deliquent'] = np.where(QD['CURRENT_LOAN_DELINQUENCY_STATUS'].astype(int) > 0 , 1 , 0)\n",
    "QD1['Deliquent'] = np.where(QD1['CURRENT_LOAN_DELINQUENCY_STATUS'].astype(int) > 0 , 1 , 0)\n",
    "\n",
    "QD['Deliquent'].unique()\n",
    "QD1['Deliquent'].unique()\n",
    "\n",
    "\n",
    "### first dataframe\n",
    "QD['MODIFICATION_FLAG'] = QD['MODIFICATION_FLAG'].replace('Y',1)\n",
    "QD['MODIFICATION_FLAG'] = QD['MODIFICATION_FLAG'].replace('U',2)\n",
    "QD['MODIFICATION_FLAG'] = QD['MODIFICATION_FLAG'].replace('N',0)\n",
    "\n",
    "QD['REPURCHASE_FLAG'] = QD['REPURCHASE_FLAG'].replace('U',2)\n",
    "QD['REPURCHASE_FLAG'] = QD['REPURCHASE_FLAG'].replace('N',0)\n",
    "QD['REPURCHASE_FLAG'] = QD['REPURCHASE_FLAG'].replace('Y',1)\n",
    "\n",
    "QD['Unknown'].fillna(0,inplace=True)\n",
    "QD['NET_SALES_PROCEEDS'].fillna(0,inplace=True)\n",
    "QD['NON_MI_RECOVERIES'].fillna(0,inplace=True)\n",
    "\n",
    "\n",
    "#### Second dataframe\n",
    "\n",
    "QD1['MODIFICATION_FLAG'] = QD1['MODIFICATION_FLAG'].replace('Y',1)\n",
    "QD1['MODIFICATION_FLAG'] = QD1['MODIFICATION_FLAG'].replace('U',2)\n",
    "QD1['MODIFICATION_FLAG'] = QD1['MODIFICATION_FLAG'].replace('N',0)\n",
    "\n",
    "QD1['REPURCHASE_FLAG'] = QD1['REPURCHASE_FLAG'].replace('U',2)\n",
    "QD1['REPURCHASE_FLAG'] = QD1['REPURCHASE_FLAG'].replace('N',0)\n",
    "QD1['REPURCHASE_FLAG'] = QD1['REPURCHASE_FLAG'].replace('Y',1)\n",
    "\n",
    "QD1['EXPENSES'].fillna(0,inplace=True)\n",
    "QD1['Unknown'].fillna(0,inplace=True)\n",
    "QD1['NET_SALES_PROCEEDS'].fillna(0,inplace=True)\n",
    "QD1['NON_MI_RECOVERIES'].fillna(0,inplace=True)"
   ]
  },
  {
   "cell_type": "code",
   "execution_count": 54,
   "metadata": {
    "collapsed": false
   },
   "outputs": [
    {
     "data": {
      "text/html": [
       "<div>\n",
       "<table border=\"1\" class=\"dataframe\">\n",
       "  <thead>\n",
       "    <tr style=\"text-align: right;\">\n",
       "      <th></th>\n",
       "      <th>LOAN_SEQUENCE_NUMBER</th>\n",
       "      <th>MONTHLY_REPORTING_PERIOD</th>\n",
       "      <th>CURRENT_ACTUAL_UPB</th>\n",
       "      <th>CURRENT_LOAN_DELINQUENCY_STATUS</th>\n",
       "      <th>LOAN_AGE</th>\n",
       "      <th>REMAINING_MONTHS_TO_LEGAL_MATURITY</th>\n",
       "      <th>REPURCHASE_FLAG</th>\n",
       "      <th>MODIFICATION_FLAG</th>\n",
       "      <th>ZERO_BALANCE_CODE</th>\n",
       "      <th>ZERO_BALANCE_EFFECTIVE_DATE</th>\n",
       "      <th>...</th>\n",
       "      <th>NON_MI_RECOVERIES</th>\n",
       "      <th>EXPENSES</th>\n",
       "      <th>Legal_Costs</th>\n",
       "      <th>Maintenance_and_Preservation_Costs</th>\n",
       "      <th>Taxes_and_Insurance</th>\n",
       "      <th>Miscellaneous_Expenses</th>\n",
       "      <th>Actual_Loss_Calculation</th>\n",
       "      <th>Modification_Cost</th>\n",
       "      <th>Unknown</th>\n",
       "      <th>Deliquent</th>\n",
       "    </tr>\n",
       "  </thead>\n",
       "  <tbody>\n",
       "    <tr>\n",
       "      <th>0</th>\n",
       "      <td>F105Q1000001</td>\n",
       "      <td>200504</td>\n",
       "      <td>190000.0</td>\n",
       "      <td>0.0</td>\n",
       "      <td>0</td>\n",
       "      <td>360</td>\n",
       "      <td>2</td>\n",
       "      <td>2</td>\n",
       "      <td>0.0</td>\n",
       "      <td>0.0</td>\n",
       "      <td>...</td>\n",
       "      <td>0.0</td>\n",
       "      <td>0.0</td>\n",
       "      <td>0.0</td>\n",
       "      <td>0.0</td>\n",
       "      <td>0.0</td>\n",
       "      <td>0.0</td>\n",
       "      <td>0.0</td>\n",
       "      <td>0.0</td>\n",
       "      <td>0.0</td>\n",
       "      <td>0</td>\n",
       "    </tr>\n",
       "    <tr>\n",
       "      <th>1</th>\n",
       "      <td>F105Q1000001</td>\n",
       "      <td>200505</td>\n",
       "      <td>190000.0</td>\n",
       "      <td>0.0</td>\n",
       "      <td>1</td>\n",
       "      <td>359</td>\n",
       "      <td>2</td>\n",
       "      <td>2</td>\n",
       "      <td>0.0</td>\n",
       "      <td>0.0</td>\n",
       "      <td>...</td>\n",
       "      <td>0.0</td>\n",
       "      <td>0.0</td>\n",
       "      <td>0.0</td>\n",
       "      <td>0.0</td>\n",
       "      <td>0.0</td>\n",
       "      <td>0.0</td>\n",
       "      <td>0.0</td>\n",
       "      <td>0.0</td>\n",
       "      <td>0.0</td>\n",
       "      <td>0</td>\n",
       "    </tr>\n",
       "    <tr>\n",
       "      <th>2</th>\n",
       "      <td>F105Q1000001</td>\n",
       "      <td>200506</td>\n",
       "      <td>190000.0</td>\n",
       "      <td>0.0</td>\n",
       "      <td>2</td>\n",
       "      <td>358</td>\n",
       "      <td>2</td>\n",
       "      <td>2</td>\n",
       "      <td>0.0</td>\n",
       "      <td>0.0</td>\n",
       "      <td>...</td>\n",
       "      <td>0.0</td>\n",
       "      <td>0.0</td>\n",
       "      <td>0.0</td>\n",
       "      <td>0.0</td>\n",
       "      <td>0.0</td>\n",
       "      <td>0.0</td>\n",
       "      <td>0.0</td>\n",
       "      <td>0.0</td>\n",
       "      <td>0.0</td>\n",
       "      <td>0</td>\n",
       "    </tr>\n",
       "    <tr>\n",
       "      <th>3</th>\n",
       "      <td>F105Q1000001</td>\n",
       "      <td>200507</td>\n",
       "      <td>189000.0</td>\n",
       "      <td>0.0</td>\n",
       "      <td>3</td>\n",
       "      <td>357</td>\n",
       "      <td>2</td>\n",
       "      <td>2</td>\n",
       "      <td>0.0</td>\n",
       "      <td>0.0</td>\n",
       "      <td>...</td>\n",
       "      <td>0.0</td>\n",
       "      <td>0.0</td>\n",
       "      <td>0.0</td>\n",
       "      <td>0.0</td>\n",
       "      <td>0.0</td>\n",
       "      <td>0.0</td>\n",
       "      <td>0.0</td>\n",
       "      <td>0.0</td>\n",
       "      <td>0.0</td>\n",
       "      <td>0</td>\n",
       "    </tr>\n",
       "    <tr>\n",
       "      <th>4</th>\n",
       "      <td>F105Q1000001</td>\n",
       "      <td>200508</td>\n",
       "      <td>189000.0</td>\n",
       "      <td>0.0</td>\n",
       "      <td>4</td>\n",
       "      <td>356</td>\n",
       "      <td>2</td>\n",
       "      <td>2</td>\n",
       "      <td>0.0</td>\n",
       "      <td>0.0</td>\n",
       "      <td>...</td>\n",
       "      <td>0.0</td>\n",
       "      <td>0.0</td>\n",
       "      <td>0.0</td>\n",
       "      <td>0.0</td>\n",
       "      <td>0.0</td>\n",
       "      <td>0.0</td>\n",
       "      <td>0.0</td>\n",
       "      <td>0.0</td>\n",
       "      <td>0.0</td>\n",
       "      <td>0</td>\n",
       "    </tr>\n",
       "  </tbody>\n",
       "</table>\n",
       "<p>5 rows × 25 columns</p>\n",
       "</div>"
      ],
      "text/plain": [
       "  LOAN_SEQUENCE_NUMBER  MONTHLY_REPORTING_PERIOD  CURRENT_ACTUAL_UPB  \\\n",
       "0         F105Q1000001                    200504            190000.0   \n",
       "1         F105Q1000001                    200505            190000.0   \n",
       "2         F105Q1000001                    200506            190000.0   \n",
       "3         F105Q1000001                    200507            189000.0   \n",
       "4         F105Q1000001                    200508            189000.0   \n",
       "\n",
       "   CURRENT_LOAN_DELINQUENCY_STATUS  LOAN_AGE  \\\n",
       "0                              0.0         0   \n",
       "1                              0.0         1   \n",
       "2                              0.0         2   \n",
       "3                              0.0         3   \n",
       "4                              0.0         4   \n",
       "\n",
       "   REMAINING_MONTHS_TO_LEGAL_MATURITY  REPURCHASE_FLAG  MODIFICATION_FLAG  \\\n",
       "0                                 360                2                  2   \n",
       "1                                 359                2                  2   \n",
       "2                                 358                2                  2   \n",
       "3                                 357                2                  2   \n",
       "4                                 356                2                  2   \n",
       "\n",
       "   ZERO_BALANCE_CODE  ZERO_BALANCE_EFFECTIVE_DATE    ...      \\\n",
       "0                0.0                          0.0    ...       \n",
       "1                0.0                          0.0    ...       \n",
       "2                0.0                          0.0    ...       \n",
       "3                0.0                          0.0    ...       \n",
       "4                0.0                          0.0    ...       \n",
       "\n",
       "   NON_MI_RECOVERIES  EXPENSES  Legal_Costs  \\\n",
       "0                0.0       0.0          0.0   \n",
       "1                0.0       0.0          0.0   \n",
       "2                0.0       0.0          0.0   \n",
       "3                0.0       0.0          0.0   \n",
       "4                0.0       0.0          0.0   \n",
       "\n",
       "   Maintenance_and_Preservation_Costs  Taxes_and_Insurance  \\\n",
       "0                                 0.0                  0.0   \n",
       "1                                 0.0                  0.0   \n",
       "2                                 0.0                  0.0   \n",
       "3                                 0.0                  0.0   \n",
       "4                                 0.0                  0.0   \n",
       "\n",
       "   Miscellaneous_Expenses  Actual_Loss_Calculation  Modification_Cost  \\\n",
       "0                     0.0                      0.0                0.0   \n",
       "1                     0.0                      0.0                0.0   \n",
       "2                     0.0                      0.0                0.0   \n",
       "3                     0.0                      0.0                0.0   \n",
       "4                     0.0                      0.0                0.0   \n",
       "\n",
       "   Unknown  Deliquent  \n",
       "0      0.0          0  \n",
       "1      0.0          0  \n",
       "2      0.0          0  \n",
       "3      0.0          0  \n",
       "4      0.0          0  \n",
       "\n",
       "[5 rows x 25 columns]"
      ]
     },
     "execution_count": 54,
     "metadata": {},
     "output_type": "execute_result"
    }
   ],
   "source": [
    "QD.head()"
   ]
  },
  {
   "cell_type": "code",
   "execution_count": 55,
   "metadata": {
    "collapsed": false
   },
   "outputs": [
    {
     "data": {
      "text/html": [
       "<div>\n",
       "<table border=\"1\" class=\"dataframe\">\n",
       "  <thead>\n",
       "    <tr style=\"text-align: right;\">\n",
       "      <th></th>\n",
       "      <th>LOAN_SEQUENCE_NUMBER</th>\n",
       "      <th>MONTHLY_REPORTING_PERIOD</th>\n",
       "      <th>CURRENT_ACTUAL_UPB</th>\n",
       "      <th>CURRENT_LOAN_DELINQUENCY_STATUS</th>\n",
       "      <th>LOAN_AGE</th>\n",
       "      <th>REMAINING_MONTHS_TO_LEGAL_MATURITY</th>\n",
       "      <th>REPURCHASE_FLAG</th>\n",
       "      <th>MODIFICATION_FLAG</th>\n",
       "      <th>ZERO_BALANCE_CODE</th>\n",
       "      <th>ZERO_BALANCE_EFFECTIVE_DATE</th>\n",
       "      <th>...</th>\n",
       "      <th>NON_MI_RECOVERIES</th>\n",
       "      <th>EXPENSES</th>\n",
       "      <th>Legal_Costs</th>\n",
       "      <th>Maintenance_and_Preservation_Costs</th>\n",
       "      <th>Taxes_and_Insurance</th>\n",
       "      <th>Miscellaneous_Expenses</th>\n",
       "      <th>Actual_Loss_Calculation</th>\n",
       "      <th>Modification_Cost</th>\n",
       "      <th>Unknown</th>\n",
       "      <th>Deliquent</th>\n",
       "    </tr>\n",
       "  </thead>\n",
       "  <tbody>\n",
       "    <tr>\n",
       "      <th>0</th>\n",
       "      <td>F105Q2000001</td>\n",
       "      <td>200507</td>\n",
       "      <td>214000.0</td>\n",
       "      <td>0.0</td>\n",
       "      <td>0</td>\n",
       "      <td>360</td>\n",
       "      <td>2</td>\n",
       "      <td>2</td>\n",
       "      <td>0.0</td>\n",
       "      <td>0.0</td>\n",
       "      <td>...</td>\n",
       "      <td>0.0</td>\n",
       "      <td>0.0</td>\n",
       "      <td>0.0</td>\n",
       "      <td>0.0</td>\n",
       "      <td>0.0</td>\n",
       "      <td>0.0</td>\n",
       "      <td>0.0</td>\n",
       "      <td>0.0</td>\n",
       "      <td>0.0</td>\n",
       "      <td>0</td>\n",
       "    </tr>\n",
       "    <tr>\n",
       "      <th>1</th>\n",
       "      <td>F105Q2000001</td>\n",
       "      <td>200508</td>\n",
       "      <td>214000.0</td>\n",
       "      <td>0.0</td>\n",
       "      <td>1</td>\n",
       "      <td>359</td>\n",
       "      <td>2</td>\n",
       "      <td>2</td>\n",
       "      <td>0.0</td>\n",
       "      <td>0.0</td>\n",
       "      <td>...</td>\n",
       "      <td>0.0</td>\n",
       "      <td>0.0</td>\n",
       "      <td>0.0</td>\n",
       "      <td>0.0</td>\n",
       "      <td>0.0</td>\n",
       "      <td>0.0</td>\n",
       "      <td>0.0</td>\n",
       "      <td>0.0</td>\n",
       "      <td>0.0</td>\n",
       "      <td>0</td>\n",
       "    </tr>\n",
       "    <tr>\n",
       "      <th>2</th>\n",
       "      <td>F105Q2000001</td>\n",
       "      <td>200509</td>\n",
       "      <td>214000.0</td>\n",
       "      <td>0.0</td>\n",
       "      <td>2</td>\n",
       "      <td>358</td>\n",
       "      <td>2</td>\n",
       "      <td>2</td>\n",
       "      <td>0.0</td>\n",
       "      <td>0.0</td>\n",
       "      <td>...</td>\n",
       "      <td>0.0</td>\n",
       "      <td>0.0</td>\n",
       "      <td>0.0</td>\n",
       "      <td>0.0</td>\n",
       "      <td>0.0</td>\n",
       "      <td>0.0</td>\n",
       "      <td>0.0</td>\n",
       "      <td>0.0</td>\n",
       "      <td>0.0</td>\n",
       "      <td>0</td>\n",
       "    </tr>\n",
       "    <tr>\n",
       "      <th>3</th>\n",
       "      <td>F105Q2000001</td>\n",
       "      <td>200510</td>\n",
       "      <td>213000.0</td>\n",
       "      <td>0.0</td>\n",
       "      <td>3</td>\n",
       "      <td>357</td>\n",
       "      <td>2</td>\n",
       "      <td>2</td>\n",
       "      <td>0.0</td>\n",
       "      <td>0.0</td>\n",
       "      <td>...</td>\n",
       "      <td>0.0</td>\n",
       "      <td>0.0</td>\n",
       "      <td>0.0</td>\n",
       "      <td>0.0</td>\n",
       "      <td>0.0</td>\n",
       "      <td>0.0</td>\n",
       "      <td>0.0</td>\n",
       "      <td>0.0</td>\n",
       "      <td>0.0</td>\n",
       "      <td>0</td>\n",
       "    </tr>\n",
       "    <tr>\n",
       "      <th>4</th>\n",
       "      <td>F105Q2000001</td>\n",
       "      <td>200511</td>\n",
       "      <td>213000.0</td>\n",
       "      <td>0.0</td>\n",
       "      <td>4</td>\n",
       "      <td>356</td>\n",
       "      <td>2</td>\n",
       "      <td>2</td>\n",
       "      <td>0.0</td>\n",
       "      <td>0.0</td>\n",
       "      <td>...</td>\n",
       "      <td>0.0</td>\n",
       "      <td>0.0</td>\n",
       "      <td>0.0</td>\n",
       "      <td>0.0</td>\n",
       "      <td>0.0</td>\n",
       "      <td>0.0</td>\n",
       "      <td>0.0</td>\n",
       "      <td>0.0</td>\n",
       "      <td>0.0</td>\n",
       "      <td>0</td>\n",
       "    </tr>\n",
       "  </tbody>\n",
       "</table>\n",
       "<p>5 rows × 25 columns</p>\n",
       "</div>"
      ],
      "text/plain": [
       "  LOAN_SEQUENCE_NUMBER  MONTHLY_REPORTING_PERIOD  CURRENT_ACTUAL_UPB  \\\n",
       "0         F105Q2000001                    200507            214000.0   \n",
       "1         F105Q2000001                    200508            214000.0   \n",
       "2         F105Q2000001                    200509            214000.0   \n",
       "3         F105Q2000001                    200510            213000.0   \n",
       "4         F105Q2000001                    200511            213000.0   \n",
       "\n",
       "   CURRENT_LOAN_DELINQUENCY_STATUS  LOAN_AGE  \\\n",
       "0                              0.0         0   \n",
       "1                              0.0         1   \n",
       "2                              0.0         2   \n",
       "3                              0.0         3   \n",
       "4                              0.0         4   \n",
       "\n",
       "   REMAINING_MONTHS_TO_LEGAL_MATURITY  REPURCHASE_FLAG  MODIFICATION_FLAG  \\\n",
       "0                                 360                2                  2   \n",
       "1                                 359                2                  2   \n",
       "2                                 358                2                  2   \n",
       "3                                 357                2                  2   \n",
       "4                                 356                2                  2   \n",
       "\n",
       "   ZERO_BALANCE_CODE  ZERO_BALANCE_EFFECTIVE_DATE    ...      \\\n",
       "0                0.0                          0.0    ...       \n",
       "1                0.0                          0.0    ...       \n",
       "2                0.0                          0.0    ...       \n",
       "3                0.0                          0.0    ...       \n",
       "4                0.0                          0.0    ...       \n",
       "\n",
       "   NON_MI_RECOVERIES  EXPENSES  Legal_Costs  \\\n",
       "0                0.0       0.0          0.0   \n",
       "1                0.0       0.0          0.0   \n",
       "2                0.0       0.0          0.0   \n",
       "3                0.0       0.0          0.0   \n",
       "4                0.0       0.0          0.0   \n",
       "\n",
       "   Maintenance_and_Preservation_Costs  Taxes_and_Insurance  \\\n",
       "0                                 0.0                  0.0   \n",
       "1                                 0.0                  0.0   \n",
       "2                                 0.0                  0.0   \n",
       "3                                 0.0                  0.0   \n",
       "4                                 0.0                  0.0   \n",
       "\n",
       "   Miscellaneous_Expenses  Actual_Loss_Calculation  Modification_Cost  \\\n",
       "0                     0.0                      0.0                0.0   \n",
       "1                     0.0                      0.0                0.0   \n",
       "2                     0.0                      0.0                0.0   \n",
       "3                     0.0                      0.0                0.0   \n",
       "4                     0.0                      0.0                0.0   \n",
       "\n",
       "   Unknown  Deliquent  \n",
       "0      0.0          0  \n",
       "1      0.0          0  \n",
       "2      0.0          0  \n",
       "3      0.0          0  \n",
       "4      0.0          0  \n",
       "\n",
       "[5 rows x 25 columns]"
      ]
     },
     "execution_count": 55,
     "metadata": {},
     "output_type": "execute_result"
    }
   ],
   "source": [
    "QD1.head()"
   ]
  },
  {
   "cell_type": "code",
   "execution_count": 56,
   "metadata": {
    "collapsed": true
   },
   "outputs": [],
   "source": [
    "train_y =QD['Deliquent']\n",
    "train_colsToKeep = ['LOAN_AGE','ZERO_BALANCE_CODE','REPURCHASE_FLAG','MODIFICATION_FLAG','CURRENT_INTEREST_RATE',\n",
    "             'CURRENT_DEFERRED_UPB','REMAINING_MONTHS_TO_LEGAL_MATURITY','NET_SALES_PROCEEDS','NON_MI_RECOVERIES','Actual_Loss_Calculation']\n",
    "\n",
    "train_X = QD[train_colsToKeep]\n",
    "\n",
    "train_y = np.ravel(train_y)\n"
   ]
  },
  {
   "cell_type": "code",
   "execution_count": 57,
   "metadata": {
    "collapsed": true
   },
   "outputs": [],
   "source": [
    "test_y =QD1['Deliquent']\n",
    "test_colsToKeep = ['LOAN_AGE','ZERO_BALANCE_CODE','REPURCHASE_FLAG','MODIFICATION_FLAG','CURRENT_INTEREST_RATE',\n",
    "             'CURRENT_DEFERRED_UPB','REMAINING_MONTHS_TO_LEGAL_MATURITY','NET_SALES_PROCEEDS','NON_MI_RECOVERIES','Actual_Loss_Calculation']\n",
    "\n",
    "test_X = QD1[test_colsToKeep]\n",
    "\n",
    "test_y = np.ravel(test_y)"
   ]
  },
  {
   "cell_type": "code",
   "execution_count": 58,
   "metadata": {
    "collapsed": true
   },
   "outputs": [],
   "source": [
    "### train data , first for first dataframe\n",
    "Xtrain= train_X\n",
    "y_train = train_y"
   ]
  },
  {
   "cell_type": "code",
   "execution_count": 59,
   "metadata": {
    "collapsed": true
   },
   "outputs": [],
   "source": [
    "### test data, second for first dataframe\n",
    "X_test = test_X\n",
    "y_test = test_y"
   ]
  },
  {
   "cell_type": "code",
   "execution_count": 60,
   "metadata": {
    "collapsed": false,
    "scrolled": true
   },
   "outputs": [
    {
     "name": "stderr",
     "output_type": "stream",
     "text": [
      "[Parallel(n_jobs=1)]: Done  20 out of  20 | elapsed:  1.9min finished\n"
     ]
    }
   ],
   "source": [
    "clf = RandomForestClassifier(n_estimators=20,verbose =1,min_samples_split=2)\n",
    "clf = clf.fit(Xtrain, y_train)"
   ]
  },
  {
   "cell_type": "code",
   "execution_count": 61,
   "metadata": {
    "collapsed": false
   },
   "outputs": [
    {
     "name": "stderr",
     "output_type": "stream",
     "text": [
      "[Parallel(n_jobs=1)]: Done  20 out of  20 | elapsed:   56.8s finished\n",
      "[Parallel(n_jobs=1)]: Done  20 out of  20 | elapsed:    2.9s finished\n",
      "[Parallel(n_jobs=1)]: Done  20 out of  20 | elapsed:   59.5s finished\n",
      "[Parallel(n_jobs=1)]: Done  20 out of  20 | elapsed:    2.6s finished\n",
      "[Parallel(n_jobs=1)]: Done  20 out of  20 | elapsed:   59.1s finished\n",
      "[Parallel(n_jobs=1)]: Done  20 out of  20 | elapsed:    2.6s finished\n"
     ]
    }
   ],
   "source": [
    "scores = cross_val_score(clf, X_test, y_test)"
   ]
  },
  {
   "cell_type": "code",
   "execution_count": 62,
   "metadata": {
    "collapsed": false
   },
   "outputs": [
    {
     "data": {
      "text/plain": [
       "0.95350559993838502"
      ]
     },
     "execution_count": 62,
     "metadata": {},
     "output_type": "execute_result"
    }
   ],
   "source": [
    "scores.mean() "
   ]
  },
  {
   "cell_type": "code",
   "execution_count": 63,
   "metadata": {
    "collapsed": false
   },
   "outputs": [
    {
     "name": "stderr",
     "output_type": "stream",
     "text": [
      "[Parallel(n_jobs=1)]: Done  20 out of  20 | elapsed:    9.6s finished\n"
     ]
    }
   ],
   "source": [
    "pred = clf.predict(X_test)"
   ]
  },
  {
   "cell_type": "code",
   "execution_count": 64,
   "metadata": {
    "collapsed": false
   },
   "outputs": [
    {
     "data": {
      "text/plain": [
       "0.95320159999999998"
      ]
     },
     "execution_count": 64,
     "metadata": {},
     "output_type": "execute_result"
    }
   ],
   "source": [
    "metrics.accuracy_score(y_test,pred)"
   ]
  },
  {
   "cell_type": "code",
   "execution_count": 70,
   "metadata": {
    "collapsed": false
   },
   "outputs": [
    {
     "data": {
      "text/html": [
       "<div>\n",
       "<table border=\"1\" class=\"dataframe\">\n",
       "  <thead>\n",
       "    <tr style=\"text-align: right;\">\n",
       "      <th>ytest</th>\n",
       "      <th>0</th>\n",
       "      <th>1</th>\n",
       "    </tr>\n",
       "    <tr>\n",
       "      <th>pred</th>\n",
       "      <th></th>\n",
       "      <th></th>\n",
       "    </tr>\n",
       "  </thead>\n",
       "  <tbody>\n",
       "    <tr>\n",
       "      <th>0</th>\n",
       "      <td>2375995</td>\n",
       "      <td>108381</td>\n",
       "    </tr>\n",
       "    <tr>\n",
       "      <th>1</th>\n",
       "      <td>8615</td>\n",
       "      <td>7009</td>\n",
       "    </tr>\n",
       "  </tbody>\n",
       "</table>\n",
       "</div>"
      ],
      "text/plain": [
       "ytest        0       1\n",
       "pred                  \n",
       "0      2375995  108381\n",
       "1         8615    7009"
      ]
     },
     "execution_count": 70,
     "metadata": {},
     "output_type": "execute_result"
    }
   ],
   "source": [
    "pd.crosstab(pred, y_test,rownames=['pred'],colnames=['ytest'])"
   ]
  },
  {
   "cell_type": "code",
   "execution_count": null,
   "metadata": {
    "collapsed": true
   },
   "outputs": [],
   "source": [
    "print(\"Saving the model\")"
   ]
  },
  {
   "cell_type": "code",
   "execution_count": null,
   "metadata": {
    "collapsed": true
   },
   "outputs": [],
   "source": [
    "# save the model to disk\n",
    "filename = 'RandomForest_model.sav'\n",
    "pickle.dump(clf, open(filename, 'wb'))"
   ]
  },
  {
   "cell_type": "code",
   "execution_count": 74,
   "metadata": {
    "collapsed": false
   },
   "outputs": [
    {
     "name": "stderr",
     "output_type": "stream",
     "text": [
      "[Parallel(n_jobs=1)]: Done  20 out of  20 | elapsed:   11.1s finished\n"
     ]
    }
   ],
   "source": [
    "preds = clf.predict_proba(X_test)[:,1]\n",
    "fpr,tpr, _ = roc_curve(y_test,preds)"
   ]
  },
  {
   "cell_type": "code",
   "execution_count": 76,
   "metadata": {
    "collapsed": false
   },
   "outputs": [
    {
     "data": {
      "image/png": "[encoded data removed]",
      "text/plain": [
       "<matplotlib.figure.Figure at 0x11ba647f0>"
      ]
     },
     "metadata": {},
     "output_type": "display_data"
    }
   ],
   "source": [
    "plt.figure()\n",
    "plt.plot(fpr,tpr,label= \"ROC CURVE\")\n",
    "plt.plot([0,1],[0,1],'k--')\n",
    "plt.xlim([0.0,1.0])\n",
    "plt.ylim([0.0,1.05])\n",
    "plt.xlabel('1-Specificity')\n",
    "plt.ylabel('Sensitivity')\n",
    "plt.title('ROC CURVE')\n",
    "plt.legend(loc=\"lower right\")\n",
    "plt.show()"
   ]
  },
  {
   "cell_type": "code",
   "execution_count": 73,
   "metadata": {
    "collapsed": false
   },
   "outputs": [],
   "source": [
    "print(\"The End..!\")"
   ]
  }
 ],
 "metadata": {
  "anaconda-cloud": {},
  "kernelspec": {
   "display_name": "Python [conda root]",
   "language": "python",
   "name": "conda-root-py"
  },
  "language_info": {
   "codemirror_mode": {
    "name": "ipython",
    "version": 3
   },
   "file_extension": ".py",
   "mimetype": "text/x-python",
   "name": "python",
   "nbconvert_exporter": "python",
   "pygments_lexer": "ipython3",
   "version": "3.5.2"
  }
 },
 "nbformat": 4,
 "nbformat_minor": 1
}
