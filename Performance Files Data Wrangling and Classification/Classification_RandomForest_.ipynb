{
 "cells": [
  {
   "cell_type": "code",
   "execution_count": 33,
   "metadata": {
    "collapsed": false
   },
   "outputs": [],
   "source": [
    "import pickle\n",
    "import pandas as pd\n",
    "import numpy as np\n",
    "from sklearn.cross_validation  import cross_val_score\n",
    "from sklearn.ensemble import RandomForestClassifier\n",
    "import statsmodels.api as sm\n",
    "from statsmodels.formula.api import logit, probit, poisson, ols\n",
    "from sklearn.cross_validation import train_test_split\n",
    "from sklearn.metrics import confusion_matrix\n",
    "from sklearn.metrics import roc_curve\n",
    "from sklearn import metrics\n",
    "from sklearn import svm\n",
    "import os"
   ]
  },
  {
   "cell_type": "code",
   "execution_count": 6,
   "metadata": {
    "collapsed": false
   },
   "outputs": [
    {
     "data": {
      "text/plain": [
       "'H:\\\\Advance Data Science\\\\Midterm'"
      ]
     },
     "execution_count": 6,
     "metadata": {},
     "output_type": "execute_result"
    }
   ],
   "source": [
    "os.getcwd()"
   ]
  },
  {
   "cell_type": "code",
   "execution_count": 5,
   "metadata": {
    "collapsed": true
   },
   "outputs": [],
   "source": [
    "os.chdir(\"H:\\Advance Data Science\\Midterm\")"
   ]
  },
  {
   "cell_type": "code",
   "execution_count": 7,
   "metadata": {
    "collapsed": false
   },
   "outputs": [
    {
     "name": "stderr",
     "output_type": "stream",
     "text": [
      "C:\\Users\\sweta\\Anaconda3\\lib\\site-packages\\IPython\\core\\interactiveshell.py:2717: DtypeWarning: Columns (3,14,15) have mixed types. Specify dtype option on import or set low_memory=False.\n",
      "  interactivity=interactivity, compiler=compiler, result=result)\n"
     ]
    }
   ],
   "source": [
    "QuarterData1 = pd.read_csv('Sample_Orgination_Validated_2005.csv',index_col=None)"
   ]
  },
  {
   "cell_type": "code",
   "execution_count": 18,
   "metadata": {
    "collapsed": false
   },
   "outputs": [
    {
     "data": {
      "text/plain": [
       "LOAN_SEQUENCE_NUMBER                        object\n",
       "MONTHLY_REPORTING_PERIOD                     int64\n",
       "CURRENT_ACTUAL_UPB                         float64\n",
       "CURRENT_LOAN_DELINQUENCY_STATUS             object\n",
       "LOAN_AGE                                     int64\n",
       "REMAINING_MONTHS_TO_LEGAL_MATURITY           int64\n",
       "REPURCHASE_FLAG                             object\n",
       "MODIFICATION_FLAG                           object\n",
       "ZERO_BALANCE_CODE                          float64\n",
       "ZERO_BALANCE_EFFECTIVE_DATE                float64\n",
       "CURRENT_INTEREST_RATE                      float64\n",
       "CURRENT_DEFERRED_UPB                       float64\n",
       "DUE_DATE_OF_LAST_PAID_INSTALLMENT_DDLPI    float64\n",
       "MI_RECOVERIES                              float64\n",
       "NET_SALES_PROCEEDS                          object\n",
       "NON_MI_RECOVERIES                           object\n",
       "EXPENSES                                   float64\n",
       "Legal_Costs                                float64\n",
       "Maintenance_and_Preservation_Costs         float64\n",
       "Taxes_and_Insurance                        float64\n",
       "Miscellaneous_Expenses                     float64\n",
       "Actual_Loss_Calculation                    float64\n",
       "dtype: object"
      ]
     },
     "execution_count": 18,
     "metadata": {},
     "output_type": "execute_result"
    }
   ],
   "source": [
    "#QuarterData1.dtypes"
   ]
  },
  {
   "cell_type": "code",
   "execution_count": 8,
   "metadata": {
    "collapsed": false
   },
   "outputs": [],
   "source": [
    "QD = QuarterData1"
   ]
  },
  {
   "cell_type": "code",
   "execution_count": 9,
   "metadata": {
    "collapsed": false
   },
   "outputs": [
    {
     "name": "stderr",
     "output_type": "stream",
     "text": [
      "C:\\Users\\sweta\\Anaconda3\\lib\\site-packages\\ipykernel\\__main__.py:1: FutureWarning: convert_objects is deprecated.  Use the data-type specific converters pd.to_datetime, pd.to_timedelta and pd.to_numeric.\n",
      "  if __name__ == '__main__':\n"
     ]
    }
   ],
   "source": [
    "QD = QD.convert_objects(convert_numeric=True)"
   ]
  },
  {
   "cell_type": "code",
   "execution_count": 5,
   "metadata": {
    "collapsed": false
   },
   "outputs": [
    {
     "data": {
      "text/plain": [
       "LOAN_SEQUENCE_NUMBER                       False\n",
       "MONTHLY_REPORTING_PERIOD                   False\n",
       "CURRENT_ACTUAL_UPB                         False\n",
       "CURRENT_LOAN_DELINQUENCY_STATUS             True\n",
       "LOAN_AGE                                   False\n",
       "REMAINING_MONTHS_TO_LEGAL_MATURITY         False\n",
       "REPURCHASE_FLAG                            False\n",
       "MODIFICATION_FLAG                          False\n",
       "ZERO_BALANCE_CODE                          False\n",
       "ZERO_BALANCE_EFFECTIVE_DATE                False\n",
       "CURRENT_INTEREST_RATE                      False\n",
       "CURRENT_DEFERRED_UPB                       False\n",
       "DUE_DATE_OF_LAST_PAID_INSTALLMENT_DDLPI    False\n",
       "MI_RECOVERIES                              False\n",
       "NET_SALES_PROCEEDS                          True\n",
       "NON_MI_RECOVERIES                           True\n",
       "EXPENSES                                   False\n",
       "Legal_Costs                                False\n",
       "Maintenance_and_Preservation_Costs         False\n",
       "Taxes_and_Insurance                        False\n",
       "Miscellaneous_Expenses                     False\n",
       "Actual_Loss_Calculation                    False\n",
       "dtype: bool"
      ]
     },
     "execution_count": 5,
     "metadata": {},
     "output_type": "execute_result"
    }
   ],
   "source": [
    "#pd.isnull(QD).sum() > 0"
   ]
  },
  {
   "cell_type": "code",
   "execution_count": 10,
   "metadata": {
    "collapsed": true
   },
   "outputs": [],
   "source": [
    "QD['CURRENT_LOAN_DELINQUENCY_STATUS'].replace('nan',999,inplace=True)"
   ]
  },
  {
   "cell_type": "code",
   "execution_count": 11,
   "metadata": {
    "collapsed": true
   },
   "outputs": [],
   "source": [
    "QD['Deliquent'] = (QD.CURRENT_LOAN_DELINQUENCY_STATUS>0).astype(int)"
   ]
  },
  {
   "cell_type": "code",
   "execution_count": 12,
   "metadata": {
    "collapsed": false
   },
   "outputs": [
    {
     "data": {
      "text/plain": [
       "array([0, 1], dtype=int64)"
      ]
     },
     "execution_count": 12,
     "metadata": {},
     "output_type": "execute_result"
    }
   ],
   "source": [
    "QD['Deliquent'].unique()"
   ]
  },
  {
   "cell_type": "code",
   "execution_count": 13,
   "metadata": {
    "collapsed": false
   },
   "outputs": [
    {
     "data": {
      "text/plain": [
       "array([ 0.,  1.,  6.,  9.,  3.])"
      ]
     },
     "execution_count": 13,
     "metadata": {},
     "output_type": "execute_result"
    }
   ],
   "source": [
    "QD['ZERO_BALANCE_CODE'].unique()"
   ]
  },
  {
   "cell_type": "code",
   "execution_count": 14,
   "metadata": {
    "collapsed": false
   },
   "outputs": [],
   "source": [
    "QD['MODIFICATION_FLAG'] = QD['MODIFICATION_FLAG'].replace('Y',1)\n",
    "QD['MODIFICATION_FLAG'] = QD['MODIFICATION_FLAG'].replace('U',0)\n",
    "QD['MODIFICATION_FLAG'] = QD['MODIFICATION_FLAG'].replace('N',1)\n",
    "\n",
    "QD['REPURCHASE_FLAG'] = QD['REPURCHASE_FLAG'].replace('U',0)\n",
    "QD['REPURCHASE_FLAG'] = QD['REPURCHASE_FLAG'].replace('N',2)\n",
    "QD['REPURCHASE_FLAG'] = QD['REPURCHASE_FLAG'].replace('Y',1)\n",
    "\n",
    "QD['EXPENSES'].fillna(0,inplace=True)\n",
    "QD['NET_SALES_PROCEEDS'].fillna(0,inplace=True)\n",
    "QD['NON_MI_RECOVERIES'].fillna(0,inplace=True)"
   ]
  },
  {
   "cell_type": "code",
   "execution_count": 15,
   "metadata": {
    "collapsed": false
   },
   "outputs": [
    {
     "data": {
      "text/html": [
       "<div>\n",
       "<table border=\"1\" class=\"dataframe\">\n",
       "  <thead>\n",
       "    <tr style=\"text-align: right;\">\n",
       "      <th></th>\n",
       "      <th>LOAN_SEQUENCE_NUMBER</th>\n",
       "      <th>MONTHLY_REPORTING_PERIOD</th>\n",
       "      <th>CURRENT_ACTUAL_UPB</th>\n",
       "      <th>CURRENT_LOAN_DELINQUENCY_STATUS</th>\n",
       "      <th>LOAN_AGE</th>\n",
       "      <th>REMAINING_MONTHS_TO_LEGAL_MATURITY</th>\n",
       "      <th>REPURCHASE_FLAG</th>\n",
       "      <th>MODIFICATION_FLAG</th>\n",
       "      <th>ZERO_BALANCE_CODE</th>\n",
       "      <th>ZERO_BALANCE_EFFECTIVE_DATE</th>\n",
       "      <th>...</th>\n",
       "      <th>MI_RECOVERIES</th>\n",
       "      <th>NET_SALES_PROCEEDS</th>\n",
       "      <th>NON_MI_RECOVERIES</th>\n",
       "      <th>EXPENSES</th>\n",
       "      <th>Legal_Costs</th>\n",
       "      <th>Maintenance_and_Preservation_Costs</th>\n",
       "      <th>Taxes_and_Insurance</th>\n",
       "      <th>Miscellaneous_Expenses</th>\n",
       "      <th>Actual_Loss_Calculation</th>\n",
       "      <th>Deliquent</th>\n",
       "    </tr>\n",
       "  </thead>\n",
       "  <tbody>\n",
       "    <tr>\n",
       "      <th>0</th>\n",
       "      <td>F105Q1000064</td>\n",
       "      <td>200503</td>\n",
       "      <td>62000.0</td>\n",
       "      <td>0.0</td>\n",
       "      <td>0</td>\n",
       "      <td>360</td>\n",
       "      <td>0</td>\n",
       "      <td>0</td>\n",
       "      <td>0.0</td>\n",
       "      <td>0.0</td>\n",
       "      <td>...</td>\n",
       "      <td>0.0</td>\n",
       "      <td>0.0</td>\n",
       "      <td>0.0</td>\n",
       "      <td>0.0</td>\n",
       "      <td>0.0</td>\n",
       "      <td>0.0</td>\n",
       "      <td>0.0</td>\n",
       "      <td>0.0</td>\n",
       "      <td>0.0</td>\n",
       "      <td>0</td>\n",
       "    </tr>\n",
       "    <tr>\n",
       "      <th>1</th>\n",
       "      <td>F105Q1000064</td>\n",
       "      <td>200504</td>\n",
       "      <td>62000.0</td>\n",
       "      <td>0.0</td>\n",
       "      <td>1</td>\n",
       "      <td>359</td>\n",
       "      <td>0</td>\n",
       "      <td>0</td>\n",
       "      <td>0.0</td>\n",
       "      <td>0.0</td>\n",
       "      <td>...</td>\n",
       "      <td>0.0</td>\n",
       "      <td>0.0</td>\n",
       "      <td>0.0</td>\n",
       "      <td>0.0</td>\n",
       "      <td>0.0</td>\n",
       "      <td>0.0</td>\n",
       "      <td>0.0</td>\n",
       "      <td>0.0</td>\n",
       "      <td>0.0</td>\n",
       "      <td>0</td>\n",
       "    </tr>\n",
       "    <tr>\n",
       "      <th>2</th>\n",
       "      <td>F105Q1000064</td>\n",
       "      <td>200505</td>\n",
       "      <td>62000.0</td>\n",
       "      <td>0.0</td>\n",
       "      <td>2</td>\n",
       "      <td>358</td>\n",
       "      <td>0</td>\n",
       "      <td>0</td>\n",
       "      <td>0.0</td>\n",
       "      <td>0.0</td>\n",
       "      <td>...</td>\n",
       "      <td>0.0</td>\n",
       "      <td>0.0</td>\n",
       "      <td>0.0</td>\n",
       "      <td>0.0</td>\n",
       "      <td>0.0</td>\n",
       "      <td>0.0</td>\n",
       "      <td>0.0</td>\n",
       "      <td>0.0</td>\n",
       "      <td>0.0</td>\n",
       "      <td>0</td>\n",
       "    </tr>\n",
       "    <tr>\n",
       "      <th>3</th>\n",
       "      <td>F105Q1000064</td>\n",
       "      <td>200506</td>\n",
       "      <td>62000.0</td>\n",
       "      <td>0.0</td>\n",
       "      <td>3</td>\n",
       "      <td>357</td>\n",
       "      <td>0</td>\n",
       "      <td>0</td>\n",
       "      <td>0.0</td>\n",
       "      <td>0.0</td>\n",
       "      <td>...</td>\n",
       "      <td>0.0</td>\n",
       "      <td>0.0</td>\n",
       "      <td>0.0</td>\n",
       "      <td>0.0</td>\n",
       "      <td>0.0</td>\n",
       "      <td>0.0</td>\n",
       "      <td>0.0</td>\n",
       "      <td>0.0</td>\n",
       "      <td>0.0</td>\n",
       "      <td>0</td>\n",
       "    </tr>\n",
       "    <tr>\n",
       "      <th>4</th>\n",
       "      <td>F105Q1000064</td>\n",
       "      <td>200507</td>\n",
       "      <td>62000.0</td>\n",
       "      <td>0.0</td>\n",
       "      <td>4</td>\n",
       "      <td>356</td>\n",
       "      <td>0</td>\n",
       "      <td>0</td>\n",
       "      <td>0.0</td>\n",
       "      <td>0.0</td>\n",
       "      <td>...</td>\n",
       "      <td>0.0</td>\n",
       "      <td>0.0</td>\n",
       "      <td>0.0</td>\n",
       "      <td>0.0</td>\n",
       "      <td>0.0</td>\n",
       "      <td>0.0</td>\n",
       "      <td>0.0</td>\n",
       "      <td>0.0</td>\n",
       "      <td>0.0</td>\n",
       "      <td>0</td>\n",
       "    </tr>\n",
       "  </tbody>\n",
       "</table>\n",
       "<p>5 rows × 23 columns</p>\n",
       "</div>"
      ],
      "text/plain": [
       "  LOAN_SEQUENCE_NUMBER  MONTHLY_REPORTING_PERIOD  CURRENT_ACTUAL_UPB  \\\n",
       "0         F105Q1000064                    200503             62000.0   \n",
       "1         F105Q1000064                    200504             62000.0   \n",
       "2         F105Q1000064                    200505             62000.0   \n",
       "3         F105Q1000064                    200506             62000.0   \n",
       "4         F105Q1000064                    200507             62000.0   \n",
       "\n",
       "   CURRENT_LOAN_DELINQUENCY_STATUS  LOAN_AGE  \\\n",
       "0                              0.0         0   \n",
       "1                              0.0         1   \n",
       "2                              0.0         2   \n",
       "3                              0.0         3   \n",
       "4                              0.0         4   \n",
       "\n",
       "   REMAINING_MONTHS_TO_LEGAL_MATURITY  REPURCHASE_FLAG  MODIFICATION_FLAG  \\\n",
       "0                                 360                0                  0   \n",
       "1                                 359                0                  0   \n",
       "2                                 358                0                  0   \n",
       "3                                 357                0                  0   \n",
       "4                                 356                0                  0   \n",
       "\n",
       "   ZERO_BALANCE_CODE  ZERO_BALANCE_EFFECTIVE_DATE    ...      MI_RECOVERIES  \\\n",
       "0                0.0                          0.0    ...                0.0   \n",
       "1                0.0                          0.0    ...                0.0   \n",
       "2                0.0                          0.0    ...                0.0   \n",
       "3                0.0                          0.0    ...                0.0   \n",
       "4                0.0                          0.0    ...                0.0   \n",
       "\n",
       "   NET_SALES_PROCEEDS  NON_MI_RECOVERIES  EXPENSES  Legal_Costs  \\\n",
       "0                 0.0                0.0       0.0          0.0   \n",
       "1                 0.0                0.0       0.0          0.0   \n",
       "2                 0.0                0.0       0.0          0.0   \n",
       "3                 0.0                0.0       0.0          0.0   \n",
       "4                 0.0                0.0       0.0          0.0   \n",
       "\n",
       "   Maintenance_and_Preservation_Costs  Taxes_and_Insurance  \\\n",
       "0                                 0.0                  0.0   \n",
       "1                                 0.0                  0.0   \n",
       "2                                 0.0                  0.0   \n",
       "3                                 0.0                  0.0   \n",
       "4                                 0.0                  0.0   \n",
       "\n",
       "   Miscellaneous_Expenses  Actual_Loss_Calculation  Deliquent  \n",
       "0                     0.0                      0.0          0  \n",
       "1                     0.0                      0.0          0  \n",
       "2                     0.0                      0.0          0  \n",
       "3                     0.0                      0.0          0  \n",
       "4                     0.0                      0.0          0  \n",
       "\n",
       "[5 rows x 23 columns]"
      ]
     },
     "execution_count": 15,
     "metadata": {},
     "output_type": "execute_result"
    }
   ],
   "source": [
    "QD.head()"
   ]
  },
  {
   "cell_type": "code",
   "execution_count": 16,
   "metadata": {
    "collapsed": false
   },
   "outputs": [
    {
     "data": {
      "text/plain": [
       "array([   0.,    1.,    2.,    3.,    4.,    5.,    6.,    7.,    8.,\n",
       "          9.,   10.,   11.,   12.,   13.,   14.,  999.,   15.,   16.,\n",
       "         17.,   18.,   19.,   20.,   21.,   22.,   23.,   24.,   25.,\n",
       "         26.,   27.,   28.,   29.,   30.,   31.,   32.,   33.,   34.,\n",
       "         35.,   36.,   37.,   38.,   39.,   40.,   41.,   42.,   43.,\n",
       "         44.,   45.,   46.,   47.,   48.,   49.,   50.,   51.,   52.,\n",
       "         53.,   54.,   55.,   56.,   57.,   58.,   59.,   60.,   61.,\n",
       "         62.,   63.,   64.,   65.,   66.,   67.,   68.,   69.,   70.,\n",
       "         71.,   72.,   73.,   74.,   75.,   76.,   77.,   78.,   79.,\n",
       "         80.,   81.,   82.,   83.,   84.,   85.,   86.,   87.,   88.,\n",
       "         89.,   90.,   91.,   92.,   93.,   94.,   95.,   96.,   97.,\n",
       "         98.,   99.,  100.,  122.])"
      ]
     },
     "execution_count": 16,
     "metadata": {},
     "output_type": "execute_result"
    }
   ],
   "source": [
    "QD['CURRENT_LOAN_DELINQUENCY_STATUS'].unique()"
   ]
  },
  {
   "cell_type": "code",
   "execution_count": 17,
   "metadata": {
    "collapsed": false
   },
   "outputs": [],
   "source": [
    "y =QD['Deliquent']\n",
    "colsToKeep = ['LOAN_AGE','ZERO_BALANCE_CODE','REPURCHASE_FLAG','MODIFICATION_FLAG','CURRENT_INTEREST_RATE',\n",
    "             'CURRENT_DEFERRED_UPB','REMAINING_MONTHS_TO_LEGAL_MATURITY','NET_SALES_PROCEEDS','NON_MI_RECOVERIES','Actual_Loss_Calculation']\n",
    "#'LOAN_AGE','REMAINING_MONTHS_TO_LEGAL_MATURITY','CURRENT_INTEREST_RATE','CURRENT_DEFERRED_UPB','CURRENT_ACTUAL_UPB']\n",
    "#'REMAINING_MONTHS_TO_LEGAL_MATURITY,'NET_SALES_PROCEEDS','NON_MI_RECOVERIES','Actual_Loss_Calculation'\n",
    "X = QD[colsToKeep]\n",
    "\n",
    "y = np.ravel(y)"
   ]
  },
  {
   "cell_type": "code",
   "execution_count": 18,
   "metadata": {
    "collapsed": true
   },
   "outputs": [],
   "source": [
    "Xtrain, X_test, y_train, y_test = train_test_split(X,y, random_state=0)"
   ]
  },
  {
   "cell_type": "code",
   "execution_count": 19,
   "metadata": {
    "collapsed": false
   },
   "outputs": [
    {
     "name": "stderr",
     "output_type": "stream",
     "text": [
      "[Parallel(n_jobs=1)]: Done  20 out of  20 | elapsed:  3.3min finished\n"
     ]
    }
   ],
   "source": [
    "clf = RandomForestClassifier(n_estimators=20,verbose =1,min_samples_split=2)\n",
    "clf = clf.fit(Xtrain, y_train)"
   ]
  },
  {
   "cell_type": "code",
   "execution_count": 24,
   "metadata": {
    "collapsed": false
   },
   "outputs": [
    {
     "name": "stderr",
     "output_type": "stream",
     "text": [
      "[Parallel(n_jobs=1)]: Done  20 out of  20 | elapsed:   23.8s finished\n",
      "[Parallel(n_jobs=1)]: Done  20 out of  20 | elapsed:    1.7s finished\n",
      "[Parallel(n_jobs=1)]: Done  20 out of  20 | elapsed:   18.0s finished\n",
      "[Parallel(n_jobs=1)]: Done  20 out of  20 | elapsed:    1.7s finished\n",
      "[Parallel(n_jobs=1)]: Done  20 out of  20 | elapsed:   18.2s finished\n",
      "[Parallel(n_jobs=1)]: Done  20 out of  20 | elapsed:    1.6s finished\n"
     ]
    }
   ],
   "source": [
    "scores = cross_val_score(clf, X_test, y_test)"
   ]
  },
  {
   "cell_type": "code",
   "execution_count": 25,
   "metadata": {
    "collapsed": false
   },
   "outputs": [
    {
     "data": {
      "text/plain": [
       "0.95231603787740149"
      ]
     },
     "execution_count": 25,
     "metadata": {},
     "output_type": "execute_result"
    }
   ],
   "source": [
    "scores.mean() "
   ]
  },
  {
   "cell_type": "code",
   "execution_count": 26,
   "metadata": {
    "collapsed": false
   },
   "outputs": [
    {
     "name": "stderr",
     "output_type": "stream",
     "text": [
      "[Parallel(n_jobs=1)]: Done  20 out of  20 | elapsed:    6.1s finished\n"
     ]
    }
   ],
   "source": [
    "pred = clf.predict(X_test)"
   ]
  },
  {
   "cell_type": "code",
   "execution_count": 27,
   "metadata": {
    "collapsed": false
   },
   "outputs": [
    {
     "data": {
      "text/plain": [
       "0.95306686898955251"
      ]
     },
     "execution_count": 27,
     "metadata": {},
     "output_type": "execute_result"
    }
   ],
   "source": [
    "metrics.accuracy_score(y_test,pred)"
   ]
  },
  {
   "cell_type": "code",
   "execution_count": 28,
   "metadata": {
    "collapsed": false
   },
   "outputs": [
    {
     "data": {
      "text/html": [
       "<div>\n",
       "<table border=\"1\" class=\"dataframe\">\n",
       "  <thead>\n",
       "    <tr style=\"text-align: right;\">\n",
       "      <th>ytest</th>\n",
       "      <th>0</th>\n",
       "      <th>1</th>\n",
       "    </tr>\n",
       "    <tr>\n",
       "      <th>pred</th>\n",
       "      <th></th>\n",
       "      <th></th>\n",
       "    </tr>\n",
       "  </thead>\n",
       "  <tbody>\n",
       "    <tr>\n",
       "      <th>0</th>\n",
       "      <td>843240</td>\n",
       "      <td>39353</td>\n",
       "    </tr>\n",
       "    <tr>\n",
       "      <th>1</th>\n",
       "      <td>2340</td>\n",
       "      <td>3416</td>\n",
       "    </tr>\n",
       "  </tbody>\n",
       "</table>\n",
       "</div>"
      ],
      "text/plain": [
       "ytest       0      1\n",
       "pred                \n",
       "0      843240  39353\n",
       "1        2340   3416"
      ]
     },
     "execution_count": 28,
     "metadata": {},
     "output_type": "execute_result"
    }
   ],
   "source": [
    "pd.crosstab(pred, y_test,rownames=['pred'],colnames=['ytest'])"
   ]
  },
  {
   "cell_type": "code",
   "execution_count": 29,
   "metadata": {
    "collapsed": false
   },
   "outputs": [
    {
     "name": "stderr",
     "output_type": "stream",
     "text": [
      "[Parallel(n_jobs=1)]: Done  20 out of  20 | elapsed:    6.2s finished\n"
     ]
    }
   ],
   "source": [
    "preds = clf.predict_proba(X_test)[:,1]\n",
    "fpr,tpr, _ = roc_curve(y_test,preds)"
   ]
  },
  {
   "cell_type": "code",
   "execution_count": 30,
   "metadata": {
    "collapsed": false
   },
   "outputs": [
    {
     "data": {
      "image/png": "[encoded data removed]",
      "text/plain": [
       "<matplotlib.figure.Figure at 0x17800039828>"
      ]
     },
     "metadata": {},
     "output_type": "display_data"
    }
   ],
   "source": [
    "import matplotlib.pylab as plt\n",
    "\n",
    "plt.figure()\n",
    "plt.plot(fpr,tpr,label= \"ROC CURVE\")\n",
    "plt.plot([0,1],[0,1],'k--')\n",
    "plt.xlim([0.0,1.0])\n",
    "plt.ylim([0.0,1.05])\n",
    "plt.xlabel('1-Specificity')\n",
    "plt.ylabel('Sensitivity')\n",
    "plt.title('ROC CURVE')\n",
    "plt.legend(loc=\"lower right\")\n",
    "plt.show()"
   ]
  },
  {
   "cell_type": "code",
   "execution_count": 34,
   "metadata": {
    "collapsed": false
   },
   "outputs": [],
   "source": [
    "# save the model to disk\n",
    "filename = 'RandomForest_model.sav'\n",
    "pickle.dump(clf, open(filename, 'wb'))"
   ]
  },
  {
   "cell_type": "code",
   "execution_count": 36,
   "metadata": {
    "collapsed": false
   },
   "outputs": [
    {
     "name": "stdout",
     "output_type": "stream",
     "text": [
      "0.95306686899\n"
     ]
    },
    {
     "name": "stderr",
     "output_type": "stream",
     "text": [
      "[Parallel(n_jobs=1)]: Done  20 out of  20 | elapsed:    6.0s finished\n"
     ]
    }
   ],
   "source": [
    "# load the model from disk\n",
    "loaded_model = pickle.load(open(filename, 'rb'))\n",
    "result = loaded_model.score(X_test, y_test)\n",
    "print(result)"
   ]
  },
  {
   "cell_type": "code",
   "execution_count": null,
   "metadata": {
    "collapsed": true
   },
   "outputs": [],
   "source": []
  }
 ],
 "metadata": {
  "anaconda-cloud": {},
  "kernelspec": {
   "display_name": "Python [conda root]",
   "language": "python",
   "name": "conda-root-py"
  },
  "language_info": {
   "codemirror_mode": {
    "name": "ipython",
    "version": 3
   },
   "file_extension": ".py",
   "mimetype": "text/x-python",
   "name": "python",
   "nbconvert_exporter": "python",
   "pygments_lexer": "ipython3",
   "version": "3.5.2"
  }
 },
 "nbformat": 4,
 "nbformat_minor": 1
}
