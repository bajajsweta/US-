{
 "cells": [
  {
   "cell_type": "markdown",
   "metadata": {},
   "source": [
    "## Import the Libraries"
   ]
  },
  {
   "cell_type": "code",
   "execution_count": 396,
   "metadata": {
    "collapsed": true
   },
   "outputs": [],
   "source": [
    "import pandas as pd\n",
    "import numpy as np\n",
    "import os"
   ]
  },
  {
   "cell_type": "code",
   "execution_count": 397,
   "metadata": {
    "collapsed": false
   },
   "outputs": [
    {
     "data": {
      "text/plain": [
       "'H:\\\\Advance Data Science\\\\Midterm\\\\historical_data1_Q12005'"
      ]
     },
     "execution_count": 397,
     "metadata": {},
     "output_type": "execute_result"
    }
   ],
   "source": [
    "os.getcwd()"
   ]
  },
  {
   "cell_type": "code",
   "execution_count": 398,
   "metadata": {
    "collapsed": false
   },
   "outputs": [
    {
     "data": {
      "text/plain": [
       "'H:\\\\Advance Data Science\\\\Midterm\\\\historical_data1_Q12005'"
      ]
     },
     "execution_count": 398,
     "metadata": {},
     "output_type": "execute_result"
    }
   ],
   "source": [
    "tar = os.chdir(\"H:\\Advance Data Science\\Midterm\\historical_data1_Q12005\")\n",
    "os.getcwd()"
   ]
  },
  {
   "cell_type": "markdown",
   "metadata": {},
   "source": [
    "## Load the Data using Pandas"
   ]
  },
  {
   "cell_type": "code",
   "execution_count": 399,
   "metadata": {
    "collapsed": false
   },
   "outputs": [
    {
     "name": "stderr",
     "output_type": "stream",
     "text": [
      "C:\\Users\\sweta\\Anaconda3\\lib\\site-packages\\IPython\\core\\interactiveshell.py:2717: DtypeWarning: Columns (5) have mixed types. Specify dtype option on import or set low_memory=False.\n",
      "  interactivity=interactivity, compiler=compiler, result=result)\n"
     ]
    }
   ],
   "source": [
    "Quarter_data = pd.read_table(\"historical_data1_Q12005.txt\",delimiter='|', header=None )"
   ]
  },
  {
   "cell_type": "markdown",
   "metadata": {},
   "source": [
    "## Check if the Data is Loaded"
   ]
  },
  {
   "cell_type": "code",
   "execution_count": 400,
   "metadata": {
    "collapsed": false
   },
   "outputs": [
    {
     "data": {
      "text/html": [
       "<div>\n",
       "<table border=\"1\" class=\"dataframe\">\n",
       "  <thead>\n",
       "    <tr style=\"text-align: right;\">\n",
       "      <th></th>\n",
       "      <th>0</th>\n",
       "      <th>1</th>\n",
       "      <th>2</th>\n",
       "      <th>3</th>\n",
       "      <th>4</th>\n",
       "      <th>5</th>\n",
       "      <th>6</th>\n",
       "      <th>7</th>\n",
       "      <th>8</th>\n",
       "      <th>9</th>\n",
       "      <th>...</th>\n",
       "      <th>16</th>\n",
       "      <th>17</th>\n",
       "      <th>18</th>\n",
       "      <th>19</th>\n",
       "      <th>20</th>\n",
       "      <th>21</th>\n",
       "      <th>22</th>\n",
       "      <th>23</th>\n",
       "      <th>24</th>\n",
       "      <th>25</th>\n",
       "    </tr>\n",
       "  </thead>\n",
       "  <tbody>\n",
       "    <tr>\n",
       "      <th>0</th>\n",
       "      <td>699</td>\n",
       "      <td>200505</td>\n",
       "      <td>N</td>\n",
       "      <td>203504</td>\n",
       "      <td>39300.0</td>\n",
       "      <td>000</td>\n",
       "      <td>1.0</td>\n",
       "      <td>O</td>\n",
       "      <td>56.0</td>\n",
       "      <td>42</td>\n",
       "      <td>...</td>\n",
       "      <td>RI</td>\n",
       "      <td>SF</td>\n",
       "      <td>2800.0</td>\n",
       "      <td>F105Q1000001</td>\n",
       "      <td>C</td>\n",
       "      <td>360</td>\n",
       "      <td>2.0</td>\n",
       "      <td>Other sellers</td>\n",
       "      <td>USBANKNA</td>\n",
       "      <td>NaN</td>\n",
       "    </tr>\n",
       "    <tr>\n",
       "      <th>1</th>\n",
       "      <td>691</td>\n",
       "      <td>200504</td>\n",
       "      <td>N</td>\n",
       "      <td>203503</td>\n",
       "      <td>36420.0</td>\n",
       "      <td>25</td>\n",
       "      <td>1.0</td>\n",
       "      <td>O</td>\n",
       "      <td>90.0</td>\n",
       "      <td>36</td>\n",
       "      <td>...</td>\n",
       "      <td>OK</td>\n",
       "      <td>SF</td>\n",
       "      <td>73000.0</td>\n",
       "      <td>F105Q1000002</td>\n",
       "      <td>N</td>\n",
       "      <td>360</td>\n",
       "      <td>1.0</td>\n",
       "      <td>Other sellers</td>\n",
       "      <td>Other servicers</td>\n",
       "      <td>NaN</td>\n",
       "    </tr>\n",
       "    <tr>\n",
       "      <th>2</th>\n",
       "      <td>713</td>\n",
       "      <td>200503</td>\n",
       "      <td>N</td>\n",
       "      <td>203502</td>\n",
       "      <td>28740.0</td>\n",
       "      <td>000</td>\n",
       "      <td>1.0</td>\n",
       "      <td>O</td>\n",
       "      <td>72.0</td>\n",
       "      <td>45</td>\n",
       "      <td>...</td>\n",
       "      <td>NY</td>\n",
       "      <td>SF</td>\n",
       "      <td>12500.0</td>\n",
       "      <td>F105Q1000003</td>\n",
       "      <td>P</td>\n",
       "      <td>360</td>\n",
       "      <td>2.0</td>\n",
       "      <td>Other sellers</td>\n",
       "      <td>Other servicers</td>\n",
       "      <td>NaN</td>\n",
       "    </tr>\n",
       "    <tr>\n",
       "      <th>3</th>\n",
       "      <td>719</td>\n",
       "      <td>200505</td>\n",
       "      <td>N</td>\n",
       "      <td>203504</td>\n",
       "      <td>NaN</td>\n",
       "      <td>000</td>\n",
       "      <td>1.0</td>\n",
       "      <td>S</td>\n",
       "      <td>85.0</td>\n",
       "      <td>47</td>\n",
       "      <td>...</td>\n",
       "      <td>MO</td>\n",
       "      <td>CO</td>\n",
       "      <td>65000.0</td>\n",
       "      <td>F105Q1000004</td>\n",
       "      <td>P</td>\n",
       "      <td>360</td>\n",
       "      <td>2.0</td>\n",
       "      <td>Other sellers</td>\n",
       "      <td>USBANKNA</td>\n",
       "      <td>NaN</td>\n",
       "    </tr>\n",
       "    <tr>\n",
       "      <th>4</th>\n",
       "      <td>656</td>\n",
       "      <td>200503</td>\n",
       "      <td>N</td>\n",
       "      <td>203502</td>\n",
       "      <td>40340.0</td>\n",
       "      <td>000</td>\n",
       "      <td>1.0</td>\n",
       "      <td>O</td>\n",
       "      <td>68.0</td>\n",
       "      <td>30</td>\n",
       "      <td>...</td>\n",
       "      <td>MN</td>\n",
       "      <td>SF</td>\n",
       "      <td>55900.0</td>\n",
       "      <td>F105Q1000005</td>\n",
       "      <td>C</td>\n",
       "      <td>360</td>\n",
       "      <td>2.0</td>\n",
       "      <td>Other sellers</td>\n",
       "      <td>Other servicers</td>\n",
       "      <td>NaN</td>\n",
       "    </tr>\n",
       "  </tbody>\n",
       "</table>\n",
       "<p>5 rows × 26 columns</p>\n",
       "</div>"
      ],
      "text/plain": [
       "    0       1  2       3        4    5    6  7     8   9  ...  16  17  \\\n",
       "0  699  200505  N  203504  39300.0  000  1.0  O  56.0  42 ...  RI  SF   \n",
       "1  691  200504  N  203503  36420.0   25  1.0  O  90.0  36 ...  OK  SF   \n",
       "2  713  200503  N  203502  28740.0  000  1.0  O  72.0  45 ...  NY  SF   \n",
       "3  719  200505  N  203504      NaN  000  1.0  S  85.0  47 ...  MO  CO   \n",
       "4  656  200503  N  203502  40340.0  000  1.0  O  68.0  30 ...  MN  SF   \n",
       "\n",
       "        18            19 20   21   22             23               24  25  \n",
       "0   2800.0  F105Q1000001  C  360  2.0  Other sellers         USBANKNA NaN  \n",
       "1  73000.0  F105Q1000002  N  360  1.0  Other sellers  Other servicers NaN  \n",
       "2  12500.0  F105Q1000003  P  360  2.0  Other sellers  Other servicers NaN  \n",
       "3  65000.0  F105Q1000004  P  360  2.0  Other sellers         USBANKNA NaN  \n",
       "4  55900.0  F105Q1000005  C  360  2.0  Other sellers  Other servicers NaN  \n",
       "\n",
       "[5 rows x 26 columns]"
      ]
     },
     "execution_count": 400,
     "metadata": {},
     "output_type": "execute_result"
    }
   ],
   "source": [
    "Quarter_data.head(n=5)"
   ]
  },
  {
   "cell_type": "markdown",
   "metadata": {},
   "source": [
    "## Name the Columns"
   ]
  },
  {
   "cell_type": "code",
   "execution_count": 401,
   "metadata": {
    "collapsed": false
   },
   "outputs": [],
   "source": [
    "Quarter_data.columns = ['CREDIT_SCORE','FIRST_PAYMENT_DATE','FIRST_TIME_HOMEBUYER_FLAG','MATURITY_DATE','MSA','MORTGAGE_INSURANCE_PERCENTAGE_MI','NUMBER_OF_UNITS','OCCUPANCY_STATUS','ORIGINAL_COMBINED_LOAN_TO_VALUE_CLTV','ORIGINAL_DEBT_TO_INCOME_DTI_RATIO','ORIGINAL_UPB','ORIGINAL_LOAN_TO_VALUE_LTV','ORIGINAL_INTEREST_RATE','CHANNEL','PREPAYMENT_PENALTY_MORTGAGE_PPM_FLAG','PRODUCT_TYPE','PROPERTY_STATE','PROPERTY_TYPE','POSTAL_CODE','LOAN_SEQUENCE_NUMBER','LOAN_PURPOSE','ORIGINAL_LOAN_TERM','NUMBER_OF_BORROWERS','SELLER_NAME','SERVICER_NAME','SUPER_CONFORMING_FLAG']"
   ]
  },
  {
   "cell_type": "code",
   "execution_count": 402,
   "metadata": {
    "collapsed": false
   },
   "outputs": [
    {
     "name": "stdout",
     "output_type": "stream",
     "text": [
      "351739\n"
     ]
    }
   ],
   "source": [
    "numberofrows = len(Q12005_data.index)\n",
    "print (numberofrows)"
   ]
  },
  {
   "cell_type": "code",
   "execution_count": 403,
   "metadata": {
    "collapsed": false
   },
   "outputs": [
    {
     "data": {
      "text/html": [
       "<div>\n",
       "<table border=\"1\" class=\"dataframe\">\n",
       "  <thead>\n",
       "    <tr style=\"text-align: right;\">\n",
       "      <th></th>\n",
       "      <th>CREDIT_SCORE</th>\n",
       "      <th>FIRST_PAYMENT_DATE</th>\n",
       "      <th>FIRST_TIME_HOMEBUYER_FLAG</th>\n",
       "      <th>MATURITY_DATE</th>\n",
       "      <th>MSA</th>\n",
       "      <th>MORTGAGE_INSURANCE_PERCENTAGE_MI</th>\n",
       "      <th>NUMBER_OF_UNITS</th>\n",
       "      <th>OCCUPANCY_STATUS</th>\n",
       "      <th>ORIGINAL_COMBINED_LOAN_TO_VALUE_CLTV</th>\n",
       "      <th>ORIGINAL_DEBT_TO_INCOME_DTI_RATIO</th>\n",
       "      <th>...</th>\n",
       "      <th>PROPERTY_STATE</th>\n",
       "      <th>PROPERTY_TYPE</th>\n",
       "      <th>POSTAL_CODE</th>\n",
       "      <th>LOAN_SEQUENCE_NUMBER</th>\n",
       "      <th>LOAN_PURPOSE</th>\n",
       "      <th>ORIGINAL_LOAN_TERM</th>\n",
       "      <th>NUMBER_OF_BORROWERS</th>\n",
       "      <th>SELLER_NAME</th>\n",
       "      <th>SERVICER_NAME</th>\n",
       "      <th>SUPER_CONFORMING_FLAG</th>\n",
       "    </tr>\n",
       "  </thead>\n",
       "  <tbody>\n",
       "    <tr>\n",
       "      <th>0</th>\n",
       "      <td>699</td>\n",
       "      <td>200505</td>\n",
       "      <td>N</td>\n",
       "      <td>203504</td>\n",
       "      <td>39300.0</td>\n",
       "      <td>000</td>\n",
       "      <td>1.0</td>\n",
       "      <td>O</td>\n",
       "      <td>56.0</td>\n",
       "      <td>42</td>\n",
       "      <td>...</td>\n",
       "      <td>RI</td>\n",
       "      <td>SF</td>\n",
       "      <td>2800.0</td>\n",
       "      <td>F105Q1000001</td>\n",
       "      <td>C</td>\n",
       "      <td>360</td>\n",
       "      <td>2.0</td>\n",
       "      <td>Other sellers</td>\n",
       "      <td>USBANKNA</td>\n",
       "      <td>NaN</td>\n",
       "    </tr>\n",
       "    <tr>\n",
       "      <th>1</th>\n",
       "      <td>691</td>\n",
       "      <td>200504</td>\n",
       "      <td>N</td>\n",
       "      <td>203503</td>\n",
       "      <td>36420.0</td>\n",
       "      <td>25</td>\n",
       "      <td>1.0</td>\n",
       "      <td>O</td>\n",
       "      <td>90.0</td>\n",
       "      <td>36</td>\n",
       "      <td>...</td>\n",
       "      <td>OK</td>\n",
       "      <td>SF</td>\n",
       "      <td>73000.0</td>\n",
       "      <td>F105Q1000002</td>\n",
       "      <td>N</td>\n",
       "      <td>360</td>\n",
       "      <td>1.0</td>\n",
       "      <td>Other sellers</td>\n",
       "      <td>Other servicers</td>\n",
       "      <td>NaN</td>\n",
       "    </tr>\n",
       "    <tr>\n",
       "      <th>2</th>\n",
       "      <td>713</td>\n",
       "      <td>200503</td>\n",
       "      <td>N</td>\n",
       "      <td>203502</td>\n",
       "      <td>28740.0</td>\n",
       "      <td>000</td>\n",
       "      <td>1.0</td>\n",
       "      <td>O</td>\n",
       "      <td>72.0</td>\n",
       "      <td>45</td>\n",
       "      <td>...</td>\n",
       "      <td>NY</td>\n",
       "      <td>SF</td>\n",
       "      <td>12500.0</td>\n",
       "      <td>F105Q1000003</td>\n",
       "      <td>P</td>\n",
       "      <td>360</td>\n",
       "      <td>2.0</td>\n",
       "      <td>Other sellers</td>\n",
       "      <td>Other servicers</td>\n",
       "      <td>NaN</td>\n",
       "    </tr>\n",
       "    <tr>\n",
       "      <th>3</th>\n",
       "      <td>719</td>\n",
       "      <td>200505</td>\n",
       "      <td>N</td>\n",
       "      <td>203504</td>\n",
       "      <td>NaN</td>\n",
       "      <td>000</td>\n",
       "      <td>1.0</td>\n",
       "      <td>S</td>\n",
       "      <td>85.0</td>\n",
       "      <td>47</td>\n",
       "      <td>...</td>\n",
       "      <td>MO</td>\n",
       "      <td>CO</td>\n",
       "      <td>65000.0</td>\n",
       "      <td>F105Q1000004</td>\n",
       "      <td>P</td>\n",
       "      <td>360</td>\n",
       "      <td>2.0</td>\n",
       "      <td>Other sellers</td>\n",
       "      <td>USBANKNA</td>\n",
       "      <td>NaN</td>\n",
       "    </tr>\n",
       "    <tr>\n",
       "      <th>4</th>\n",
       "      <td>656</td>\n",
       "      <td>200503</td>\n",
       "      <td>N</td>\n",
       "      <td>203502</td>\n",
       "      <td>40340.0</td>\n",
       "      <td>000</td>\n",
       "      <td>1.0</td>\n",
       "      <td>O</td>\n",
       "      <td>68.0</td>\n",
       "      <td>30</td>\n",
       "      <td>...</td>\n",
       "      <td>MN</td>\n",
       "      <td>SF</td>\n",
       "      <td>55900.0</td>\n",
       "      <td>F105Q1000005</td>\n",
       "      <td>C</td>\n",
       "      <td>360</td>\n",
       "      <td>2.0</td>\n",
       "      <td>Other sellers</td>\n",
       "      <td>Other servicers</td>\n",
       "      <td>NaN</td>\n",
       "    </tr>\n",
       "  </tbody>\n",
       "</table>\n",
       "<p>5 rows × 26 columns</p>\n",
       "</div>"
      ],
      "text/plain": [
       "  CREDIT_SCORE  FIRST_PAYMENT_DATE FIRST_TIME_HOMEBUYER_FLAG  MATURITY_DATE  \\\n",
       "0          699              200505                         N         203504   \n",
       "1          691              200504                         N         203503   \n",
       "2          713              200503                         N         203502   \n",
       "3          719              200505                         N         203504   \n",
       "4          656              200503                         N         203502   \n",
       "\n",
       "       MSA MORTGAGE_INSURANCE_PERCENTAGE_MI  NUMBER_OF_UNITS OCCUPANCY_STATUS  \\\n",
       "0  39300.0                              000              1.0                O   \n",
       "1  36420.0                               25              1.0                O   \n",
       "2  28740.0                              000              1.0                O   \n",
       "3      NaN                              000              1.0                S   \n",
       "4  40340.0                              000              1.0                O   \n",
       "\n",
       "   ORIGINAL_COMBINED_LOAN_TO_VALUE_CLTV ORIGINAL_DEBT_TO_INCOME_DTI_RATIO  \\\n",
       "0                                  56.0                                42   \n",
       "1                                  90.0                                36   \n",
       "2                                  72.0                                45   \n",
       "3                                  85.0                                47   \n",
       "4                                  68.0                                30   \n",
       "\n",
       "           ...           PROPERTY_STATE  PROPERTY_TYPE  POSTAL_CODE  \\\n",
       "0          ...                       RI             SF       2800.0   \n",
       "1          ...                       OK             SF      73000.0   \n",
       "2          ...                       NY             SF      12500.0   \n",
       "3          ...                       MO             CO      65000.0   \n",
       "4          ...                       MN             SF      55900.0   \n",
       "\n",
       "  LOAN_SEQUENCE_NUMBER LOAN_PURPOSE ORIGINAL_LOAN_TERM NUMBER_OF_BORROWERS  \\\n",
       "0         F105Q1000001            C                360                 2.0   \n",
       "1         F105Q1000002            N                360                 1.0   \n",
       "2         F105Q1000003            P                360                 2.0   \n",
       "3         F105Q1000004            P                360                 2.0   \n",
       "4         F105Q1000005            C                360                 2.0   \n",
       "\n",
       "     SELLER_NAME    SERVICER_NAME SUPER_CONFORMING_FLAG  \n",
       "0  Other sellers         USBANKNA                   NaN  \n",
       "1  Other sellers  Other servicers                   NaN  \n",
       "2  Other sellers  Other servicers                   NaN  \n",
       "3  Other sellers         USBANKNA                   NaN  \n",
       "4  Other sellers  Other servicers                   NaN  \n",
       "\n",
       "[5 rows x 26 columns]"
      ]
     },
     "execution_count": 403,
     "metadata": {},
     "output_type": "execute_result"
    }
   ],
   "source": [
    "Quarter_data.head(n=5)"
   ]
  },
  {
   "cell_type": "markdown",
   "metadata": {},
   "source": [
    "## Check the DataTypes"
   ]
  },
  {
   "cell_type": "code",
   "execution_count": 404,
   "metadata": {
    "collapsed": false,
    "scrolled": true
   },
   "outputs": [
    {
     "data": {
      "text/plain": [
       "CREDIT_SCORE                             object\n",
       "FIRST_PAYMENT_DATE                        int64\n",
       "FIRST_TIME_HOMEBUYER_FLAG                object\n",
       "MATURITY_DATE                             int64\n",
       "MSA                                     float64\n",
       "MORTGAGE_INSURANCE_PERCENTAGE_MI         object\n",
       "NUMBER_OF_UNITS                         float64\n",
       "OCCUPANCY_STATUS                         object\n",
       "ORIGINAL_COMBINED_LOAN_TO_VALUE_CLTV    float64\n",
       "ORIGINAL_DEBT_TO_INCOME_DTI_RATIO        object\n",
       "ORIGINAL_UPB                              int64\n",
       "ORIGINAL_LOAN_TO_VALUE_LTV              float64\n",
       "ORIGINAL_INTEREST_RATE                  float64\n",
       "CHANNEL                                  object\n",
       "PREPAYMENT_PENALTY_MORTGAGE_PPM_FLAG     object\n",
       "PRODUCT_TYPE                             object\n",
       "PROPERTY_STATE                           object\n",
       "PROPERTY_TYPE                            object\n",
       "POSTAL_CODE                             float64\n",
       "LOAN_SEQUENCE_NUMBER                     object\n",
       "LOAN_PURPOSE                             object\n",
       "ORIGINAL_LOAN_TERM                        int64\n",
       "NUMBER_OF_BORROWERS                     float64\n",
       "SELLER_NAME                              object\n",
       "SERVICER_NAME                            object\n",
       "SUPER_CONFORMING_FLAG                   float64\n",
       "dtype: object"
      ]
     },
     "execution_count": 404,
     "metadata": {},
     "output_type": "execute_result"
    }
   ],
   "source": [
    "Quarter_data.dtypes"
   ]
  },
  {
   "cell_type": "markdown",
   "metadata": {},
   "source": [
    "## Validate the Columns"
   ]
  },
  {
   "cell_type": "markdown",
   "metadata": {},
   "source": [
    "### 1) Credit Score\n",
    "\n",
    "A number, prepared by third parties, summarizing the borrower’s creditworthiness, which may be indicative of the likelihood that the borrower will timely repay future obligations.  Generally, the credit score disclosed is the score known at the time of acquisition and is the score used to originate the mortgage.   "
   ]
  },
  {
   "cell_type": "code",
   "execution_count": 405,
   "metadata": {
    "collapsed": false
   },
   "outputs": [
    {
     "name": "stdout",
     "output_type": "stream",
     "text": [
      "CREDIT_SCORE\n",
      "       212\n",
      "300    537\n",
      "306      1\n",
      "360      1\n",
      "413      1\n",
      "Name: CREDIT_SCORE, dtype: int64\n",
      "CREDIT_SCORE\n",
      "840    1\n",
      "842    2\n",
      "843    1\n",
      "844    1\n",
      "850    4\n",
      "Name: CREDIT_SCORE, dtype: int64\n"
     ]
    }
   ],
   "source": [
    "credit_score_count = Quarter_data.groupby('CREDIT_SCORE')\n",
    "#Check if there is value less than 300\n",
    "print (credit_score_count['CREDIT_SCORE'].count().head(n=5))\n",
    "#Check if there is value greater than 850\n",
    "print (credit_score_count['CREDIT_SCORE'].count().tail(n=5))"
   ]
  },
  {
   "cell_type": "markdown",
   "metadata": {},
   "source": [
    "#### Replace Blanks with 0 for Credit Score Column and check condition for < 300 and > 850"
   ]
  },
  {
   "cell_type": "code",
   "execution_count": 406,
   "metadata": {
    "collapsed": false
   },
   "outputs": [
    {
     "name": "stdout",
     "output_type": "stream",
     "text": [
      "CREDIT_SCORE\n",
      "0      212\n",
      "300    537\n",
      "306      1\n",
      "360      1\n",
      "413      1\n",
      "Name: CREDIT_SCORE, dtype: int64\n",
      "CREDIT_SCORE\n",
      "840    1\n",
      "842    2\n",
      "843    1\n",
      "844    1\n",
      "850    4\n",
      "Name: CREDIT_SCORE, dtype: int64\n"
     ]
    },
    {
     "name": "stderr",
     "output_type": "stream",
     "text": [
      "C:\\Users\\sweta\\Anaconda3\\lib\\site-packages\\ipykernel\\__main__.py:1: FutureWarning: convert_objects is deprecated.  Use the data-type specific converters pd.to_datetime, pd.to_timedelta and pd.to_numeric.\n",
      "  if __name__ == '__main__':\n",
      "C:\\Users\\sweta\\Anaconda3\\lib\\site-packages\\ipykernel\\__main__.py:3: SettingWithCopyWarning: \n",
      "A value is trying to be set on a copy of a slice from a DataFrame\n",
      "\n",
      "See the caveats in the documentation: http://pandas.pydata.org/pandas-docs/stable/indexing.html#indexing-view-versus-copy\n",
      "  app.launch_new_instance()\n",
      "C:\\Users\\sweta\\Anaconda3\\lib\\site-packages\\ipykernel\\__main__.py:4: SettingWithCopyWarning: \n",
      "A value is trying to be set on a copy of a slice from a DataFrame\n",
      "\n",
      "See the caveats in the documentation: http://pandas.pydata.org/pandas-docs/stable/indexing.html#indexing-view-versus-copy\n"
     ]
    }
   ],
   "source": [
    "Quarter_data['CREDIT_SCORE']  = Quarter_data['CREDIT_SCORE'].convert_objects(convert_numeric=True).fillna(0)\n",
    "Quarter_data['CREDIT_SCORE'] = Quarter_data['CREDIT_SCORE'].astype(int)\n",
    "Quarter_data.CREDIT_SCORE[Quarter_data.CREDIT_SCORE < 300] = 0\n",
    "Quarter_data.CREDIT_SCORE[Quarter_data.CREDIT_SCORE > 850] = 0\n",
    "credit_score_count1 = Quarter_data.groupby('CREDIT_SCORE')\n",
    "#Check if there is value less than 300\n",
    "print (credit_score_count1['CREDIT_SCORE'].count().head(n=5))\n",
    "#Check if there is value greater than 850\n",
    "print (credit_score_count1['CREDIT_SCORE'].count().tail(n=5))"
   ]
  },
  {
   "cell_type": "markdown",
   "metadata": {},
   "source": [
    "### 2) FIRST PAYMENT DATE\n",
    "\n",
    "The date of the first scheduled mortgage payment due under the terms of the mortgage note. "
   ]
  },
  {
   "cell_type": "markdown",
   "metadata": {},
   "source": [
    "#### Check if there are Nulls in that colum"
   ]
  },
  {
   "cell_type": "code",
   "execution_count": 407,
   "metadata": {
    "collapsed": false
   },
   "outputs": [
    {
     "data": {
      "text/plain": [
       "False"
      ]
     },
     "execution_count": 407,
     "metadata": {},
     "output_type": "execute_result"
    }
   ],
   "source": [
    "Quarter_data['FIRST_PAYMENT_DATE'].isnull().values.any()"
   ]
  },
  {
   "cell_type": "markdown",
   "metadata": {},
   "source": [
    "### 3) FIRST TIME HOMEBUYER FLAG\n",
    "\n",
    "Indicates whether the Borrower, or one of a group of Borrowers, is an individual who (1) is purchasing the mortgaged property, (2) will reside in the mortgaged property as a primary residence and (3) had no ownership interest (sole or joint) in a residential property during the three-year period preceding the date of the purchase of the mortgaged property. With certain limited exceptions, a displaced homemaker or single parent may also be considered a First-Time Homebuyer if the individual had no ownership interest in a residential property during the preceding three-year period other than an ownership interest in the marital residence with a spouse.  \n",
    " \n",
    "Investment Properties, Second Homes and Refinance transactions are not eligible to be considered First-Time Homebuyer transactions. \n",
    "\n",
    "Therefore First Time Homebuyer does not apply and will be disclosed as “Not Applicable”, which will be indicated by a blank space. "
   ]
  },
  {
   "cell_type": "code",
   "execution_count": 408,
   "metadata": {
    "collapsed": false
   },
   "outputs": [
    {
     "data": {
      "text/plain": [
       "array(['N', 'Y', nan], dtype=object)"
      ]
     },
     "execution_count": 408,
     "metadata": {},
     "output_type": "execute_result"
    }
   ],
   "source": [
    "#Check for unique values\n",
    "Quarter_data.FIRST_TIME_HOMEBUYER_FLAG.unique()"
   ]
  },
  {
   "cell_type": "code",
   "execution_count": 409,
   "metadata": {
    "collapsed": false
   },
   "outputs": [],
   "source": [
    "#Fill nan as Unknown\n",
    "Quarter_data['FIRST_TIME_HOMEBUYER_FLAG'] = Quarter_data.FIRST_TIME_HOMEBUYER_FLAG.fillna('U')"
   ]
  },
  {
   "cell_type": "code",
   "execution_count": 410,
   "metadata": {
    "collapsed": false
   },
   "outputs": [
    {
     "name": "stdout",
     "output_type": "stream",
     "text": [
      "FIRST_TIME_HOMEBUYER_FLAG\n",
      "N    285091\n",
      "U     42649\n",
      "Y     23999\n",
      "Name: FIRST_TIME_HOMEBUYER_FLAG, dtype: int64\n"
     ]
    }
   ],
   "source": [
    "first_time_home_buyer_flag_count = Quarter_data.groupby('FIRST_TIME_HOMEBUYER_FLAG')\n",
    "print (first_time_home_buyer_flag_count['FIRST_TIME_HOMEBUYER_FLAG'].count())"
   ]
  },
  {
   "cell_type": "markdown",
   "metadata": {},
   "source": [
    "### 4) MATURITY DATE\n",
    "\n",
    "The month in which the final monthly payment on the mortgage is scheduled to be made as stated on the original mortgage note"
   ]
  },
  {
   "cell_type": "code",
   "execution_count": 411,
   "metadata": {
    "collapsed": false
   },
   "outputs": [
    {
     "data": {
      "text/plain": [
       "False"
      ]
     },
     "execution_count": 411,
     "metadata": {},
     "output_type": "execute_result"
    }
   ],
   "source": [
    "Quarter_data['MATURITY_DATE'].isnull().values.any()"
   ]
  },
  {
   "cell_type": "markdown",
   "metadata": {},
   "source": [
    "### 5) METROPOLITAN STATISTICAL AREA (MSA) OR METROPOLITAN DIVISION\n",
    "\n",
    "This disclosure will be based on the designation of the Metropolitan Statistical Area or Metropolitan Division based on 2010 census (for Mar 2013 and May 2013 releases) and 2013 census (for Aug 2013 and Dec 2013 releases) data. Metropolitan Statistical Areas (MSAs) are defined by the United States Office of Management and Budget (OMB) and have at least one urbanized area with a population of 50,000 or more inhabitants. OMB refers to an MSA containing a single core with a population of 2.5 million or more, which may be comprised of groupings of counties, as a Metropolitan Division. \n",
    " \n",
    "If an MSA applies to a mortgaged property, the applicable five-digit value is disclosed; however, if the mortgaged property also falls within a Metropolitan Division classification, the applicable five-digit value for the Metropolitan Division takes precedence and is disclosed instead. \n",
    " \n",
    "Changes and/or updates in designations of MSAs or Metropolitan Division will not be reflected in the Single Family Historical Dataset.\n",
    "\n",
    "1) Metropolitan Division or MSA Code.  \n",
    "2) 00000 = Indicates that the area in which the mortgaged property is located is\n",
    "   a) neither an MSA nor a Metropolitan Division, or b) unknown. "
   ]
  },
  {
   "cell_type": "code",
   "execution_count": 412,
   "metadata": {
    "collapsed": false
   },
   "outputs": [
    {
     "data": {
      "text/plain": [
       "True"
      ]
     },
     "execution_count": 412,
     "metadata": {},
     "output_type": "execute_result"
    }
   ],
   "source": [
    "Quarter_data['MSA'].isnull().values.any()"
   ]
  },
  {
   "cell_type": "code",
   "execution_count": 413,
   "metadata": {
    "collapsed": false
   },
   "outputs": [],
   "source": [
    "#Quarter_data.MSA.unique()"
   ]
  },
  {
   "cell_type": "code",
   "execution_count": 414,
   "metadata": {
    "collapsed": true
   },
   "outputs": [],
   "source": [
    "Quarter_data['MSA'] = Quarter_data.MSA.fillna(00000)"
   ]
  },
  {
   "cell_type": "code",
   "execution_count": 415,
   "metadata": {
    "collapsed": false
   },
   "outputs": [
    {
     "name": "stdout",
     "output_type": "stream",
     "text": [
      "MSA\n",
      "0.0        54797\n",
      "10180.0       99\n",
      "10380.0       10\n",
      "10420.0      808\n",
      "10500.0       91\n",
      "Name: MSA, dtype: int64\n",
      "MSA\n",
      "49500.0      1\n",
      "49620.0    643\n",
      "49660.0    532\n",
      "49700.0    275\n",
      "49740.0    219\n",
      "Name: MSA, dtype: int64\n"
     ]
    }
   ],
   "source": [
    "msa_count = Quarter_data.groupby('MSA')\n",
    "print (msa_count['MSA'].count().head(5))\n",
    "print (msa_count['MSA'].count().tail(5))"
   ]
  },
  {
   "cell_type": "markdown",
   "metadata": {},
   "source": [
    "### 6) MORTGAGE INSURANCE PERCENTAGE (MI %)\n",
    "\n",
    "The percentage of loss coverage on the loan, at the time of Freddie Mac’s purchase of the mortgage loan that a mortgage insurer is providing to cover losses incurred as a result of a default on the loan.  Only primary mortgage insurance that is purchased by the Borrower, lender or Freddie Mac is disclosed. Mortgage insurance that constitutes “credit enhancement” that is not required by Freddie Mac’s Charter is not disclosed.  \n",
    " \n",
    "Amounts of mortgage insurance reported by Sellers that are less than 1% or greater than 55% will be disclosed as “Unknown,” which will be indicated by three blank spaces.  No MI will be indicated by three zeros\n",
    "\n",
    "1% - 55%  000 =  No MI  111 = Unknown\n",
    "\n",
    "Is 0 same as 000 ?"
   ]
  },
  {
   "cell_type": "code",
   "execution_count": 416,
   "metadata": {
    "collapsed": false
   },
   "outputs": [
    {
     "data": {
      "text/plain": [
       "False"
      ]
     },
     "execution_count": 416,
     "metadata": {},
     "output_type": "execute_result"
    }
   ],
   "source": [
    "Quarter_data['MORTGAGE_INSURANCE_PERCENTAGE_MI'].isnull().values.any()"
   ]
  },
  {
   "cell_type": "code",
   "execution_count": 417,
   "metadata": {
    "collapsed": false
   },
   "outputs": [
    {
     "data": {
      "text/plain": [
       "array(['000', '25', '30', '12', '17', '35', '18', '32', '27', '16', '40',\n",
       "       '14', '37', '20', '   ', '22', '9', 0, 25, 30, 35, 12, 17, 32, 27,\n",
       "       40, 16, 37, 6, 14, 20, 22, 9, 33, 24, 18, '11', '19', '6', '33',\n",
       "       '50', '13', '54', '28', '7', '8'], dtype=object)"
      ]
     },
     "execution_count": 417,
     "metadata": {},
     "output_type": "execute_result"
    }
   ],
   "source": [
    "Quarter_data['MORTGAGE_INSURANCE_PERCENTAGE_MI'].unique()"
   ]
  },
  {
   "cell_type": "code",
   "execution_count": 418,
   "metadata": {
    "collapsed": false
   },
   "outputs": [
    {
     "name": "stderr",
     "output_type": "stream",
     "text": [
      "C:\\Users\\sweta\\Anaconda3\\lib\\site-packages\\ipykernel\\__main__.py:1: FutureWarning: convert_objects is deprecated.  Use the data-type specific converters pd.to_datetime, pd.to_timedelta and pd.to_numeric.\n",
      "  if __name__ == '__main__':\n"
     ]
    },
    {
     "data": {
      "text/plain": [
       "array([   0.,   25.,   30.,   12.,   17.,   35.,   18.,   32.,   27.,\n",
       "         16.,   40.,   14.,   37.,   20.,  111.,   22.,    9.,    6.,\n",
       "         33.,   24.,   11.,   19.,   50.,   13.,   54.,   28.,    7.,    8.])"
      ]
     },
     "execution_count": 418,
     "metadata": {},
     "output_type": "execute_result"
    }
   ],
   "source": [
    "Quarter_data['MORTGAGE_INSURANCE_PERCENTAGE_MI']  = Quarter_data['MORTGAGE_INSURANCE_PERCENTAGE_MI'].convert_objects(convert_numeric=True).fillna(111)\n",
    "Quarter_data['MORTGAGE_INSURANCE_PERCENTAGE_MI'].unique()"
   ]
  },
  {
   "cell_type": "code",
   "execution_count": 419,
   "metadata": {
    "collapsed": false
   },
   "outputs": [
    {
     "name": "stderr",
     "output_type": "stream",
     "text": [
      "C:\\Users\\sweta\\Anaconda3\\lib\\site-packages\\ipykernel\\__main__.py:1: SettingWithCopyWarning: \n",
      "A value is trying to be set on a copy of a slice from a DataFrame\n",
      "\n",
      "See the caveats in the documentation: http://pandas.pydata.org/pandas-docs/stable/indexing.html#indexing-view-versus-copy\n",
      "  if __name__ == '__main__':\n"
     ]
    }
   ],
   "source": [
    "Quarter_data.MORTGAGE_INSURANCE_PERCENTAGE_MI[Quarter_data.MORTGAGE_INSURANCE_PERCENTAGE_MI > 55] = 111\n",
    "Quarter_data['MORTGAGE_INSURANCE_PERCENTAGE_MI'] = Quarter_data['MORTGAGE_INSURANCE_PERCENTAGE_MI'].astype(int)"
   ]
  },
  {
   "cell_type": "code",
   "execution_count": 420,
   "metadata": {
    "collapsed": false
   },
   "outputs": [
    {
     "name": "stdout",
     "output_type": "stream",
     "text": [
      "MORTGAGE_INSURANCE_PERCENTAGE_MI\n",
      "0      302189\n",
      "6        1606\n",
      "7           1\n",
      "8           6\n",
      "9          43\n",
      "11          1\n",
      "12       8941\n",
      "13          1\n",
      "14         48\n",
      "16         84\n",
      "17       2317\n",
      "18         66\n",
      "19          2\n",
      "20         42\n",
      "22        111\n",
      "24          1\n",
      "25      18806\n",
      "27        233\n",
      "28          1\n",
      "30      11955\n",
      "32        189\n",
      "33          2\n",
      "35       4891\n",
      "37         15\n",
      "40        103\n",
      "50          1\n",
      "54          1\n",
      "111        83\n",
      "Name: MORTGAGE_INSURANCE_PERCENTAGE_MI, dtype: int64\n"
     ]
    }
   ],
   "source": [
    "MI_count = Quarter_data.groupby('MORTGAGE_INSURANCE_PERCENTAGE_MI')\n",
    "print (MI_count['MORTGAGE_INSURANCE_PERCENTAGE_MI'].count())"
   ]
  },
  {
   "cell_type": "markdown",
   "metadata": {},
   "source": [
    "### 7) NUMBER OF UNITS\n",
    "\n",
    "Denotes whether the mortgage is a one-, two-, three-, or four-unit property.\n",
    "three-, or four-unit property. \n",
    " \n",
    "1 = one-unit  2 = two-unit  3 = three-unit  4 = four-unit  0 = Unknown"
   ]
  },
  {
   "cell_type": "code",
   "execution_count": 421,
   "metadata": {
    "collapsed": false
   },
   "outputs": [
    {
     "data": {
      "text/plain": [
       "array([  1.,   2.,   3.,   4.,  nan])"
      ]
     },
     "execution_count": 421,
     "metadata": {},
     "output_type": "execute_result"
    }
   ],
   "source": [
    "Quarter_data.NUMBER_OF_UNITS.unique()"
   ]
  },
  {
   "cell_type": "markdown",
   "metadata": {},
   "source": [
    "#### Replace nan as 0 which is Unknown"
   ]
  },
  {
   "cell_type": "code",
   "execution_count": 422,
   "metadata": {
    "collapsed": true
   },
   "outputs": [],
   "source": [
    "Quarter_data['NUMBER_OF_UNITS'] = Quarter_data.NUMBER_OF_UNITS.fillna(0)"
   ]
  },
  {
   "cell_type": "code",
   "execution_count": 423,
   "metadata": {
    "collapsed": false,
    "scrolled": true
   },
   "outputs": [
    {
     "name": "stdout",
     "output_type": "stream",
     "text": [
      "NUMBER_OF_UNITS\n",
      "0.0         4\n",
      "1.0    343878\n",
      "2.0      6136\n",
      "3.0       995\n",
      "4.0       726\n",
      "Name: NUMBER_OF_UNITS, dtype: int64\n"
     ]
    }
   ],
   "source": [
    "number_of_unit_count = Quarter_data.groupby('NUMBER_OF_UNITS')\n",
    "print (number_of_unit_count['NUMBER_OF_UNITS'].count())"
   ]
  },
  {
   "cell_type": "markdown",
   "metadata": {},
   "source": [
    "### 8) OCCUPANCY STATUS\n",
    "\n",
    "Denotes whether the mortgage type is owner occupied, second home, or investment property.  \n",
    "\n",
    "O = Owner Occupied  I = Investment Property  S = Second Home  U  = Unknown"
   ]
  },
  {
   "cell_type": "code",
   "execution_count": 424,
   "metadata": {
    "collapsed": false
   },
   "outputs": [
    {
     "data": {
      "text/plain": [
       "array(['O', 'S', 'I'], dtype=object)"
      ]
     },
     "execution_count": 424,
     "metadata": {},
     "output_type": "execute_result"
    }
   ],
   "source": [
    "Quarter_data.OCCUPANCY_STATUS.unique()"
   ]
  },
  {
   "cell_type": "code",
   "execution_count": 425,
   "metadata": {
    "collapsed": true
   },
   "outputs": [],
   "source": [
    "Quarter_data['OCCUPANCY_STATUS'] = Quarter_data.OCCUPANCY_STATUS.fillna('U')"
   ]
  },
  {
   "cell_type": "code",
   "execution_count": 426,
   "metadata": {
    "collapsed": false
   },
   "outputs": [
    {
     "name": "stdout",
     "output_type": "stream",
     "text": [
      "OCCUPANCY_STATUS\n",
      "I     12331\n",
      "O    324495\n",
      "S     14913\n",
      "Name: OCCUPANCY_STATUS, dtype: int64\n"
     ]
    }
   ],
   "source": [
    "occupancy_status_count = Quarter_data.groupby('OCCUPANCY_STATUS')\n",
    "print (occupancy_status_count['OCCUPANCY_STATUS'].count())"
   ]
  },
  {
   "cell_type": "markdown",
   "metadata": {},
   "source": [
    "### 9) ORIGINAL COMBINED LOAN-TO-VALUE (CLTV)\n",
    "\n",
    "In the case of a purchase mortgage loan, the ratio is obtained by dividing the original mortgage loan amount on the note date plus any secondary mortgage loan amount disclosed by the Seller by the lesser of the mortgaged property’s appraised value on the note date or its purchase price.  In the case of a refinance mortgage loan, the ratio is obtained by dividing the original mortgage loan amount on the note date plus any secondary mortgage loan amount disclosed by the Seller by the mortgaged property’s appraised value on the note date.  If the secondary financing amount disclosed by the Seller includes a home equity line of credit, then the CLTV calculation reflects the disbursed amount at closing of the first lien mortgage loan, not the maximum loan amount available under the home equity line of credit.  In the case of a seasoned mortgage loan, if the Seller cannot warrant that the value of the mortgaged property has not declined since the note date, Freddie Mac requires that the Seller must provide a new appraisal value, which is used in the CLTV calculation.  In certain cases, where the Seller delivered a loan to Freddie Mac with a special code indicating additional secondary mortgage loan amounts, those amounts may have been included in the CLTV calculation.    \n",
    " \n",
    "If the calculated CLTV is < 0 or > 200, and the LTV is > 80 and <= 200 set the CLTV to the LTV.  If the LTV is < 80 or > 200 or unknown, set the CLTV to ‘unknown.’  If the CLTV is < LTV, set the CLTV to ‘unknown.’  Unknown is indicated by a null value. \n",
    " \n",
    "This disclosure is subject to the widely varying standards originators use to verify Borrowers’ secondary mortgage loan amounts and will not be updated. \n",
    "\n",
    "0% - 200%  Null = Unknown = 999"
   ]
  },
  {
   "cell_type": "code",
   "execution_count": 427,
   "metadata": {
    "collapsed": false
   },
   "outputs": [
    {
     "data": {
      "text/plain": [
       "array([  56.,   90.,   72.,   85.,   68.,   94.,   77.,   80.,   95.,\n",
       "         59.,   75.,   69.,   25.,   84.,   70.,   83.,   78.,   92.,\n",
       "         67.,   61.,   89.,   74.,   79.,   86.,   63.,   66.,   32.,\n",
       "         35.,   55.,   64.,   73.,   31.,   54.,   48.,   36.,   71.,\n",
       "         49.,   87.,   50.,   88.,   60.,   44.,   52.,   76.,   47.,\n",
       "         65.,   62.,   45.,   97.,   26.,   57.,   27.,   58.,   38.,\n",
       "         53.,   40.,   46.,   93.,   98.,   37.,   34.,   81.,   10.,\n",
       "         51.,   82.,   42.,   17.,  100.,   43.,   14.,   91.,   16.,\n",
       "         20.,   39.,   21.,    8.,   99.,   30.,   96.,   19.,   41.,\n",
       "         24.,   33.,   28.,   22.,   29.,   nan,   12.,   11.,  102.,\n",
       "         15.,   23.,  103.,   18.,   13.,    9.,  112.,  116.,  121.,\n",
       "        111.,    6.,  153.,  118.,  105.,  104.,  101.,  125.,    7.,\n",
       "        110.,  115.,  107.,  108.,  117.,  119.,  123.,  106.,  114.,\n",
       "        122.,  131.,  109.,  160.,  124.,  113.])"
      ]
     },
     "execution_count": 427,
     "metadata": {},
     "output_type": "execute_result"
    }
   ],
   "source": [
    "Quarter_data.ORIGINAL_COMBINED_LOAN_TO_VALUE_CLTV.unique()"
   ]
  },
  {
   "cell_type": "code",
   "execution_count": 428,
   "metadata": {
    "collapsed": true
   },
   "outputs": [],
   "source": [
    "Quarter_data['ORIGINAL_COMBINED_LOAN_TO_VALUE_CLTV'] = Quarter_data.ORIGINAL_COMBINED_LOAN_TO_VALUE_CLTV.fillna(999)"
   ]
  },
  {
   "cell_type": "code",
   "execution_count": 429,
   "metadata": {
    "collapsed": false
   },
   "outputs": [
    {
     "name": "stdout",
     "output_type": "stream",
     "text": [
      "ORIGINAL_COMBINED_LOAN_TO_VALUE_CLTV\n",
      "6.0     23\n",
      "7.0     41\n",
      "8.0     62\n",
      "9.0     74\n",
      "10.0    94\n",
      "Name: ORIGINAL_COMBINED_LOAN_TO_VALUE_CLTV, dtype: int64\n",
      "ORIGINAL_COMBINED_LOAN_TO_VALUE_CLTV\n",
      "125.0     3\n",
      "131.0     1\n",
      "153.0     1\n",
      "160.0     1\n",
      "999.0    19\n",
      "Name: ORIGINAL_COMBINED_LOAN_TO_VALUE_CLTV, dtype: int64\n",
      "351739\n"
     ]
    }
   ],
   "source": [
    "cltv_count = Quarter_data.groupby('ORIGINAL_COMBINED_LOAN_TO_VALUE_CLTV')\n",
    "print (cltv_count['ORIGINAL_COMBINED_LOAN_TO_VALUE_CLTV'].count().head(5))\n",
    "print (cltv_count['ORIGINAL_COMBINED_LOAN_TO_VALUE_CLTV'].count().tail(5))\n",
    "print (sum(cltv_count['ORIGINAL_COMBINED_LOAN_TO_VALUE_CLTV'].count()))"
   ]
  },
  {
   "cell_type": "markdown",
   "metadata": {},
   "source": [
    "### 10) ORIGINAL DEBT-TO-INCOME (DTI) RATIO \n",
    "\n",
    "Disclosure of the debt to income ratio is based on (1) the sum of the borrower's monthly debt payments, including monthly housing expenses that incorporate the mortgage payment the borrower is making at the time of the delivery of the mortgage loan to Freddie Mac, divided by (2) the total monthly income used to underwrite the borrower as of the date of the origination of the mortgage loan.  \n",
    " \n",
    "Ratios greater than 65% are indicated by three (3) blank spaces and if unknown are indicated by a Null value. \n",
    " \n",
    "This disclosure is subject to the widely varying standards originators use to verify Borrowers’ assets and liabilities and will not be updated\n",
    "\n",
    "0%< DTI <= 65%  Space(3) >65% = 70 Null = Unknown = 99"
   ]
  },
  {
   "cell_type": "code",
   "execution_count": 430,
   "metadata": {
    "collapsed": false
   },
   "outputs": [
    {
     "data": {
      "text/plain": [
       "True"
      ]
     },
     "execution_count": 430,
     "metadata": {},
     "output_type": "execute_result"
    }
   ],
   "source": [
    "Quarter_data['ORIGINAL_DEBT_TO_INCOME_DTI_RATIO'].isnull().values.any()"
   ]
  },
  {
   "cell_type": "code",
   "execution_count": 431,
   "metadata": {
    "collapsed": false
   },
   "outputs": [
    {
     "data": {
      "text/plain": [
       "array(['42', '36', '45', '47', '30', '41', '43', '34', '32', '37', '44',\n",
       "       '39', '33', '24', '7', '38', '61', '2', '29', '40', '26', '54',\n",
       "       '21', '31', '28', '48', '27', '12', '18', '49', '55', '58', '22',\n",
       "       '46', '25', '59', '60', '52', '53', '23', '62', '16', '17', '50',\n",
       "       '   ', '35', '51', '19', '14', '13', '65', '56', '15', '57', '20',\n",
       "       '64', '11', '63', '8', '10', '6', '9', '5', nan, '3', '4', '1'], dtype=object)"
      ]
     },
     "execution_count": 431,
     "metadata": {},
     "output_type": "execute_result"
    }
   ],
   "source": [
    "Quarter_data['ORIGINAL_DEBT_TO_INCOME_DTI_RATIO'].unique()"
   ]
  },
  {
   "cell_type": "code",
   "execution_count": 432,
   "metadata": {
    "collapsed": false
   },
   "outputs": [
    {
     "name": "stdout",
     "output_type": "stream",
     "text": [
      "ORIGINAL_DEBT_TO_INCOME_DTI_RATIO\n",
      "70    10504\n",
      "99      454\n",
      "1       107\n",
      "10     1994\n",
      "11     2233\n",
      "Name: ORIGINAL_DEBT_TO_INCOME_DTI_RATIO, dtype: int64\n",
      "ORIGINAL_DEBT_TO_INCOME_DTI_RATIO\n",
      "64    1249\n",
      "65    1025\n",
      "7     1117\n",
      "8     1409\n",
      "9     1685\n",
      "Name: ORIGINAL_DEBT_TO_INCOME_DTI_RATIO, dtype: int64\n"
     ]
    }
   ],
   "source": [
    "Quarter_data['ORIGINAL_DEBT_TO_INCOME_DTI_RATIO'] = Quarter_data.ORIGINAL_DEBT_TO_INCOME_DTI_RATIO.fillna(99)\n",
    "Quarter_data['ORIGINAL_DEBT_TO_INCOME_DTI_RATIO'] = Quarter_data.ORIGINAL_DEBT_TO_INCOME_DTI_RATIO.replace('   ',70)\n",
    "Quarter_data['ORIGINAL_DEBT_TO_INCOME_DTI_RATIO'] = Quarter_data.ORIGINAL_DEBT_TO_INCOME_DTI_RATIO.fillna(99999)\n",
    "ORIGINAL_DEBT_TO_INCOME_DTI_RATIO_count = Quarter_data.groupby('ORIGINAL_DEBT_TO_INCOME_DTI_RATIO')\n",
    "print (ORIGINAL_DEBT_TO_INCOME_DTI_RATIO_count['ORIGINAL_DEBT_TO_INCOME_DTI_RATIO'].count().head())\n",
    "print (ORIGINAL_DEBT_TO_INCOME_DTI_RATIO_count['ORIGINAL_DEBT_TO_INCOME_DTI_RATIO'].count().tail())"
   ]
  },
  {
   "cell_type": "markdown",
   "metadata": {},
   "source": [
    "### 11) ORIGINAL UPB \n",
    "\n",
    "The UPB of the mortgage on the note date.  \n",
    "\n",
    "Amount will be rounded to the nearest $1,000. "
   ]
  },
  {
   "cell_type": "code",
   "execution_count": 433,
   "metadata": {
    "collapsed": false
   },
   "outputs": [
    {
     "data": {
      "text/plain": [
       "False"
      ]
     },
     "execution_count": 433,
     "metadata": {},
     "output_type": "execute_result"
    }
   ],
   "source": [
    "Quarter_data['ORIGINAL_UPB'].isnull().values.any()"
   ]
  },
  {
   "cell_type": "code",
   "execution_count": 434,
   "metadata": {
    "collapsed": false
   },
   "outputs": [
    {
     "name": "stdout",
     "output_type": "stream",
     "text": [
      "349926     6000\n",
      "313934     7000\n",
      "341291     7000\n",
      "229664     9000\n",
      "294756    10000\n",
      "Name: ORIGINAL_UPB, dtype: int64\n",
      "180650    692000\n",
      "99003     692000\n",
      "127802    692000\n",
      "43493     692000\n",
      "116373    692000\n",
      "Name: ORIGINAL_UPB, dtype: int64\n"
     ]
    }
   ],
   "source": [
    "print (Quarter_data['ORIGINAL_UPB'].sort_values().head())\n",
    "print (Quarter_data['ORIGINAL_UPB'].sort_values().tail())"
   ]
  },
  {
   "cell_type": "markdown",
   "metadata": {},
   "source": [
    "### 12) ORIGINAL LOAN-TO-VALUE (LTV) \n",
    "\n",
    "In the case of a purchase mortgage loan, the ratio obtained by dividing the original mortgage loan amount on the note date by the lesser of the mortgaged property’s appraised value on the note date or its purchase price. \n",
    " \n",
    "In the case of a refinance mortgage loan, the ratio obtained by dividing the original mortgage loan amount on the note date and the mortgaged property’s appraised value on the note date. \n",
    " \n",
    "In the case of a seasoned mortgage loan, if the Seller cannot warrant that the value of the mortgaged property has not declined since the note date, Freddie Mac requires that the Seller must provide a new appraisal value, which is used in the LTV calculation. \n",
    " \n",
    "Ratios below 6% or greater than 105% will be disclosed as “Unknown,” indicated by three (3) blank spaces = 999."
   ]
  },
  {
   "cell_type": "code",
   "execution_count": 435,
   "metadata": {
    "collapsed": false
   },
   "outputs": [
    {
     "name": "stdout",
     "output_type": "stream",
     "text": [
      "344547    6.0\n",
      "282505    6.0\n",
      "261221    6.0\n",
      "348944    6.0\n",
      "335030    6.0\n",
      "Name: ORIGINAL_LOAN_TO_VALUE_LTV, dtype: float64\n",
      "329697   NaN\n",
      "330915   NaN\n",
      "336014   NaN\n",
      "341291   NaN\n",
      "349926   NaN\n",
      "Name: ORIGINAL_LOAN_TO_VALUE_LTV, dtype: float64\n"
     ]
    }
   ],
   "source": [
    "print (Quarter_data.ORIGINAL_LOAN_TO_VALUE_LTV.sort_values().head())\n",
    "print (Quarter_data.ORIGINAL_LOAN_TO_VALUE_LTV.sort_values().tail())"
   ]
  },
  {
   "cell_type": "code",
   "execution_count": 436,
   "metadata": {
    "collapsed": false
   },
   "outputs": [
    {
     "name": "stdout",
     "output_type": "stream",
     "text": [
      "295628    6\n",
      "335030    6\n",
      "289660    6\n",
      "329504    6\n",
      "35806     6\n",
      "Name: ORIGINAL_LOAN_TO_VALUE_LTV, dtype: int32\n",
      "336014    999\n",
      "329559    999\n",
      "329697    999\n",
      "256685    999\n",
      "313934    999\n",
      "Name: ORIGINAL_LOAN_TO_VALUE_LTV, dtype: int32\n"
     ]
    },
    {
     "name": "stderr",
     "output_type": "stream",
     "text": [
      "C:\\Users\\sweta\\Anaconda3\\lib\\site-packages\\ipykernel\\__main__.py:4: SettingWithCopyWarning: \n",
      "A value is trying to be set on a copy of a slice from a DataFrame\n",
      "\n",
      "See the caveats in the documentation: http://pandas.pydata.org/pandas-docs/stable/indexing.html#indexing-view-versus-copy\n",
      "C:\\Users\\sweta\\Anaconda3\\lib\\site-packages\\ipykernel\\__main__.py:5: SettingWithCopyWarning: \n",
      "A value is trying to be set on a copy of a slice from a DataFrame\n",
      "\n",
      "See the caveats in the documentation: http://pandas.pydata.org/pandas-docs/stable/indexing.html#indexing-view-versus-copy\n"
     ]
    }
   ],
   "source": [
    "Quarter_data['ORIGINAL_LOAN_TO_VALUE_LTV'] = Quarter_data.ORIGINAL_LOAN_TO_VALUE_LTV.fillna(999)\n",
    "Quarter_data['ORIGINAL_LOAN_TO_VALUE_LTV'] = Quarter_data.ORIGINAL_LOAN_TO_VALUE_LTV.astype(int)\n",
    "\n",
    "Quarter_data.ORIGINAL_LOAN_TO_VALUE_LTV[Quarter_data.ORIGINAL_LOAN_TO_VALUE_LTV < 6] = 999\n",
    "Quarter_data.ORIGINAL_LOAN_TO_VALUE_LTV[Quarter_data.ORIGINAL_LOAN_TO_VALUE_LTV > 105] = 999\n",
    "\n",
    "print (Quarter_data.ORIGINAL_LOAN_TO_VALUE_LTV.sort_values().head())\n",
    "print (Quarter_data.ORIGINAL_LOAN_TO_VALUE_LTV.sort_values().tail())"
   ]
  },
  {
   "cell_type": "markdown",
   "metadata": {},
   "source": [
    "### 13) ORIGINAL INTEREST RATE \n",
    "\n",
    "The original note rate as indicated on the mortgage note. "
   ]
  },
  {
   "cell_type": "code",
   "execution_count": 437,
   "metadata": {
    "collapsed": false
   },
   "outputs": [
    {
     "name": "stdout",
     "output_type": "stream",
     "text": [
      "253549    3.50\n",
      "253550    3.50\n",
      "351728    3.50\n",
      "350835    3.75\n",
      "253547    3.75\n",
      "Name: ORIGINAL_INTEREST_RATE, dtype: float64\n",
      "351712     9.00\n",
      "351718     9.80\n",
      "351694     9.80\n",
      "253504    10.15\n",
      "351661    10.35\n",
      "Name: ORIGINAL_INTEREST_RATE, dtype: float64\n"
     ]
    }
   ],
   "source": [
    "print (Quarter_data.ORIGINAL_INTEREST_RATE.sort_values().head())\n",
    "print (Quarter_data.ORIGINAL_INTEREST_RATE.sort_values().tail())"
   ]
  },
  {
   "cell_type": "markdown",
   "metadata": {},
   "source": [
    "### 14) CHANNEL \n",
    "\n",
    "R = Retail  B = Broker  C = Correspondent  T = TPO Not Specified  Space = Unknown = U"
   ]
  },
  {
   "cell_type": "code",
   "execution_count": 438,
   "metadata": {
    "collapsed": false
   },
   "outputs": [
    {
     "data": {
      "text/plain": [
       "array(['R', 'T', 'C', 'B'], dtype=object)"
      ]
     },
     "execution_count": 438,
     "metadata": {},
     "output_type": "execute_result"
    }
   ],
   "source": [
    "Quarter_data.CHANNEL.unique()"
   ]
  },
  {
   "cell_type": "code",
   "execution_count": 439,
   "metadata": {
    "collapsed": false
   },
   "outputs": [
    {
     "data": {
      "text/plain": [
       "array(['R', 'T', 'C', 'B'], dtype=object)"
      ]
     },
     "execution_count": 439,
     "metadata": {},
     "output_type": "execute_result"
    }
   ],
   "source": [
    "Quarter_data['CHANNEL'] = Quarter_data.CHANNEL.fillna('U')\n",
    "Quarter_data['CHANNEL'] = Quarter_data.CHANNEL.replace(' ','U')\n",
    "Quarter_data.CHANNEL.unique()"
   ]
  },
  {
   "cell_type": "markdown",
   "metadata": {},
   "source": [
    "### 15) PREPAYMENT PENALTY MORTGAGE (PPM) FLAG \n",
    "\n",
    "Denotes whether the mortgage is a PPM. A PPM is a mortgage with respect to which the borrower is, or at any time has been, obligated to pay a penalty in the event of certain repayments of principal. \n",
    "\n",
    "Y = PPM  N = Not PPM   Space (1) = Unknown = U"
   ]
  },
  {
   "cell_type": "code",
   "execution_count": 440,
   "metadata": {
    "collapsed": false
   },
   "outputs": [
    {
     "data": {
      "text/plain": [
       "array(['N', nan, 'Y'], dtype=object)"
      ]
     },
     "execution_count": 440,
     "metadata": {},
     "output_type": "execute_result"
    }
   ],
   "source": [
    "Quarter_data.PREPAYMENT_PENALTY_MORTGAGE_PPM_FLAG.unique()"
   ]
  },
  {
   "cell_type": "code",
   "execution_count": 441,
   "metadata": {
    "collapsed": false
   },
   "outputs": [
    {
     "data": {
      "text/plain": [
       "True"
      ]
     },
     "execution_count": 441,
     "metadata": {},
     "output_type": "execute_result"
    }
   ],
   "source": [
    "Quarter_data['PREPAYMENT_PENALTY_MORTGAGE_PPM_FLAG'].isnull().values.any()"
   ]
  },
  {
   "cell_type": "code",
   "execution_count": 442,
   "metadata": {
    "collapsed": false
   },
   "outputs": [
    {
     "data": {
      "text/plain": [
       "array(['N', 'U', 'Y'], dtype=object)"
      ]
     },
     "execution_count": 442,
     "metadata": {},
     "output_type": "execute_result"
    }
   ],
   "source": [
    "Quarter_data['PREPAYMENT_PENALTY_MORTGAGE_PPM_FLAG'] = Quarter_data.PREPAYMENT_PENALTY_MORTGAGE_PPM_FLAG.fillna('U')\n",
    "Quarter_data.PREPAYMENT_PENALTY_MORTGAGE_PPM_FLAG.unique()"
   ]
  },
  {
   "cell_type": "markdown",
   "metadata": {},
   "source": [
    "### 16) PRODUCT TYPE \n",
    "\n",
    "Denotes that the product is a fixed-rate mortgage.\n",
    "\n",
    "FRM – Fixed Rate Mortgage "
   ]
  },
  {
   "cell_type": "code",
   "execution_count": 443,
   "metadata": {
    "collapsed": false
   },
   "outputs": [
    {
     "data": {
      "text/plain": [
       "array(['FRM'], dtype=object)"
      ]
     },
     "execution_count": 443,
     "metadata": {},
     "output_type": "execute_result"
    }
   ],
   "source": [
    "Quarter_data.PRODUCT_TYPE.unique()"
   ]
  },
  {
   "cell_type": "markdown",
   "metadata": {},
   "source": [
    "### 17) PROPERTY STATE \n",
    "\n",
    "A two-letter abbreviation indicating the state or territory within which the property securing the mortgage is located. \n",
    "\n",
    "AL, TX, VA, etc\n",
    "UN = Unknown"
   ]
  },
  {
   "cell_type": "code",
   "execution_count": 444,
   "metadata": {
    "collapsed": false
   },
   "outputs": [
    {
     "data": {
      "text/plain": [
       "array(['RI', 'OK', 'NY', 'MO', 'MN', 'IL', 'KY', 'WA', 'TX', 'FL', 'CA',\n",
       "       'IN', 'NJ', 'ID', 'TN', 'KS', 'MI', 'IA', 'MT', 'GA', 'OH', 'OR',\n",
       "       'ME', 'CT', 'WV', 'NH', 'VA', 'NC', 'AZ', 'NE', 'MD', 'MA', 'UT',\n",
       "       'CO', 'ND', 'PA', 'SC', 'DE', 'SD', 'WI', 'AL', 'AK', 'VT', 'LA',\n",
       "       'AR', 'NM', 'HI', 'DC', 'MS', 'NV', 'GU', 'WY', 'PR', 'VI'], dtype=object)"
      ]
     },
     "execution_count": 444,
     "metadata": {},
     "output_type": "execute_result"
    }
   ],
   "source": [
    "Quarter_data.PROPERTY_STATE.unique()"
   ]
  },
  {
   "cell_type": "code",
   "execution_count": 445,
   "metadata": {
    "collapsed": false
   },
   "outputs": [
    {
     "data": {
      "text/plain": [
       "False"
      ]
     },
     "execution_count": 445,
     "metadata": {},
     "output_type": "execute_result"
    }
   ],
   "source": [
    "Quarter_data['PROPERTY_STATE'].isnull().values.any()"
   ]
  },
  {
   "cell_type": "code",
   "execution_count": 446,
   "metadata": {
    "collapsed": true
   },
   "outputs": [],
   "source": [
    "Quarter_data['PROPERTY_STATE'] = Q12005_data.PROPERTY_STATE.fillna('UN')"
   ]
  },
  {
   "cell_type": "markdown",
   "metadata": {},
   "source": [
    "### 18) PROPERTY TYPE \n",
    "\n",
    "Denotes whether the property type secured by the mortgage is a condominium, leasehold, planned unit development (PUD), cooperative share, manufactured home, or Single Family home.  \n",
    " \n",
    "If the Property Type is unknown, this will be indicated by two (2) blank spaces or 'UN'.\n",
    "\n",
    "CO = Condo  LH = Leasehold  PU = PUD  MH = Manufactured Housing  SF = 1-4 Fee Simple  CP = Co-op  \n",
    "Space (2) = Unknown = UN"
   ]
  },
  {
   "cell_type": "code",
   "execution_count": 447,
   "metadata": {
    "collapsed": false
   },
   "outputs": [
    {
     "data": {
      "text/plain": [
       "False"
      ]
     },
     "execution_count": 447,
     "metadata": {},
     "output_type": "execute_result"
    }
   ],
   "source": [
    "Quarter_data['PROPERTY_TYPE'].isnull().values.any()"
   ]
  },
  {
   "cell_type": "code",
   "execution_count": 448,
   "metadata": {
    "collapsed": false
   },
   "outputs": [
    {
     "data": {
      "text/plain": [
       "array(['SF', 'CO', 'PU', 'MH', 'LH', 'CP', '  '], dtype=object)"
      ]
     },
     "execution_count": 448,
     "metadata": {},
     "output_type": "execute_result"
    }
   ],
   "source": [
    "Quarter_data.PROPERTY_TYPE.unique()"
   ]
  },
  {
   "cell_type": "code",
   "execution_count": 449,
   "metadata": {
    "collapsed": false
   },
   "outputs": [],
   "source": [
    "Quarter_data['PROPERTY_TYPE'] = Quarter_data.PROPERTY_TYPE.replace('  ','UN')"
   ]
  },
  {
   "cell_type": "code",
   "execution_count": 450,
   "metadata": {
    "collapsed": false
   },
   "outputs": [
    {
     "data": {
      "text/plain": [
       "array(['SF', 'CO', 'PU', 'MH', 'LH', 'CP', 'UN'], dtype=object)"
      ]
     },
     "execution_count": 450,
     "metadata": {},
     "output_type": "execute_result"
    }
   ],
   "source": [
    "Quarter_data.PROPERTY_TYPE.unique()"
   ]
  },
  {
   "cell_type": "markdown",
   "metadata": {},
   "source": [
    "### 19) POSTAL CODE \n",
    "\n",
    "The postal code for the location of the mortgaged property \n",
    "\n",
    "###00, where “###” represents the first three digits of the 5digit postal code  \n",
    "Space(5)= Unknown = 99999"
   ]
  },
  {
   "cell_type": "code",
   "execution_count": 451,
   "metadata": {
    "collapsed": false
   },
   "outputs": [
    {
     "data": {
      "text/plain": [
       "True"
      ]
     },
     "execution_count": 451,
     "metadata": {},
     "output_type": "execute_result"
    }
   ],
   "source": [
    "Quarter_data['POSTAL_CODE'].isnull().values.any()"
   ]
  },
  {
   "cell_type": "code",
   "execution_count": 452,
   "metadata": {
    "collapsed": false
   },
   "outputs": [
    {
     "data": {
      "text/plain": [
       "array([  2800.,  73000.,  12500.,  65000.,  55900.,  62500.,  41000.,\n",
       "        12400.,  98900.,  98500.,  75900.,  32000.,  61900.,  77900.,\n",
       "        92800.,  42100.,  42700.,  46300.,   7000.,  83500.,  37800.,\n",
       "        62400.,  67100.,  48100.,  93600.,  66000.,  32400.,  52100.,\n",
       "        34700.,  62200.,  47500.,  40400.,  92200.,  49800.,  91300.,\n",
       "        59900.,  40300.,  30200.,  45000.,  97100.,  66500.,  45600.,\n",
       "        45300.,  62800.,  50500.,  48000.,   4200.,   6000.,  31500.,\n",
       "        24700.,   3200.,  22400.,  49700.,  62000.,  27100.,  98200.,\n",
       "        85000.,  61000.,  61500.,  68800.,  92500.,  99300.,  61700.,\n",
       "        20600.,   6300.,  13400.,  66400.,  32600.,  51300.,  56300.,\n",
       "        60400.,   6400.,   1400.,  46600.,   7700.,   4800.,  52300.,\n",
       "        23000.,   4000.,  22500.,  93700.,  27800.,  32100.,  49000.,\n",
       "        84600.,  84700.,  67000.,  43900.,   4500.,  67200.,  81200.,\n",
       "        23200.,  28400.,  98800.,  10900.,  97500.,  60500.,  46500.,\n",
       "        14800.,   1900.,  44000.,  58000.,  81100.,  16900.,  47700.,\n",
       "        19000.,  29600.,  19400.,  77600.,  14900.,  34200.,  83300.,\n",
       "        49200.,  21700.,   6100.,   4400.,  47900.,  19800.,  66600.,\n",
       "        19700.,   2100.,  31700.,  50800.,  23100.,  27200.,  78100.,\n",
       "        75700.,  49600.,  33800.,  30100.,  46100.,  56500.,  44600.,\n",
       "        75100.,  34900.,  57000.,  52000.,  68900.,  61400.,  95800.,\n",
       "        48400.,  41400.,  32300.,  28600.,  43500.,  34400.,  47300.,\n",
       "        54500.,  47600.,  16800.,  34600.,  58200.,  12600.,  20700.,\n",
       "         4900.,   4300.,  18200.,  58700.,  55800.,  67500.,  65700.,\n",
       "        35400.,  48700.,  48600.,  21900.,   3900.,  65200.,  53500.,\n",
       "        97800.,  66700.,  66200.,  40500.,  63300.,  30000.,  17600.,\n",
       "         6200.,  99500.,  55300.,  77700.,  46900.,  50200.,  65800.,\n",
       "        30800.,  42300.,  27000.,   2000.,  43600.,  14400.,   8700.,\n",
       "        52800.,   4100.,  84100.,  61800.,  52600.,  61300.,  42400.,\n",
       "        25600.,  30300.,  84000.,  55100.,  18600.,  58100.,  63000.,\n",
       "        54400.,  21200.,   8800.,  54000.,  32500.,  46000.,  26000.,\n",
       "        48500.,  74500.,   3800.,  47400.,  29300.,  84300.,  46700.,\n",
       "        15800.,  50100.,  55000.,  32200.,  28100.,  54800.,  42500.,\n",
       "        62900.,  58500.,  48800.,  78300.,  27300.,  47000.,  43300.,\n",
       "        35500.,  65600.,   2900.,  46800.,  54600.,  17200.,  21000.,\n",
       "        10500.,  56000.,  60600.,  23700.,  49100.,  63700.,  81300.,\n",
       "        29500.,  64800.,  12700.,  21500.,  56200.,  54700.,  31000.,\n",
       "        32800.,   3000.,  19900.,  17500.,  60900.,  60100.,  17000.,\n",
       "        44100.,  11400.,  75600.,  54200.,  53100.,  61600.,  73500.,\n",
       "        30600.,  33400.,  50000.,  92300.,  22300.,   2600.,  20900.,\n",
       "         5400.,   5700.,  45800.,  53900.,  63100.,  43800.,  27500.,\n",
       "        14600.,  53400.,  74100.,  62700.,  60000.,  74000.,  10300.,\n",
       "        70400.,  35700.,  53000.,  16000.,  43200.,  71900.,   5000.,\n",
       "        28500.,  13200.,  88000.,  96700.,  41100.,  33900.,  21600.,\n",
       "         3700.,  47200.,  29400.,  61200.,  54900.,  41500.,  77300.,\n",
       "        37700.,  43000.,  29900.,  54100.,  20100.,  27900.,  18400.,\n",
       "         1000.,   6500.,  15200.,  44500.,   5300.,  17700.,  30900.,\n",
       "        30500.,  35900.,  30700.,  73100.,  58800.,  80000.,  95000.,\n",
       "        49300.,  31400.,  42600.,  29700.,  51000.,   7100.,  23900.,\n",
       "        51400.,  77000.,  18100.,  37000.,  14700.,  14200.,  16200.,\n",
       "        44400.,  80500.,  23600.,  98600.,  67800.,  87100.,   1500.,\n",
       "        92100.,  45200.,  80900.,  65100.,  62600.,  93000.,  35000.,\n",
       "        41600.,   5200.,  38500.,   1800.,  57100.,  78700.,  74800.,\n",
       "        15600.,  47100.,  14500.,  67400.,  44200.,  18000.,  34100.,\n",
       "        86400.,  25400.,  72900.,  19100.,  85600.,  64100.,  76100.,\n",
       "        13000.,   8000.,  30400.,  80800.,  23800.,  87500.,  77800.,\n",
       "        85900.,   3300.,   7600.,  98000.,  90600.,  75000.,  20800.,\n",
       "        85200.,  95600.,  35600.,  29000.,  45100.,   2500.,  56400.,\n",
       "        42200.,  36500.,  35100.,  43400.,  16100.,  58400.,  48300.,\n",
       "        98300.,  96800.,  11300.,   1700.,  98100.,  33700.,  20000.,\n",
       "        77500.,  27600.,  42000.,  17800.,  52400.,  38900.,  93300.,\n",
       "        84400.,  91500.,  49500.,  21100.,  22900.,  59700.,  89000.,\n",
       "        80600.,  55400.,  44800.,  49400.,  90500.,  55700.,  78600.,\n",
       "        81000.,  37100.,  79100.,  76000.,  99700.,  40200.,  95100.,\n",
       "        92400.,  46200.,  50700.,  83600.,  63600.,  78200.,  70700.,\n",
       "        21800.,  39700.,  60700.,  28700.,  32900.,  33600.,  22100.,\n",
       "        97200.,  96900.,  86300.,  56600.,  78000.,  88200.,  33000.,\n",
       "        24600.,  94500.,  44700.,  94100.,  74400.,  18900.,  71300.,\n",
       "        12300.,  87700.,  83200.,  43100.,  64000.,  24000.,  97700.,\n",
       "        36300.,  22600.,  80200.,  80100.,  89100.,  68000.,  68500.,\n",
       "        28200.,  77400.,  44300.,  93500.,  33300.,  93200.,  59800.,\n",
       "        14100.,  35200.,  17300.,   2400.,  40000.,  21400.,   6800.,\n",
       "        81600.,  53200.,  98400.,  92000.,  24500.,   7800.,  61100.,\n",
       "        40100.,  72700.,  97400.,  90700.,  91700.,  94000.,  95200.,\n",
       "        80300.,  93900.,  95300.,  95400.,  29200.,  41200.,   1300.,\n",
       "         3400.,  33100.,  10700.,  11200.,  90300.,   2300.,  48200.,\n",
       "        59100.,  28000.,  17100.,  87400.,  74300.,  14300.,  28900.,\n",
       "        22200.,  85300.,  80400.,  72300.,  39800.,   6600.,   2200.,\n",
       "        87000.,   7500.,  69100.,  59400.,   1200.,  99900.,  92700.,\n",
       "        43700.,  15000.,  38000.,   5900.,  45400.,  72200.,  72100.,\n",
       "        91400.,  94600.,  12900.,  97000.,  93100.,  95500.,  13300.,\n",
       "        95700.,  11900.,  27700.,  70600.,  23400.,  53800.,  96100.,\n",
       "        85700.,  85100.,  90800.,  95900.,  12100.,  63400.,  11700.,\n",
       "        76900.,  75200.,  71200.,  39600.,  25500.,  40600.,  47800.,\n",
       "        57500.,  52700.,  96000.,   7400.,  40900.,   2700.,  64400.,\n",
       "        54300.,  23500.,  91900.,   5600.,   5800.,  92600.,  12200.,\n",
       "        33500.,  22000.,  23300.,  17400.,  82000.,  28300.,  37900.,\n",
       "        12800.,  12000.,  32700.,   3500.,  25100.,  56700.,  64600.,\n",
       "        99800.,  39500.,   1600.,  19300.,  83000.,  22700.,  91000.,\n",
       "        36600.,  53700.,  99600.,  89400.,  70000.,  83800.,  26500.,\n",
       "        11500.,  97300.,  39000.,  74600.,  70100.,  70500.,  72800.,\n",
       "        60200.,  79900.,  19600.,  46400.,  83700.,  90400.,  94800.,\n",
       "        88100.,  24200.,   8300.,  37600.,  24900.,  25700.,  29100.,\n",
       "        26700.,  27400.,  24300.,  72000.,  37300.,  68100.,  37200.,\n",
       "        90200.,  16500.,  36800.,  78500.,  52200.,  50300.,  13900.,\n",
       "        13700.,  11000.,  28800.,  73400.,  99400.,  59000.,  82600.,\n",
       "        89500.,  35800.,  26100.,  22800.,  67300.,  51600.,   3600.,\n",
       "         5100.,  90000.,  31300.,  25300.,  48900.,  50400.,  15100.,\n",
       "        59600.,  99200.,  31600.,  68400.,  93400.,  82900.,  91200.,\n",
       "        91600.,  94900.,  24400.,  75800.,  18500.,  73700.,  14000.,\n",
       "        13600.,  84500.,  44900.,  83100.,  79700.,  38600.,  71100.,\n",
       "        36700.,  94300.,  38100.,  78900.,  76200.,  10000.,   4600.,\n",
       "        70800.,  66800.,  49900.,  41700.,  88300.,  16400.,  36400.,\n",
       "        65500.,  38400.,  16600.,    600.,  82400.,  31200.,   8200.,\n",
       "        29800.,  64500.,  36200.,  45700.,  11100.,  85500.,  18800.,\n",
       "          700.,    900.,  97600.,  64700.,  39400.,  13500.,   1100.,\n",
       "        56100.,  15300.,   7900.,   8500.,  31900.,  71000.,  24100.,\n",
       "        78400.,  16300.,  15400.,  38300.,  63800.,   6700.,  68300.,\n",
       "        91100.,  76800.,  51200.,  75400.,  57700.,  11800.,  38200.,\n",
       "        36000.,   8100.,  72400.,   3100.,  71400.,  60300.,  60800.,\n",
       "        65300.,   8600.,  66100.,  80700.,   7300.,  68600.,  63900.,\n",
       "        86000.,  82500.,  63500.,  51500.,  19500.,  57300.,  40700.,\n",
       "        83400.,  45500.,  82700.,  31800.,  81500.,  18300.,  52500.,\n",
       "        55600.,  79000.,  13800.,  75500.,  17900.,  10400.,  37400.,\n",
       "        39100.,  26200.,  50600.,  76500.,  78800.,  36100.,  26300.,\n",
       "        26400.,  62300.,  10800.,   8400.,  39200.,  39300.,  89700.,\n",
       "        82800.,  79400.,  26800.,  99000.,  38800.,  10100.,  76400.,\n",
       "        79600.,   8900.,  71600.,  70300.,  99100.,  25800.,  76300.,\n",
       "         7200.,  79500.,  82200.,  65400.,  13100.,  25200.,  11600.,\n",
       "        72500.,  71700.,  81400.,  69300.,  91800.,  94700.,  18700.,\n",
       "        89800.,  79800.,  51100.,  67600.,  68700.,  41300.,  94400.,\n",
       "        15500.,  57200.,  58600.,  25000.,  59500.,  82300.,  26600.,\n",
       "        41800.,  72600.,  97900.,   6900.,  76600.,  73600.,  74900.,\n",
       "        15700.,  67700.,  15900.,  57400.,  59300.,  87800.,  66900.,\n",
       "        87900.,  73800.,  10600.,  74700.,  40800.,  79300.,  88400.,\n",
       "        71800.,  87300.,    800.,   4700.,  76700.,  57600.,  69000.,\n",
       "        38700.,  69200.,  25900.,  16700.,  79200.,  58300.,  67900.,\n",
       "        73900.,  89300.,  36900.,  10200.,  59200.,  24800.,     nan])"
      ]
     },
     "execution_count": 452,
     "metadata": {},
     "output_type": "execute_result"
    }
   ],
   "source": [
    "Quarter_data.POSTAL_CODE.unique()"
   ]
  },
  {
   "cell_type": "code",
   "execution_count": 453,
   "metadata": {
    "collapsed": false
   },
   "outputs": [
    {
     "name": "stdout",
     "output_type": "stream",
     "text": [
      "POSTAL_CODE\n",
      "600.0     414\n",
      "700.0     540\n",
      "800.0       7\n",
      "900.0     633\n",
      "1000.0    374\n",
      "Name: POSTAL_CODE, dtype: int64\n",
      "POSTAL_CODE\n",
      "99600.0    174\n",
      "99700.0     69\n",
      "99800.0     84\n",
      "99900.0     30\n",
      "99999.0      2\n",
      "Name: POSTAL_CODE, dtype: int64\n"
     ]
    }
   ],
   "source": [
    "Quarter_data['POSTAL_CODE'] = Quarter_data.POSTAL_CODE.fillna(99999)\n",
    "postal_code_count = Quarter_data.groupby('POSTAL_CODE')\n",
    "print (postal_code_count['POSTAL_CODE'].count().head())\n",
    "print (postal_code_count['POSTAL_CODE'].count().tail())"
   ]
  },
  {
   "cell_type": "markdown",
   "metadata": {},
   "source": [
    "### 20) LOAN SEQUENCE NUMBER \n",
    "\n",
    "Unique identifier assigned to each loan\n",
    "\n",
    "F1YYQnXXXXXX \n",
    " \n",
    "F1 = product (Fixed Rate Mortgage);   YYQn = origination year and quarter; and,   XXXXXX = randomly assigned digits"
   ]
  },
  {
   "cell_type": "code",
   "execution_count": 454,
   "metadata": {
    "collapsed": false
   },
   "outputs": [
    {
     "data": {
      "text/plain": [
       "False"
      ]
     },
     "execution_count": 454,
     "metadata": {},
     "output_type": "execute_result"
    }
   ],
   "source": [
    "Quarter_data['LOAN_SEQUENCE_NUMBER'].isnull().values.any()"
   ]
  },
  {
   "cell_type": "markdown",
   "metadata": {},
   "source": [
    "### Each Row is UNIQUE"
   ]
  },
  {
   "cell_type": "code",
   "execution_count": 455,
   "metadata": {
    "collapsed": false
   },
   "outputs": [
    {
     "data": {
      "text/plain": [
       "351739"
      ]
     },
     "execution_count": 455,
     "metadata": {},
     "output_type": "execute_result"
    }
   ],
   "source": [
    "loan_sequence_number_count = Quarter_data.groupby('LOAN_SEQUENCE_NUMBER')\n",
    "sum(loan_sequence_number_count['LOAN_SEQUENCE_NUMBER'].count())\n",
    "#Which means each row is unique becuase sum of rows matches to the source count"
   ]
  },
  {
   "cell_type": "markdown",
   "metadata": {},
   "source": [
    "### 21) LOAN PURPOSE\n",
    "\n",
    "P = Purchase  C = Cash-out Refinance  N = No Cash-out Refinance  Space = Unknown = U"
   ]
  },
  {
   "cell_type": "code",
   "execution_count": 456,
   "metadata": {
    "collapsed": false
   },
   "outputs": [
    {
     "data": {
      "text/plain": [
       "False"
      ]
     },
     "execution_count": 456,
     "metadata": {},
     "output_type": "execute_result"
    }
   ],
   "source": [
    "Quarter_data['LOAN_PURPOSE'].isnull().values.any()"
   ]
  },
  {
   "cell_type": "code",
   "execution_count": 457,
   "metadata": {
    "collapsed": false
   },
   "outputs": [
    {
     "data": {
      "text/plain": [
       "array(['C', 'N', 'P'], dtype=object)"
      ]
     },
     "execution_count": 457,
     "metadata": {},
     "output_type": "execute_result"
    }
   ],
   "source": [
    "Quarter_data['LOAN_PURPOSE'].unique()"
   ]
  },
  {
   "cell_type": "code",
   "execution_count": 458,
   "metadata": {
    "collapsed": false
   },
   "outputs": [
    {
     "data": {
      "text/plain": [
       "array(['C', 'N', 'P'], dtype=object)"
      ]
     },
     "execution_count": 458,
     "metadata": {},
     "output_type": "execute_result"
    }
   ],
   "source": [
    "Quarter_data['LOAN_PURPOSE'] = Quarter_data.LOAN_PURPOSE.fillna('U')\n",
    "Quarter_data['LOAN_PURPOSE'].unique()"
   ]
  },
  {
   "cell_type": "code",
   "execution_count": 459,
   "metadata": {
    "collapsed": false
   },
   "outputs": [
    {
     "name": "stdout",
     "output_type": "stream",
     "text": [
      "LOAN_PURPOSE\n",
      "C    127115\n",
      "N    108028\n",
      "P    116596\n",
      "Name: LOAN_PURPOSE, dtype: int64\n",
      "351739\n"
     ]
    }
   ],
   "source": [
    "loan_purpose_count = Quarter_data.groupby('LOAN_PURPOSE')\n",
    "print (loan_purpose_count['LOAN_PURPOSE'].count())\n",
    "print (sum(loan_purpose_count['LOAN_PURPOSE'].count()))"
   ]
  },
  {
   "cell_type": "markdown",
   "metadata": {},
   "source": [
    "### 22) ORIGINAL LOAN TERM\n",
    "\n",
    "A calculation of the number of scheduled monthly payments of the mortgage based on the First Payment Date and Maturity Date. \n",
    " \n",
    "Loans with original term of 420 or more, or 300 or less, are excluded from the Dataset if originated prior to 1/1/2005.  If loan was originated on/after 1/1/2005, this exclusion does not apply.\n",
    "\n",
    "Calculation:  (Loan Maturity Date (MM/YY) – Loan First Payment Date (MM/YY) + 1) "
   ]
  },
  {
   "cell_type": "code",
   "execution_count": 460,
   "metadata": {
    "collapsed": false
   },
   "outputs": [
    {
     "data": {
      "text/plain": [
       "False"
      ]
     },
     "execution_count": 460,
     "metadata": {},
     "output_type": "execute_result"
    }
   ],
   "source": [
    "Quarter_data['ORIGINAL_LOAN_TERM'].isnull().values.any()"
   ]
  },
  {
   "cell_type": "code",
   "execution_count": 461,
   "metadata": {
    "collapsed": false
   },
   "outputs": [
    {
     "name": "stdout",
     "output_type": "stream",
     "text": [
      "ORIGINAL_LOAN_TERM\n",
      "60         13\n",
      "72          2\n",
      "84          9\n",
      "92          1\n",
      "93          1\n",
      "96         16\n",
      "100         1\n",
      "102         1\n",
      "103         1\n",
      "108         2\n",
      "119         1\n",
      "120      7834\n",
      "121        18\n",
      "123         3\n",
      "125         1\n",
      "126         2\n",
      "127         1\n",
      "128         3\n",
      "130         2\n",
      "132        45\n",
      "134         1\n",
      "135         3\n",
      "136         1\n",
      "137         2\n",
      "138         6\n",
      "139         5\n",
      "140         2\n",
      "141         2\n",
      "142         3\n",
      "143         1\n",
      "        ...  \n",
      "339         3\n",
      "340         7\n",
      "341        10\n",
      "342        20\n",
      "343        18\n",
      "344        15\n",
      "345        21\n",
      "346        22\n",
      "347        23\n",
      "348       167\n",
      "349        28\n",
      "350        40\n",
      "351        80\n",
      "352        56\n",
      "353        68\n",
      "354       111\n",
      "355        48\n",
      "356        30\n",
      "357        20\n",
      "358        22\n",
      "359        73\n",
      "360    251864\n",
      "361         4\n",
      "363         1\n",
      "368         1\n",
      "433         1\n",
      "480         7\n",
      "549         1\n",
      "556         1\n",
      "557         1\n",
      "Name: ORIGINAL_LOAN_TERM, dtype: int64\n",
      "351739\n"
     ]
    }
   ],
   "source": [
    "original_loan_term_count = Quarter_data.groupby('ORIGINAL_LOAN_TERM')\n",
    "print (original_loan_term_count['ORIGINAL_LOAN_TERM'].count())\n",
    "print (sum(original_loan_term_count['ORIGINAL_LOAN_TERM'].count()))"
   ]
  },
  {
   "cell_type": "markdown",
   "metadata": {},
   "source": [
    "### 23) Number of Borrowers\n",
    "\n",
    "The number of Borrower(s) who are obligated to repay the mortgage note secured by the mortgaged property. Disclosure denotes only whether there is one borrower or more than one borrower associated with the mortgage note. This disclosure will not be updated to reflect any subsequent assumption of the mortgage note. \n",
    "\n",
    "01 = 1 borrower  02 = > 1 borrowers  Space (2) = Unknown = 'UN'"
   ]
  },
  {
   "cell_type": "code",
   "execution_count": 462,
   "metadata": {
    "collapsed": false
   },
   "outputs": [
    {
     "data": {
      "text/plain": [
       "True"
      ]
     },
     "execution_count": 462,
     "metadata": {},
     "output_type": "execute_result"
    }
   ],
   "source": [
    "Quarter_data['NUMBER_OF_BORROWERS'].isnull().values.any()"
   ]
  },
  {
   "cell_type": "code",
   "execution_count": 463,
   "metadata": {
    "collapsed": false
   },
   "outputs": [
    {
     "data": {
      "text/plain": [
       "array([  2.,   1.,  nan])"
      ]
     },
     "execution_count": 463,
     "metadata": {},
     "output_type": "execute_result"
    }
   ],
   "source": [
    "Quarter_data['NUMBER_OF_BORROWERS'].unique()"
   ]
  },
  {
   "cell_type": "code",
   "execution_count": 464,
   "metadata": {
    "collapsed": false
   },
   "outputs": [
    {
     "data": {
      "text/plain": [
       "array([2.0, 1.0, 'UN'], dtype=object)"
      ]
     },
     "execution_count": 464,
     "metadata": {},
     "output_type": "execute_result"
    }
   ],
   "source": [
    "Quarter_data['NUMBER_OF_BORROWERS'] = Quarter_data.NUMBER_OF_BORROWERS.fillna('UN')\n",
    "Quarter_data['NUMBER_OF_BORROWERS'].unique()"
   ]
  },
  {
   "cell_type": "code",
   "execution_count": 465,
   "metadata": {
    "collapsed": false
   },
   "outputs": [
    {
     "name": "stdout",
     "output_type": "stream",
     "text": [
      "NUMBER_OF_BORROWERS\n",
      "1.0    146348\n",
      "2.0    205280\n",
      "UN        111\n",
      "Name: NUMBER_OF_BORROWERS, dtype: int64\n",
      "351739\n"
     ]
    }
   ],
   "source": [
    "number_of_borrowers_count = Quarter_data.groupby('NUMBER_OF_BORROWERS')\n",
    "print (number_of_borrowers_count['NUMBER_OF_BORROWERS'].count())\n",
    "print (sum(number_of_borrowers_count['NUMBER_OF_BORROWERS'].count()))"
   ]
  },
  {
   "cell_type": "markdown",
   "metadata": {},
   "source": [
    "### 24) SELLER NAME\n",
    "\n",
    "The entity acting in its capacity as a seller of mortgages to Freddie Mac at the time of acquisition Seller Name will be disclosed for sellers with a total Original UPB representing 1% or more of the total Original UPB of all loans in the Dataset for a given calendar quarter.  Otherwise, the Seller Name will be set to “Other Sellers”. \n",
    "\n",
    "Name of the seller, or “Other Sellers”"
   ]
  },
  {
   "cell_type": "code",
   "execution_count": 466,
   "metadata": {
    "collapsed": false
   },
   "outputs": [
    {
     "data": {
      "text/plain": [
       "False"
      ]
     },
     "execution_count": 466,
     "metadata": {},
     "output_type": "execute_result"
    }
   ],
   "source": [
    "Quarter_data['SELLER_NAME'].isnull().values.any()"
   ]
  },
  {
   "cell_type": "code",
   "execution_count": 467,
   "metadata": {
    "collapsed": false
   },
   "outputs": [
    {
     "data": {
      "text/plain": [
       "array(['Other sellers', 'COUNTRYWIDE', 'TAYLOR,BEAN&WHITAKER',\n",
       "       'PROVIDENTFUNDINGASSO', 'USBANKNA', 'FIFTHTHIRDBANK',\n",
       "       'ABNAMROMTGEGROUP,INC', 'CHASEHOMEFINANCELLC', 'NATLCITYMTGECO',\n",
       "       'WELLSFARGOBANK,NA', 'GMACMTGECORP', 'WASHINGTONMUTUALBANK',\n",
       "       'FLAGSTARBANK,FSB', 'BANKOFAMERICA,NA'], dtype=object)"
      ]
     },
     "execution_count": 467,
     "metadata": {},
     "output_type": "execute_result"
    }
   ],
   "source": [
    "Quarter_data['SELLER_NAME'].unique()"
   ]
  },
  {
   "cell_type": "code",
   "execution_count": 468,
   "metadata": {
    "collapsed": false
   },
   "outputs": [
    {
     "name": "stdout",
     "output_type": "stream",
     "text": [
      "SELLER_NAME\n",
      "ABNAMROMTGEGROUP,INC    31626\n",
      "BANKOFAMERICA,NA         7446\n",
      "CHASEHOMEFINANCELLC     32449\n",
      "COUNTRYWIDE             19948\n",
      "FIFTHTHIRDBANK           5780\n",
      "FLAGSTARBANK,FSB         3835\n",
      "GMACMTGECORP             9677\n",
      "NATLCITYMTGECO          20235\n",
      "Other sellers           56083\n",
      "PROVIDENTFUNDINGASSO     4350\n",
      "TAYLOR,BEAN&WHITAKER     9530\n",
      "USBANKNA                16531\n",
      "WASHINGTONMUTUALBANK    46306\n",
      "WELLSFARGOBANK,NA       87943\n",
      "Name: SELLER_NAME, dtype: int64\n",
      "351739\n"
     ]
    }
   ],
   "source": [
    "Quarter_data['SELLER_NAME'] = Quarter_data.SELLER_NAME.fillna('Other sellers')\n",
    "seller_name_count = Quarter_data.groupby('SELLER_NAME')\n",
    "print (seller_name_count['SELLER_NAME'].count())\n",
    "print (sum(seller_name_count['SELLER_NAME'].count()))"
   ]
  },
  {
   "cell_type": "markdown",
   "metadata": {},
   "source": [
    "### 25) SERVICER NAME \n",
    "\n",
    "The entity acting in its capacity as the servicer of mortgages to Freddie Mac as of the last period for which loan activity is reported in the Dataset.   \n",
    " \n",
    "Servicer Name will be disclosed for servicers with a total Original UPB representing 1% or more of the total Original UPB of all loans in the Dataset for a given calendar quarter.  Otherwise, the Servicer Name will be set to “Other Servicers”. \n",
    "\n",
    "Name of the servicer, or “Other Servicers” "
   ]
  },
  {
   "cell_type": "code",
   "execution_count": 469,
   "metadata": {
    "collapsed": false
   },
   "outputs": [
    {
     "data": {
      "text/plain": [
       "False"
      ]
     },
     "execution_count": 469,
     "metadata": {},
     "output_type": "execute_result"
    }
   ],
   "source": [
    "Quarter_data['SERVICER_NAME'].isnull().values.any()"
   ]
  },
  {
   "cell_type": "code",
   "execution_count": 470,
   "metadata": {
    "collapsed": false
   },
   "outputs": [
    {
     "data": {
      "text/plain": [
       "array(['USBANKNA', 'Other servicers', 'PNCMTGESERVICES,INC',\n",
       "       'WELLSFARGOBANK,NA', 'WASHINGTONMUTUALBANK', 'PNCBANK,NATL',\n",
       "       'NATLCITYMTGECO', 'JPMORGANCHASEBANK,NA', 'COUNTRYWIDE',\n",
       "       'BANKOFAMERICA,NA', 'BACHOMELOANSERVICING', 'CITIMORTGAGE,INC',\n",
       "       'PROVIDENTFUNDINGASSO', 'ABNAMROMTGEGROUP,INC', 'NATIONSTARMTGELLC',\n",
       "       'FIFTHTHIRDBANK', 'GMACMORTGAGE,LLC'], dtype=object)"
      ]
     },
     "execution_count": 470,
     "metadata": {},
     "output_type": "execute_result"
    }
   ],
   "source": [
    "Quarter_data['SERVICER_NAME'].unique()"
   ]
  },
  {
   "cell_type": "code",
   "execution_count": 471,
   "metadata": {
    "collapsed": false
   },
   "outputs": [
    {
     "name": "stdout",
     "output_type": "stream",
     "text": [
      "SERVICER_NAME\n",
      "ABNAMROMTGEGROUP,INC      6475\n",
      "BACHOMELOANSERVICING      3407\n",
      "BANKOFAMERICA,NA         13890\n",
      "CITIMORTGAGE,INC         27529\n",
      "COUNTRYWIDE               7220\n",
      "FIFTHTHIRDBANK            4767\n",
      "GMACMORTGAGE,LLC          5013\n",
      "JPMORGANCHASEBANK,NA     53005\n",
      "NATIONSTARMTGELLC         8520\n",
      "NATLCITYMTGECO            6386\n",
      "Other servicers          59756\n",
      "PNCBANK,NATL              7609\n",
      "PNCMTGESERVICES,INC       4911\n",
      "PROVIDENTFUNDINGASSO      4336\n",
      "USBANKNA                 17388\n",
      "WASHINGTONMUTUALBANK      8881\n",
      "WELLSFARGOBANK,NA       112646\n",
      "Name: SERVICER_NAME, dtype: int64\n",
      "351739\n"
     ]
    }
   ],
   "source": [
    "Quarter_data['SERVICER_NAME'] = Quarter_data.SERVICER_NAME.fillna('Other servicers')\n",
    "servicer_name_count = Quarter_data.groupby('SERVICER_NAME')\n",
    "print (servicer_name_count['SERVICER_NAME'].count())\n",
    "print (sum(servicer_name_count['SERVICER_NAME'].count()))"
   ]
  },
  {
   "cell_type": "markdown",
   "metadata": {},
   "source": [
    "### 26) Super Conforming Flag\n",
    "\n",
    "For mortgages that exceed conforming loan limits with origination dates on or after 10/1/2008 and settlements on or after 1/1/2009 \n",
    "\n",
    "Y = Yes  Space (1)  = Not Super Conforming = N"
   ]
  },
  {
   "cell_type": "code",
   "execution_count": 472,
   "metadata": {
    "collapsed": false
   },
   "outputs": [
    {
     "data": {
      "text/plain": [
       "True"
      ]
     },
     "execution_count": 472,
     "metadata": {},
     "output_type": "execute_result"
    }
   ],
   "source": [
    "Quarter_data['SUPER_CONFORMING_FLAG'].isnull().values.any()"
   ]
  },
  {
   "cell_type": "code",
   "execution_count": 473,
   "metadata": {
    "collapsed": false
   },
   "outputs": [
    {
     "data": {
      "text/plain": [
       "array([ nan])"
      ]
     },
     "execution_count": 473,
     "metadata": {},
     "output_type": "execute_result"
    }
   ],
   "source": [
    "Quarter_data['SUPER_CONFORMING_FLAG'].unique()"
   ]
  },
  {
   "cell_type": "code",
   "execution_count": 474,
   "metadata": {
    "collapsed": false
   },
   "outputs": [
    {
     "name": "stdout",
     "output_type": "stream",
     "text": [
      "SUPER_CONFORMING_FLAG\n",
      "N    351739\n",
      "Name: SUPER_CONFORMING_FLAG, dtype: int64\n",
      "351739\n"
     ]
    }
   ],
   "source": [
    "Quarter_data['SUPER_CONFORMING_FLAG'] = Quarter_data.SUPER_CONFORMING_FLAG.fillna('N')\n",
    "scf_count = Quarter_data.groupby('SUPER_CONFORMING_FLAG')\n",
    "print (scf_count['SUPER_CONFORMING_FLAG'].count())\n",
    "print (sum(scf_count['SUPER_CONFORMING_FLAG'].count()))"
   ]
  },
  {
   "cell_type": "code",
   "execution_count": null,
   "metadata": {
    "collapsed": true
   },
   "outputs": [],
   "source": []
  }
 ],
 "metadata": {
  "anaconda-cloud": {},
  "kernelspec": {
   "display_name": "Python [conda root]",
   "language": "python",
   "name": "conda-root-py"
  },
  "language_info": {
   "codemirror_mode": {
    "name": "ipython",
    "version": 3
   },
   "file_extension": ".py",
   "mimetype": "text/x-python",
   "name": "python",
   "nbconvert_exporter": "python",
   "pygments_lexer": "ipython3",
   "version": "3.5.2"
  }
 },
 "nbformat": 4,
 "nbformat_minor": 1
}
