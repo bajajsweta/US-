{
 "cells": [
  {
   "cell_type": "markdown",
   "metadata": {},
   "source": [
    "# Import the libraries"
   ]
  },
  {
   "cell_type": "code",
   "execution_count": 2,
   "metadata": {
    "collapsed": true
   },
   "outputs": [],
   "source": [
    "import pandas as pd\n",
    "import numpy as np\n",
    "import os\n",
    "import requests\n",
    "import zipfile\n",
    "import io\n",
    "import re"
   ]
  },
  {
   "cell_type": "code",
   "execution_count": 12,
   "metadata": {
    "collapsed": true
   },
   "outputs": [],
   "source": [
    "def validate_password(value):\n",
    "    while True:\n",
    "        try:\n",
    "            password = (input(value))\n",
    "            if len(password) == 0:\n",
    "                    print(\"Sorry, Incorrect password!, Please provide a valid password.\")\n",
    "                    continue\n",
    "                    #better try again... Return to the start of the loop\n",
    "        except ValueError:\n",
    "            print(\"Sorry, Incorrect password! Please provide a valid password\")\n",
    "                #better try again... Return to the start of the loop\n",
    "            continue\n",
    "        else:\n",
    "                #we're ready to exit the loop.\n",
    "            break\n",
    "    return password"
   ]
  },
  {
   "cell_type": "code",
   "execution_count": 13,
   "metadata": {
    "collapsed": false
   },
   "outputs": [],
   "source": [
    "pattern = r\"\\\"?([-a-zA-Z0-9.`?{}]+@\\w+\\.\\w+)\\\"?\"\n",
    "EMAIL_REGEX = re.compile(pattern)\n",
    "Email = ' '\n",
    "def validate_email(value):\n",
    "    while True:\n",
    "        try:\n",
    "            email = input(value)\n",
    "            Email = str(email)\n",
    "            print(Email)\n",
    "            \n",
    "                #password = (input(\"Enter Pass:\"))\n",
    "            if not EMAIL_REGEX.match(email):\n",
    "                print(\"Sorry, Incorrect add! Please provide a valid add\") \n",
    "                continue\n",
    "                #if len(password) == 0:\n",
    "                    #print(\"Sorry, Incorrect password!, Please provide a valid password.\")\n",
    "                    #continue\n",
    "                    #better try again... Return to the start of the loop\n",
    "        except ValueError:\n",
    "            print(\"Sorry, Incorrect add! Please provide a valid add\")\n",
    "                #better try again... Return to the start of the loop\n",
    "            continue\n",
    "        else:\n",
    "            \n",
    "                #adderss was successfully parsed!\n",
    "                #we're ready to exit the loop.\n",
    "            break\n",
    "    return email\n"
   ]
  },
  {
   "cell_type": "code",
   "execution_count": 14,
   "metadata": {
    "collapsed": true
   },
   "outputs": [],
   "source": [
    "def validate_year(value):\n",
    "    while True:\n",
    "        try:\n",
    "            year = (input(value))\n",
    "            if not EMAIL_REGEX.match(email):\n",
    "                print(\"Sorry, Incorrect add! Please provide a valid add\") \n",
    "                continue\n",
    "                #if len(password) == 0:\n",
    "                    #print(\"Sorry, Incorrect password!, Please provide a valid password.\")\n",
    "                    #continue\n",
    "                    #better try again... Return to the start of the loop\n",
    "        except ValueError:\n",
    "            print(\"Sorry, Incorrect add! Please provide a valid add\")\n",
    "                #better try again... Return to the start of the loop\n",
    "            continue\n",
    "        else:\n",
    "                #adderss was successfully parsed!\n",
    "                #we're ready to exit the loop.\n",
    "            break\n",
    "    return year #0_iSRa}e #jain.yo@husky.neu.edu"
   ]
  },
  {
   "cell_type": "code",
   "execution_count": 15,
   "metadata": {
    "collapsed": false
   },
   "outputs": [
    {
     "name": "stdout",
     "output_type": "stream",
     "text": [
      "Enter address:jain.yo@husky.neu.edu\n",
      "jain.yo@husky.neu.edu\n",
      "Enter password:0_iSRa}e\n"
     ]
    }
   ],
   "source": [
    "emailadd = validate_email('Enter address:')\n",
    "paswd = validate_password('Enter password:')"
   ]
  },
  {
   "cell_type": "code",
   "execution_count": 16,
   "metadata": {
    "collapsed": false
   },
   "outputs": [
    {
     "name": "stdout",
     "output_type": "stream",
     "text": [
      "Input Year:2001\n"
     ]
    }
   ],
   "source": [
    "def user_input_validation(value):\n",
    "    while True:\n",
    "        try:\n",
    "            curr_yr = int(input(value))\n",
    "            if curr_yr not in range(1999,2017):\n",
    "                print(\"Sorry, Incorrect Year! Please provide a valid year\") \n",
    "                continue\n",
    "                #better try again... Return to the start of the loop\n",
    "        except ValueError:\n",
    "            print(\"Sorry, Incorrect Year! Please provide a valid year\")\n",
    "            #better try again... Return to the start of the loop\n",
    "            continue\n",
    "        else:\n",
    "            #year was successfully parsed!\n",
    "            #we're ready to exit the loop.\n",
    "            break\n",
    "    return curr_yr\n",
    "\n",
    "year = user_input_validation('Input Year:')"
   ]
  },
  {
   "cell_type": "code",
   "execution_count": 17,
   "metadata": {
    "collapsed": false
   },
   "outputs": [],
   "source": [
    "s = requests.session()\n",
    "\n",
    "payload = {'username':emailadd , 'password': paswd}\n",
    "url = 'https://freddiemac.embs.com/FLoan/secure/auth.php'\n",
    "a = s.post(url, data=payload)\n",
    "\n",
    "values = {'accept': 'Yes','acceptSubmit':'Continue','action': 'acceptTandC'}\n",
    "url1 = 'https://freddiemac.embs.com/FLoan/Data/download.php'\n",
    "b = s.post(url1,data=values)"
   ]
  },
  {
   "cell_type": "code",
   "execution_count": null,
   "metadata": {
    "collapsed": false
   },
   "outputs": [],
   "source": [
    "if str(year) == '2016':\n",
    "    url3 = 'https://freddiemac.embs.com/FLoan/Data/historical_data1_Q1'+''+str(year)+'.zip'\n",
    "    file = s.get(url3)\n",
    "    m=zipfile.ZipFile(io.BytesIO(file.content))\n",
    "    m.extractall()\n",
    "else:\n",
    "    for quarter in range(1,5):\n",
    "        url3 = 'https://freddiemac.embs.com/FLoan/Data/historical_data1_Q'+str(quarter)+''+str(year)+'.zip'\n",
    "        print('downloading files..,Please be patient..!')\n",
    "        file = s.get(url3)\n",
    "        m=zipfile.ZipFile(io.BytesIO(file.content))\n",
    "        m.extractall()"
   ]
  },
  {
   "cell_type": "markdown",
   "metadata": {},
   "source": [
    "# Change the directory to the location of source file"
   ]
  },
  {
   "cell_type": "markdown",
   "metadata": {},
   "source": [
    "# Load each performance file and read using pandas"
   ]
  },
  {
   "cell_type": "code",
   "execution_count": 32,
   "metadata": {
    "collapsed": false
   },
   "outputs": [],
   "source": [
    "performance_files = [file for file in os.listdir() if file.startswith('historical_data1_time_')]"
   ]
  },
  {
   "cell_type": "code",
   "execution_count": 33,
   "metadata": {
    "collapsed": false
   },
   "outputs": [
    {
     "data": {
      "text/plain": [
       "['historical_data1_time_Q12001.txt',\n",
       " 'historical_data1_time_Q12005.txt',\n",
       " 'historical_data1_time_Q12006.txt',\n",
       " 'historical_data1_time_Q22001.txt',\n",
       " 'historical_data1_time_Q22005.txt',\n",
       " 'historical_data1_time_Q22006.txt',\n",
       " 'historical_data1_time_Q32005.txt',\n",
       " 'historical_data1_time_Q42005.txt']"
      ]
     },
     "execution_count": 33,
     "metadata": {},
     "output_type": "execute_result"
    }
   ],
   "source": [
    "performance_files[:1]        ### performance files from 1999-2016"
   ]
  },
  {
   "cell_type": "markdown",
   "metadata": {},
   "source": [
    "# Load the data"
   ]
  },
  {
   "cell_type": "code",
   "execution_count": 34,
   "metadata": {
    "collapsed": false
   },
   "outputs": [],
   "source": [
    "def load_data(file):\n",
    "    df = pd.read_table(file,delimiter='|', header=None)\n",
    "    return df"
   ]
  },
  {
   "cell_type": "markdown",
   "metadata": {},
   "source": [
    "# Name the columns"
   ]
  },
  {
   "cell_type": "code",
   "execution_count": 35,
   "metadata": {
    "collapsed": false
   },
   "outputs": [],
   "source": [
    "#'UnknownCol,'Modification_Cost''\n",
    "def name_column(df):\n",
    "\n",
    "    df.columns=['LOAN_SEQUENCE_NUMBER','MONTHLY_REPORTING_PERIOD','CURRENT_ACTUAL_UPB',\n",
    "                     'CURRENT_LOAN_DELINQUENCY_STATUS','LOAN_AGE','REMAINING_MONTHS_TO_LEGAL_MATURITY',\n",
    "                     'REPURCHASE_FLAG','MODIFICATION_FLAG','ZERO_BALANCE_CODE','ZERO_BALANCE_EFFECTIVE_DATE',\n",
    "                     'CURRENT_INTEREST_RATE','CURRENT_DEFERRED_UPB','DUE_DATE_OF_LAST_PAID_INSTALLMENT_DDLPI',\n",
    "                     'MI_RECOVERIES','NET_SALES_PROCEEDS','NON_MI_RECOVERIES','EXPENSES','Legal_Costs',\n",
    "                     'Maintenance_and_Preservation_Costs','Taxes_and_Insurance','Miscellaneous_Expenses',\n",
    "                     'Actual_Loss_Calculation','Modification_Cost','Unknown']\n",
    "    numberofrows = len(df.index)\n",
    "    print(numberofrows)\n",
    "    return df"
   ]
  },
  {
   "cell_type": "markdown",
   "metadata": {},
   "source": [
    "# Check the DataTypes"
   ]
  },
  {
   "cell_type": "markdown",
   "metadata": {},
   "source": [
    "# Validate the columns"
   ]
  },
  {
   "cell_type": "markdown",
   "metadata": {},
   "source": [
    "# 1) LOAN SEQUENCE NUMBER  \n",
    "\n",
    "It's a Unique identifier assigned to each loan. \n",
    "It is of length 12 and alpha-numeric type.\n",
    "\n",
    "valid values: F1YYQnXXXXXX\n",
    "F1 = product (Fixed Rate Mortgage);\n",
    "YYQn = origination\n",
    "year and quarter; and,\n",
    "XXXXXX = randomly\n",
    "assigned digits"
   ]
  },
  {
   "cell_type": "markdown",
   "metadata": {},
   "source": [
    "# validation pending... for loan"
   ]
  },
  {
   "cell_type": "markdown",
   "metadata": {},
   "source": [
    "# 2) MONTHLY REPORTING PERIOD \n",
    "The as-of month for loan information contained in the loan record.\n",
    "\n",
    "Valid Values: YYYYMM\n",
    "Type: Date \n",
    "length : 6"
   ]
  },
  {
   "cell_type": "markdown",
   "metadata": {},
   "source": [
    "Check if there are null values in the column and\n",
    "if there are any replace it with : 199701 "
   ]
  },
  {
   "cell_type": "code",
   "execution_count": 36,
   "metadata": {
    "collapsed": false
   },
   "outputs": [],
   "source": [
    "def validate_monthly_report(df):\n",
    "\n",
    "    if any(df['MONTHLY_REPORTING_PERIOD'].isnull()):\n",
    "        df['MONTHLY_REPORTING_PERIOD'].fillna(199701)\n",
    "    return df\n",
    "    \n",
    "    "
   ]
  },
  {
   "cell_type": "markdown",
   "metadata": {},
   "source": [
    "# 3) CURRENT ACTUAL UPB \n",
    "\n",
    "The Current Actual UPB reflects the mortgage ending balance as reported by the servicer for the corresponding monthly reporting period.\n",
    "For fixed rate mortgages, this UPB is derived from the mortgage balance as reported by the servicer \n",
    "and includes any scheduled and unscheduled principal reductions applied to the mortgage.\n",
    "\n",
    "Calculation: (interest bearing UPB) + (non- interest bearing UPB)\n",
    "Numeric Literal decimal\n",
    "length : 2"
   ]
  },
  {
   "cell_type": "code",
   "execution_count": 37,
   "metadata": {
    "collapsed": false
   },
   "outputs": [],
   "source": [
    "def validate_upb(df):\n",
    "    if any(df['CURRENT_ACTUAL_UPB'].isnull()):\n",
    "        df['CURRENT_ACTUAL_UPB'].fillna(00)\n",
    "    return df"
   ]
  },
  {
   "cell_type": "markdown",
   "metadata": {},
   "source": [
    "# 4) CURRENT LOAN DELINQUENCY STATUS \n",
    "\n",
    "A value corresponding to the number of days the borrower is delinquent, based on the due date of last paid installment (“DDLPI”) reported by\n",
    "ervicers to Freddie Mac, and is calculated under the Mortgage Bankers Association (MBA) method.\n",
    "If a loan has been acquired by REO, then the Current Loan Delinquency Status will reflect the value corresponding to that status (instead of the value corresponding to the number of days the borrower is delinquent)."
   ]
  },
  {
   "cell_type": "markdown",
   "metadata": {},
   "source": [
    " XX = Unknown\n",
    " 0 = Current, or less\n",
    "than 30 days past due\n",
    " 1 = 30-59 days delinquent\n",
    " 2=60–89days delinquent\n",
    " 3=90–119days delinquent\n",
    " And so on...\n",
    " R = REO Acquisition\n",
    " Space (3) =\n",
    "Unavailable"
   ]
  },
  {
   "cell_type": "code",
   "execution_count": 38,
   "metadata": {
    "collapsed": false
   },
   "outputs": [],
   "source": [
    "def loan_delinquency_status(df):\n",
    "    if any(df['CURRENT_LOAN_DELINQUENCY_STATUS'].isnull()):\n",
    "        df['CURRENT_LOAN_DELINQUENCY_STATUS'].fillna(-1)\n",
    "            \n",
    "        df['CURRENT_LOAN_DELINQUENCY_STATUS'] = df.CURRENT_LOAN_DELINQUENCY_STATUS.replace('   ',-1)\n",
    "    \n",
    "    return df\n"
   ]
  },
  {
   "cell_type": "markdown",
   "metadata": {},
   "source": [
    "# 5)LOAN AGE\n",
    "\n",
    "from the columns Monthly Reporting Period : if its 201602 - then loan age is 0, 201603 is 1 and 201604 is 2 and so one.\n",
    "\n",
    "should i put a range from (0,999)"
   ]
  },
  {
   "cell_type": "code",
   "execution_count": 39,
   "metadata": {
    "collapsed": true
   },
   "outputs": [],
   "source": [
    "def validate_loan_age(df):\n",
    "    if any(df['LOAN_AGE'].isnull()):\n",
    "        df['LOAN_AGE'] = df.LOAN_AGE.fillna('NA')\n",
    "        \n",
    "    if any(df['LOAN_AGE']) not in range(0,1000):\n",
    "        print(\" loan age value out of range\")\n",
    "    return df"
   ]
  },
  {
   "cell_type": "markdown",
   "metadata": {},
   "source": [
    "# 6 REMAINING MONTHS TO LEGAL MATURITY\n",
    "\n",
    "Since its numneric. what to fill na with??\n"
   ]
  },
  {
   "cell_type": "code",
   "execution_count": 40,
   "metadata": {
    "collapsed": true
   },
   "outputs": [],
   "source": [
    "def validate_remaining_months_to_legal_maturity(df):\n",
    "    if any(df['REMAINING_MONTHS_TO_LEGAL_MATURITY'].isnull()):\n",
    "        df['REMAINING_MONTHS_TO_LEGAL_MATURITY'] = df.REMAINING_MONTHS_TO_LEGAL_MATURITY.fillna('NA')\n",
    "        \n",
    "    if any(df['REMAINING_MONTHS_TO_LEGAL_MATURITY']) not in range(0,1000):\n",
    "        print(\" loan age value out of range\")\n",
    "    \n",
    "    return df"
   ]
  },
  {
   "cell_type": "markdown",
   "metadata": {},
   "source": [
    "# 7 REPURCHASE FLAG"
   ]
  },
  {
   "cell_type": "markdown",
   "metadata": {},
   "source": [
    "Null values replaced with U (Unknown)"
   ]
  },
  {
   "cell_type": "code",
   "execution_count": 41,
   "metadata": {
    "collapsed": true
   },
   "outputs": [],
   "source": [
    "def validate_repurchase_flag(df):\n",
    "    if any(df['REPURCHASE_FLAG'].isnull()):\n",
    "        df['REPURCHASE_FLAG'] = df.REPURCHASE_FLAG.fillna('U')\n",
    "    #df['REPURCHASE_FLAG']=df.REPURCHASE_FLAG.interpolate(method='bfill',limit_direction='both')\n",
    "    df['REPURCHASE_FLAG'] = df.REPURCHASE_FLAG.replace(' ','U')\n",
    "    return df"
   ]
  },
  {
   "cell_type": "markdown",
   "metadata": {},
   "source": [
    "# 8 MODIFICATION FLAG "
   ]
  },
  {
   "cell_type": "markdown",
   "metadata": {},
   "source": [
    "Replaced Null as Unknown and Replaced ' ' with N"
   ]
  },
  {
   "cell_type": "code",
   "execution_count": 42,
   "metadata": {
    "collapsed": true
   },
   "outputs": [],
   "source": [
    "def validation_modification_flag(df):\n",
    "    if any(df['MODIFICATION_FLAG'].isnull()):\n",
    "        df['MODIFICATION_FLAG'] = df.MODIFICATION_FLAG.fillna('U')\n",
    "    \n",
    "    df['MODIFICATION_FLAG'] = df.MODIFICATION_FLAG.replace(' ','U')\n",
    "    \n",
    "    return df"
   ]
  },
  {
   "cell_type": "markdown",
   "metadata": {},
   "source": [
    "# 9 ZERO BALANCE CODE\n",
    "  01 = Prepaid or Matured (Voluntary Payoff)\n",
    "  03 = Foreclosure Alternative Group (Short Sale, Third Party Sale, Charge Off or Note Sale)\n",
    "  06 = Repurchase prior to Property Disposition\n",
    "  09 = REO Disposition\n",
    "  Space(2) = Not (NA)\n",
    "Applicable"
   ]
  },
  {
   "cell_type": "code",
   "execution_count": 43,
   "metadata": {
    "collapsed": false
   },
   "outputs": [],
   "source": [
    "def validate_zero_balance_code(df):\n",
    "    if any(df['ZERO_BALANCE_CODE'].isnull()):\n",
    "        df['ZERO_BALANCE_CODE'] = df.ZERO_BALANCE_CODE.fillna(0)\n",
    "        \n",
    "    \n",
    "    df['ZERO_BALANCE_CODE'] = df.ZERO_BALANCE_CODE.replace('  ',0)\n",
    "        \n",
    "    #f any(df['ZERO_BALANCE_CODE']) != 1.0 or any(df['ZERO_BALANCE_CODE']) != 6.0 or any(df['ZERO_BALANCE_CODE']) != 3.0 or any(df['ZERO_BALANCE_CODE']) != 9.0:\n",
    "    if 1.0 not in df['ZERO_BALANCE_CODE'] or 3.0 not in df['ZERO_BALANCE_CODE'] or 6.0 not in df['ZERO_BALANCE_CODE'] or 9.0 not in df['ZERO_BALANCE_CODE']:\n",
    "        print(\"Not a 1 or 3 or 6 or 9 zero balance code\")\n",
    "    return df\n"
   ]
  },
  {
   "cell_type": "markdown",
   "metadata": {},
   "source": [
    "if any(df['ORIGINAL_COMBINED_LOAN_TO_VALUE_CLTV'].isnull()):\n",
    "        df['ORIGINAL_COMBINED_LOAN_TO_VALUE_CLTV'] = df.ORIGINAL_COMBINED_LOAN_TO_VALUE_CLTV.fillna(999)\n",
    "        print (sum(cltv_count['ORIGINAL_COMBINED_LOAN_TO_VALUE_CLTV'].count()))\n",
    "        return df"
   ]
  },
  {
   "cell_type": "markdown",
   "metadata": {},
   "source": [
    "# 10 ZERO BALANCE EFFECTIVE DATE\n",
    "\n",
    "YYYYMM\n",
    "  Space(6) = Not\n",
    "Applicable\n",
    "\n",
    "Assumption : replacing nan with 199701. since the year strats from 1999.\n",
    "nan = 199701"
   ]
  },
  {
   "cell_type": "code",
   "execution_count": 44,
   "metadata": {
    "collapsed": false
   },
   "outputs": [],
   "source": [
    "def validate_zero_balance_effective_date(df):\n",
    "    if any(df['ZERO_BALANCE_EFFECTIVE_DATE'].isnull()):\n",
    "        df['ZERO_BALANCE_EFFECTIVE_DATE'] = df.ZERO_BALANCE_EFFECTIVE_DATE.fillna(199701)\n",
    "    \n",
    "    df['ZERO_BALANCE_EFFECTIVE_DATE'] = df.ZERO_BALANCE_CODE.replace('      ',199701)\n",
    "    \n",
    "    return df"
   ]
  },
  {
   "cell_type": "markdown",
   "metadata": {},
   "source": [
    "# 11 CURRENT INTEREST RATE\n",
    "\n",
    "Reflects the current interest rate on the mortgage note, taking into account any loan modifications.\n",
    "\n",
    "Numeric \n",
    "Literal \n",
    "Decimal"
   ]
  },
  {
   "cell_type": "code",
   "execution_count": 45,
   "metadata": {
    "collapsed": true
   },
   "outputs": [],
   "source": [
    "def validate_current_interest_rate(df):\n",
    "    if any(df['CURRENT_INTEREST_RATE'].isnull()):\n",
    "        df['CURRENT_INTEREST_RATE'] = df.CURRENT_INTEREST_RATE.fillna(0)\n",
    "        #print(pd.value_counts(df['CURRENT_INTEREST_RATE'].values, sort=True).head())\n",
    "    return df"
   ]
  },
  {
   "cell_type": "markdown",
   "metadata": {},
   "source": [
    "# 12 CURRENT DEFERRED UPB\n",
    "\n",
    "The current non-interest bearing UPB of the modified mortgage.\n",
    "$ Amount. Non-Interest Bearing UPB.\n",
    "\n",
    "The column has only zero as value.. validation?? "
   ]
  },
  {
   "cell_type": "code",
   "execution_count": 46,
   "metadata": {
    "collapsed": false
   },
   "outputs": [],
   "source": [
    "def validate_current_deferred_upb(df):\n",
    "    if any(df['CURRENT_DEFERRED_UPB'].isnull()):\n",
    "        df['CURRENT_DEFERRED_UPB'] = df.CURRENT_DEFERRED_UPB.fillna(0)\n",
    "    return df"
   ]
  },
  {
   "cell_type": "markdown",
   "metadata": {},
   "source": [
    "# 13 DUE DATE OF LAST PAID INSTALLMENT (DDLPI)\n",
    "\n",
    "YYYYMM\n",
    "\n",
    "fill na : 199701"
   ]
  },
  {
   "cell_type": "code",
   "execution_count": 47,
   "metadata": {
    "collapsed": true
   },
   "outputs": [],
   "source": [
    "def validate_ddpli(df):\n",
    "    if any(df['DUE_DATE_OF_LAST_PAID_INSTALLMENT_DDLPI'].isnull()):\n",
    "        df['DUE_DATE_OF_LAST_PAID_INSTALLMENT_DDLPI'] = df.DUE_DATE_OF_LAST_PAID_INSTALLMENT_DDLPI.fillna(199701)\n",
    "        \n",
    "    return df"
   ]
  },
  {
   "cell_type": "markdown",
   "metadata": {},
   "source": [
    "# 14 MI RECOVERIES"
   ]
  },
  {
   "cell_type": "code",
   "execution_count": 48,
   "metadata": {
    "collapsed": true
   },
   "outputs": [],
   "source": [
    "def validate_MI_recoveries(df):\n",
    "    if any(df['MI_RECOVERIES'].isnull()):\n",
    "        df['MI_RECOVERIES'] = df.MI_RECOVERIES.fillna(0)\n",
    "        \n",
    "    return df"
   ]
  },
  {
   "cell_type": "markdown",
   "metadata": {},
   "source": [
    "# 15 NET SALES PROCEEDS\n",
    "\n",
    "$ Amount. Gross Sale Proceeds – Allowable Selling Expenses.\n",
    "C = Covered U = Unknown\n",
    "\n",
    "Alpha- numeric Literal Decimal"
   ]
  },
  {
   "cell_type": "code",
   "execution_count": 49,
   "metadata": {
    "collapsed": false
   },
   "outputs": [],
   "source": [
    "def validate_net_sales_proceeds(df):\n",
    "    if any(df['NET_SALES_PROCEEDS'].isnull()):\n",
    "         df['NET_SALES_PROCEEDS'] = df.NET_SALES_PROCEEDS.fillna(0)\n",
    "        \n",
    "    return df"
   ]
  },
  {
   "cell_type": "markdown",
   "metadata": {},
   "source": [
    "# 16 NON MI RECOVERIES\n"
   ]
  },
  {
   "cell_type": "code",
   "execution_count": 50,
   "metadata": {
    "collapsed": true
   },
   "outputs": [],
   "source": [
    "def validate_non_MI_recoveries(df):\n",
    "    if any(df['NON_MI_RECOVERIES'].isnull()):\n",
    "        df['NON_MI_RECOVERIES']=df.NET_SALES_PROCEEDS.fillna(0)\n",
    "    return df"
   ]
  },
  {
   "cell_type": "markdown",
   "metadata": {},
   "source": [
    "# 17 EXPENSES"
   ]
  },
  {
   "cell_type": "code",
   "execution_count": 51,
   "metadata": {
    "collapsed": true
   },
   "outputs": [],
   "source": [
    "def validate_expenses(df):\n",
    "    if any(df['EXPENSES'].isnull()):\n",
    "        df['EXPENSES']=df.EXPENSES.fillna(0)\n",
    "    return df"
   ]
  },
  {
   "cell_type": "markdown",
   "metadata": {},
   "source": [
    "# 18 Legal Costs "
   ]
  },
  {
   "cell_type": "code",
   "execution_count": 52,
   "metadata": {
    "collapsed": true
   },
   "outputs": [],
   "source": [
    "def validate_legal_costs(df):\n",
    "    if any(df['Legal_Costs'].isnull()):\n",
    "        df['Legal_Costs']=df.Legal_Costs.fillna(0)\n",
    "    return df"
   ]
  },
  {
   "cell_type": "markdown",
   "metadata": {},
   "source": [
    "# 19 Maintenance and Preservation Costs"
   ]
  },
  {
   "cell_type": "code",
   "execution_count": 53,
   "metadata": {
    "collapsed": true
   },
   "outputs": [],
   "source": [
    "def validate_maintenance_preservation_costs(df):\n",
    "    if any(df['Maintenance_and_Preservation_Costs'].isnull()):\n",
    "        df['Maintenance_and_Preservation_Costs']=df.Maintenance_and_Preservation_Costs.fillna(0)\n",
    "    return df"
   ]
  },
  {
   "cell_type": "markdown",
   "metadata": {},
   "source": [
    "# 20 Taxes and Insurance Data"
   ]
  },
  {
   "cell_type": "code",
   "execution_count": 54,
   "metadata": {
    "collapsed": true
   },
   "outputs": [],
   "source": [
    "def validate_taxes_and_insurance(df):\n",
    "    if any(df['Taxes_and_Insurance'].isnull()):\n",
    "        df['Taxes_and_Insurance']=df.Taxes_and_Insurance.fillna(0)\n",
    "    return df"
   ]
  },
  {
   "cell_type": "markdown",
   "metadata": {},
   "source": [
    "# 21 Miscellaneous Expenses"
   ]
  },
  {
   "cell_type": "code",
   "execution_count": 55,
   "metadata": {
    "collapsed": true
   },
   "outputs": [],
   "source": [
    "def validate_miscellaneous_expenses(df):\n",
    "    if any(df['Miscellaneous_Expenses'].isnull()):\n",
    "        df['Miscellaneous_Expenses']=df.Miscellaneous_Expenses.fillna(0)\n",
    "    return df"
   ]
  },
  {
   "cell_type": "markdown",
   "metadata": {},
   "source": [
    "# 22 Actual Loss Calculation"
   ]
  },
  {
   "cell_type": "code",
   "execution_count": 56,
   "metadata": {
    "collapsed": false
   },
   "outputs": [],
   "source": [
    "def validate_actual_loss_cal(df):\n",
    "    if (df['REPURCHASE_FLAG'] == 'Y').values.any() or (df['NET_SALES_PROCEEDS']== 'C').values.any() or (df['NET_SALES_PROCEEDS']== 'U').values.any() :\n",
    "#or any(perfor_data['NET_SALES_PROCEEDS']) == 'C' or any(perfor_data['NET_SALES_PROCEEDS']) == 'U':\n",
    "        #print('here')\n",
    "        df['Actual_Loss_Calculation'] = df.Actual_Loss_Calculation.fillna(0)\n",
    "    return df"
   ]
  },
  {
   "cell_type": "markdown",
   "metadata": {},
   "source": [
    "# 23 Modification Cost \n"
   ]
  },
  {
   "cell_type": "code",
   "execution_count": 57,
   "metadata": {
    "collapsed": false
   },
   "outputs": [],
   "source": [
    "def validate_modification_cost(df):\n",
    "    if any(df['Modification_Cost'].isnull()):\n",
    "        df['Modification_Cost']=df.Modification_Cost.fillna(0)\n",
    "    \n",
    "    return df"
   ]
  },
  {
   "cell_type": "markdown",
   "metadata": {},
   "source": [
    "MAIN VALIDATION FUNCTIONS AND CODE"
   ]
  },
  {
   "cell_type": "code",
   "execution_count": null,
   "metadata": {
    "collapsed": false
   },
   "outputs": [],
   "source": [
    "for i in range(len(performance_files)):\n",
    "    df = pd.DataFrame()\n",
    "    print (performance_files[i])\n",
    "    df = load_data(performance_files[i])\n",
    "    df = name_column(df)\n",
    "    print(\"done\")\n",
    "    df = validate_monthly_report(df)\n",
    "    df = validate_upb(df)\n",
    "    df = loan_delinquency_status(df)\n",
    "    df = validate_loan_age(df)\n",
    "    df = validate_remaining_months_to_legal_maturity(df)\n",
    "    df = validate_repurchase_flag(df)\n",
    "    df = validation_modification_flag(df)\n",
    "    df = validate_zero_balance_code(df)\n",
    "    df = validate_zero_balance_effective_date(df)\n",
    "    df = validate_current_interest_rate(df)\n",
    "    df = validate_current_deferred_upb(df)\n",
    "    df = validate_ddpli(df)\n",
    "    print(\"half way through...!\")\n",
    "    df = validate_MI_recoveries(df)\n",
    "    df = validate_net_sales_proceeds(df)\n",
    "    df = validate_non_MI_recoveries(df)\n",
    "    df = validate_expenses(df)\n",
    "    df = validate_legal_costs(df)\n",
    "    df = validate_maintenance_preservation_costs(df)\n",
    "    df = validate_taxes_and_insurance(df)\n",
    "    df = validate_miscellaneous_expenses(df)\n",
    "    df = validate_actual_loss_cal(df)\n",
    "    df = validate_modification_cost(df)\n",
    "    \n",
    "    df.to_csv('Sample_Performance_Validated_'+str(performance_files[i][12:-4])+'.csv', index=None)\n",
    "    "
   ]
  },
  {
   "cell_type": "code",
   "execution_count": 59,
   "metadata": {
    "collapsed": false
   },
   "outputs": [
    {
     "name": "stdout",
     "output_type": "stream",
     "text": [
      "Performance file validation done\n"
     ]
    }
   ],
   "source": [
    "print('Performance file validation done')"
   ]
  }
 ],
 "metadata": {
  "anaconda-cloud": {},
  "kernelspec": {
   "display_name": "Python [default]",
   "language": "python",
   "name": "python3"
  },
  "language_info": {
   "codemirror_mode": {
    "name": "ipython",
    "version": 3
   },
   "file_extension": ".py",
   "mimetype": "text/x-python",
   "name": "python",
   "nbconvert_exporter": "python",
   "pygments_lexer": "ipython3",
   "version": "3.5.2"
  }
 },
 "nbformat": 4,
 "nbformat_minor": 1
}
