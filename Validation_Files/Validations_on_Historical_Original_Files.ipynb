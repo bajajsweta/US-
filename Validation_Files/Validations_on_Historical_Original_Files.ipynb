{
 "cells": [
  {
   "cell_type": "markdown",
   "metadata": {},
   "source": [
    "## Import the Libraries"
   ]
  },
  {
   "cell_type": "code",
   "execution_count": 4,
   "metadata": {
    "collapsed": true
   },
   "outputs": [],
   "source": [
    "import pandas as pd\n",
    "import numpy as np\n",
    "import os\n",
    "import requests\n",
    "import zipfile\n",
    "import io\n",
    "import re"
   ]
  },
  {
   "cell_type": "markdown",
   "metadata": {},
   "source": [
    "## Extracting Sample files for the year in range 1999-2016"
   ]
  },
  {
   "cell_type": "code",
   "execution_count": 2,
   "metadata": {
    "collapsed": true
   },
   "outputs": [],
   "source": [
    "def validate_password(value):\n",
    "    while True:\n",
    "        try:\n",
    "            password = (input(value))\n",
    "            if len(password) == 0:\n",
    "                    print(\"Sorry, Incorrect password!, Please provide a valid password.\")\n",
    "                    continue\n",
    "                    #better try again... Return to the start of the loop\n",
    "        except ValueError:\n",
    "            print(\"Sorry, Incorrect password! Please provide a valid password\")\n",
    "                #better try again... Return to the start of the loop\n",
    "            continue\n",
    "        else:\n",
    "                #we're ready to exit the loop.\n",
    "            break\n",
    "    return password"
   ]
  },
  {
   "cell_type": "code",
   "execution_count": 5,
   "metadata": {
    "collapsed": false
   },
   "outputs": [],
   "source": [
    "pattern = r\"\\\"?([-a-zA-Z0-9.`?{}]+@\\w+\\.\\w+)\\\"?\"\n",
    "EMAIL_REGEX = re.compile(pattern)\n",
    "\n",
    "def validate_email(value):\n",
    "    while True:\n",
    "        try:\n",
    "            email = (input(value))\n",
    "            if not EMAIL_REGEX.match(email):\n",
    "                print(\"Sorry, Incorrect add! Please provide a valid add\") \n",
    "                continue\n",
    "                #if len(password) == 0:\n",
    "                    #print(\"Sorry, Incorrect password!, Please provide a valid password.\")\n",
    "                    #continue\n",
    "                    #better try again... Return to the start of the loop\n",
    "        except ValueError:\n",
    "            print(\"Sorry, Incorrect add! Please provide a valid add\")\n",
    "                #better try again... Return to the start of the loop\n",
    "            continue\n",
    "        else:\n",
    "                #adderss was successfully parsed!\n",
    "                #we're ready to exit the loop.\n",
    "            break\n",
    "    return email"
   ]
  },
  {
   "cell_type": "code",
   "execution_count": null,
   "metadata": {
    "collapsed": true
   },
   "outputs": [],
   "source": [
    "def validate_year(value):\n",
    "    while True:\n",
    "        try:\n",
    "            email = (input(value))\n",
    "            if not EMAIL_REGEX.match(email):\n",
    "                print(\"Sorry, Incorrect add! Please provide a valid add\") \n",
    "                continue\n",
    "                #if len(password) == 0:\n",
    "                    #print(\"Sorry, Incorrect password!, Please provide a valid password.\")\n",
    "                    #continue\n",
    "                    #better try again... Return to the start of the loop\n",
    "        except ValueError:\n",
    "            print(\"Sorry, Incorrect add! Please provide a valid add\")\n",
    "                #better try again... Return to the start of the loop\n",
    "            continue\n",
    "        else:\n",
    "                #adderss was successfully parsed!\n",
    "                #we're ready to exit the loop.\n",
    "            break\n",
    "    return email"
   ]
  },
  {
   "cell_type": "code",
   "execution_count": 6,
   "metadata": {
    "collapsed": false
   },
   "outputs": [
    {
     "name": "stdout",
     "output_type": "stream",
     "text": [
      "Enter address:jain.yo@husky.neu.edu\n",
      "Enter password:0_iSRa}e\n"
     ]
    }
   ],
   "source": [
    "emailadd = validate_email('Enter address:')\n",
    "paswd = validate_password('Enter password:')"
   ]
  },
  {
   "cell_type": "code",
   "execution_count": 12,
   "metadata": {
    "collapsed": false
   },
   "outputs": [
    {
     "name": "stdout",
     "output_type": "stream",
     "text": [
      "Input Year:123\n",
      "Sorry, Incorrect Year! Please provide a valid year\n",
      "Input Year:2003\n"
     ]
    }
   ],
   "source": [
    "def user_input_validation(value):\n",
    "    while True:\n",
    "        try:\n",
    "            curr_yr = int(input(value))\n",
    "            if curr_yr not in range(1999,2017):\n",
    "                print(\"Sorry, Incorrect Year! Please provide a valid year\") \n",
    "                continue\n",
    "                #better try again... Return to the start of the loop\n",
    "        except ValueError:\n",
    "            print(\"Sorry, Incorrect Year! Please provide a valid year\")\n",
    "            #better try again... Return to the start of the loop\n",
    "            continue\n",
    "        else:\n",
    "            #year was successfully parsed!\n",
    "            #we're ready to exit the loop.\n",
    "            break\n",
    "    return curr_yr\n",
    "\n",
    "year = user_input_validation('Input Year:')\n"
   ]
  },
  {
   "cell_type": "code",
   "execution_count": 8,
   "metadata": {
    "collapsed": false
   },
   "outputs": [],
   "source": [
    "s = requests.session()\n",
    "payload = {'username': emailadd, 'password':paswd}\n",
    "url = 'https://freddiemac.embs.com/FLoan/secure/auth.php'\n",
    "a = s.post(url, data=payload)\n",
    "\n",
    "values = {'accept': 'Yes','acceptSubmit':'Continue','action': 'acceptTandC'}\n",
    "url1 = 'https://freddiemac.embs.com/FLoan/Data/download.php'\n",
    "b = s.post(url1,data=values)\n"
   ]
  },
  {
   "cell_type": "code",
   "execution_count": null,
   "metadata": {
    "collapsed": false
   },
   "outputs": [],
   "source": [
    "if str(year) == '2016':\n",
    "    url3 = 'https://freddiemac.embs.com/FLoan/Data/historical_data1_Q1'+''+str(year)+'.zip'\n",
    "    file = s.get(url3)\n",
    "    m=zipfile.ZipFile(io.BytesIO(file.content))\n",
    "    m.extractall()\n",
    "else:\n",
    "    for quarter in range(1,5):\n",
    "        url3 = 'https://freddiemac.embs.com/FLoan/Data/historical_data1_Q'+str(quarter)+''+str(year)+'.zip'\n",
    "        print('downloading files..,Please be patient..!')\n",
    "        file = s.get(url3)\n",
    "        m=zipfile.ZipFile(io.BytesIO(file.content))\n",
    "        m.extractall()"
   ]
  },
  {
   "cell_type": "markdown",
   "metadata": {},
   "source": [
    "# Get all the original sample files"
   ]
  },
  {
   "cell_type": "code",
   "execution_count": 28,
   "metadata": {
    "collapsed": false
   },
   "outputs": [
    {
     "data": {
      "text/plain": [
       "['historical_data1_Q12005.txt']"
      ]
     },
     "execution_count": 28,
     "metadata": {},
     "output_type": "execute_result"
    }
   ],
   "source": [
    "original_files =[file for file in os.listdir() if file.startswith('historical_data1_Q') ]\n",
    "original_files"
   ]
  },
  {
   "cell_type": "markdown",
   "metadata": {},
   "source": [
    "# Reading files one by one"
   ]
  },
  {
   "cell_type": "code",
   "execution_count": 120,
   "metadata": {
    "collapsed": true
   },
   "outputs": [],
   "source": [
    "def load_df(file):\n",
    "    df = pd.read_table(file,delimiter='|', header=None )\n",
    "    return df"
   ]
  },
  {
   "cell_type": "code",
   "execution_count": 121,
   "metadata": {
    "collapsed": false
   },
   "outputs": [],
   "source": [
    "def name_columns(df):\n",
    "    df.columns = ['CREDIT_SCORE','FIRST_PAYMENT_DATE','FIRST_TIME_HOMEBUYER_FLAG','MATURITY_DATE','MSA','MORTGAGE_INSURANCE_PERCENTAGE_MI','NUMBER_OF_UNITS','OCCUPANCY_STATUS','ORIGINAL_COMBINED_LOAN_TO_VALUE_CLTV','ORIGINAL_DEBT_TO_INCOME_DTI_RATIO','ORIGINAL_UPB','ORIGINAL_LOAN_TO_VALUE_LTV','ORIGINAL_INTEREST_RATE','CHANNEL','PREPAYMENT_PENALTY_MORTGAGE_PPM_FLAG','PRODUCT_TYPE','PROPERTY_STATE','PROPERTY_TYPE','POSTAL_CODE','LOAN_SEQUENCE_NUMBER','LOAN_PURPOSE','ORIGINAL_LOAN_TERM','NUMBER_OF_BORROWERS','SELLER_NAME','SERVICER_NAME','SUPER_CONFORMING_FLAG']\n",
    "    numberofrows = len(df.index)\n",
    "    print (numberofrows)\n",
    "    return df"
   ]
  },
  {
   "cell_type": "code",
   "execution_count": 122,
   "metadata": {
    "collapsed": false
   },
   "outputs": [],
   "source": [
    "def validate_creditScore(df):\n",
    "    credit_score_count = df.groupby('CREDIT_SCORE')\n",
    "    #Check if there is value less than 300\n",
    "    print (credit_score_count['CREDIT_SCORE'].count().head(n=5))\n",
    "    #Check if there is value greater than 850\n",
    "    print (credit_score_count['CREDIT_SCORE'].count().tail(n=5))\n",
    "    \n",
    "    #Replace Blanks with 0 for Credit Score Column and check condition for < 300 and > 850¶\n",
    "    \n",
    "    df['CREDIT_SCORE']  = df['CREDIT_SCORE'].convert_objects(convert_numeric=True).fillna(0)\n",
    "    df['CREDIT_SCORE'] = df['CREDIT_SCORE'].astype(int)\n",
    "    df.CREDIT_SCORE[df.CREDIT_SCORE < 300] = 0\n",
    "    df.CREDIT_SCORE[df.CREDIT_SCORE > 850] = 0\n",
    "    credit_score_count1 = df.groupby('CREDIT_SCORE')\n",
    "    #Check if there is value less than 300\n",
    "    print (credit_score_count1['CREDIT_SCORE'].count().head(n=5))\n",
    "    #Check if there is value greater than 850\n",
    "    print (credit_score_count1['CREDIT_SCORE'].count().tail(n=5))\n",
    "    \n",
    "    return df"
   ]
  },
  {
   "cell_type": "code",
   "execution_count": 123,
   "metadata": {
    "collapsed": false
   },
   "outputs": [],
   "source": [
    "def validate_first_payment_date(df):\n",
    "    df['FIRST_PAYMENT_DATE'].isnull().values.any()\n",
    "    return df"
   ]
  },
  {
   "cell_type": "markdown",
   "metadata": {},
   "source": [
    "### 3) FIRST TIME HOMEBUYER FLAG\n",
    "\n",
    "Indicates whether the Borrower, or one of a group of Borrowers, is an individual who (1) is purchasing the mortgaged property, (2) will reside in the mortgaged property as a primary residence and (3) had no ownership interest (sole or joint) in a residential property during the three-year period preceding the date of the purchase of the mortgaged property. With certain limited exceptions, a displaced homemaker or single parent may also be considered a First-Time Homebuyer if the individual had no ownership interest in a residential property during the preceding three-year period other than an ownership interest in the marital residence with a spouse.  \n",
    " \n",
    "Investment Properties, Second Homes and Refinance transactions are not eligible to be considered First-Time Homebuyer transactions. \n",
    "\n",
    "Therefore First Time Homebuyer does not apply and will be disclosed as “Not Applicable”, which will be indicated by a blank space. "
   ]
  },
  {
   "cell_type": "code",
   "execution_count": 124,
   "metadata": {
    "collapsed": false
   },
   "outputs": [],
   "source": [
    "def validate_first_time_homebuyer_flag(df):\n",
    "    #Check for unique values\n",
    "    #df.FIRST_TIME_HOMEBUYER_FLAG.unique()\n",
    "    #Fill nan as Unknown\n",
    "    df['FIRST_TIME_HOMEBUYER_FLAG'] = df.FIRST_TIME_HOMEBUYER_FLAG.fillna('U')\n",
    "    #first_time_home_buyer_flag_count = df.groupby('FIRST_TIME_HOMEBUYER_FLAG')\n",
    "    #print (first_time_home_buyer_flag_count['FIRST_TIME_HOMEBUYER_FLAG'].count())\n",
    "    \n",
    "    return df"
   ]
  },
  {
   "cell_type": "markdown",
   "metadata": {},
   "source": [
    "### 4) MATURITY DATE\n",
    "\n",
    "The month in which the final monthly payment on the mortgage is scheduled to be made as stated on the original mortgage note"
   ]
  },
  {
   "cell_type": "code",
   "execution_count": 125,
   "metadata": {
    "collapsed": false
   },
   "outputs": [],
   "source": [
    "def validate_maturity_date(df):\n",
    "    if df['MATURITY_DATE'].isnull().values.any():\n",
    "        df['MATURITY_DATE']= df.MATURITY_DATE.fillna('199701')\n",
    "    \n",
    "    return df"
   ]
  },
  {
   "cell_type": "markdown",
   "metadata": {},
   "source": [
    "### 5) METROPOLITAN STATISTICAL AREA (MSA) OR METROPOLITAN DIVISION\n",
    "\n",
    "This disclosure will be based on the designation of the Metropolitan Statistical Area or Metropolitan Division based on 2010 census (for Mar 2013 and May 2013 releases) and 2013 census (for Aug 2013 and Dec 2013 releases) data. Metropolitan Statistical Areas (MSAs) are defined by the United States Office of Management and Budget (OMB) and have at least one urbanized area with a population of 50,000 or more inhabitants. OMB refers to an MSA containing a single core with a population of 2.5 million or more, which may be comprised of groupings of counties, as a Metropolitan Division. \n",
    " \n",
    "If an MSA applies to a mortgaged property, the applicable five-digit value is disclosed; however, if the mortgaged property also falls within a Metropolitan Division classification, the applicable five-digit value for the Metropolitan Division takes precedence and is disclosed instead. \n",
    " \n",
    "Changes and/or updates in designations of MSAs or Metropolitan Division will not be reflected in the Single Family Historical Dataset.\n",
    "\n",
    "1) Metropolitan Division or MSA Code.  \n",
    "2) 00000 = Indicates that the area in which the mortgaged property is located is\n",
    "   a) neither an MSA nor a Metropolitan Division, or b) unknown. "
   ]
  },
  {
   "cell_type": "code",
   "execution_count": 126,
   "metadata": {
    "collapsed": false
   },
   "outputs": [],
   "source": [
    "def validate_msa(df):\n",
    "    try:\n",
    "        if any(df['MSA'].isnull()):\n",
    "            df['MSA'] = df.MSA.fillna(00000)\n",
    "    except:\n",
    "        pass\n",
    "    return df"
   ]
  },
  {
   "cell_type": "markdown",
   "metadata": {},
   "source": [
    "### 6) MORTGAGE INSURANCE PERCENTAGE (MI %)\n",
    "\n",
    "The percentage of loss coverage on the loan, at the time of Freddie Mac’s purchase of the mortgage loan that a mortgage insurer is providing to cover losses incurred as a result of a default on the loan.  Only primary mortgage insurance that is purchased by the Borrower, lender or Freddie Mac is disclosed. Mortgage insurance that constitutes “credit enhancement” that is not required by Freddie Mac’s Charter is not disclosed.  \n",
    " \n",
    "Amounts of mortgage insurance reported by Sellers that are less than 1% or greater than 55% will be disclosed as “Unknown,” which will be indicated by three blank spaces.  No MI will be indicated by three zeros\n",
    "\n",
    "1% - 55%  000 =  No MI  111 = Unknown\n",
    "\n",
    "Is 0 same as 000 ?"
   ]
  },
  {
   "cell_type": "code",
   "execution_count": 127,
   "metadata": {
    "collapsed": false
   },
   "outputs": [],
   "source": [
    "def validate_mortgage(df):\n",
    "    df['MORTGAGE_INSURANCE_PERCENTAGE_MI'] = df.MORTGAGE_INSURANCE_PERCENTAGE_MI.replace('   ',111)    \n",
    "    if any(df['MORTGAGE_INSURANCE_PERCENTAGE_MI'].isnull()):\n",
    "            df['MORTGAGE_INSURANCE_PERCENTAGE_MI']  = df['MORTGAGE_INSURANCE_PERCENTAGE_MI'].convert_objects(convert_numeric=True).fillna(111)\n",
    "            \n",
    "            if df.MORTGAGE_INSURANCE_PERCENTAGE_MI.values.any()>55:\n",
    "                df['MORTGAGE_INSURANCE_PERCENTAGE_MI']=111\n",
    "                df['MORTGAGE_INSURANCE_PERCENTAGE_MI'] = df['MORTGAGE_INSURANCE_PERCENTAGE_MI'].astype(int)        \n",
    "            \n",
    "    print('returning df')\n",
    "    return df"
   ]
  },
  {
   "cell_type": "markdown",
   "metadata": {},
   "source": [
    "### 7) NUMBER OF UNITS\n",
    "\n",
    "Denotes whether the mortgage is a one-, two-, three-, or four-unit property.\n",
    "three-, or four-unit property. \n",
    " \n",
    "1 = one-unit  2 = two-unit  3 = three-unit  4 = four-unit  0 = Unknown"
   ]
  },
  {
   "cell_type": "code",
   "execution_count": 128,
   "metadata": {
    "collapsed": false
   },
   "outputs": [],
   "source": [
    "def validate_number_of_units(df):\n",
    "    #Replace nan as 0 which is Unknown\n",
    "    if any(df['NUMBER_OF_UNITS'].isnull()):\n",
    "        df['NUMBER_OF_UNITS'] = df.NUMBER_OF_UNITS.fillna(0)\n",
    "    \n",
    "    return df"
   ]
  },
  {
   "cell_type": "markdown",
   "metadata": {},
   "source": [
    "### 8) OCCUPANCY STATUS\n",
    "\n",
    "Denotes whether the mortgage type is owner occupied, second home, or investment property.  \n",
    "\n",
    "O = Owner Occupied  I = Investment Property  S = Second Home  U  = Unknown"
   ]
  },
  {
   "cell_type": "code",
   "execution_count": 129,
   "metadata": {
    "collapsed": true
   },
   "outputs": [],
   "source": [
    "def validate_occupany_status(df):\n",
    "    if any(df['OCCUPANCY_STATUS'].isnull()):\n",
    "        df['OCCUPANCY_STATUS'] = df.OCCUPANCY_STATUS.fillna(0)\n",
    "    return df\n",
    "    "
   ]
  },
  {
   "cell_type": "markdown",
   "metadata": {},
   "source": [
    "### 9) ORIGINAL COMBINED LOAN-TO-VALUE (CLTV)\n",
    "\n",
    "In the case of a purchase mortgage loan, the ratio is obtained by dividing the original mortgage loan amount on the note date plus any secondary mortgage loan amount disclosed by the Seller by the lesser of the mortgaged property’s appraised value on the note date or its purchase price.  In the case of a refinance mortgage loan, the ratio is obtained by dividing the original mortgage loan amount on the note date plus any secondary mortgage loan amount disclosed by the Seller by the mortgaged property’s appraised value on the note date.  If the secondary financing amount disclosed by the Seller includes a home equity line of credit, then the CLTV calculation reflects the disbursed amount at closing of the first lien mortgage loan, not the maximum loan amount available under the home equity line of credit.  In the case of a seasoned mortgage loan, if the Seller cannot warrant that the value of the mortgaged property has not declined since the note date, Freddie Mac requires that the Seller must provide a new appraisal value, which is used in the CLTV calculation.  In certain cases, where the Seller delivered a loan to Freddie Mac with a special code indicating additional secondary mortgage loan amounts, those amounts may have been included in the CLTV calculation.    \n",
    " \n",
    "If the calculated CLTV is < 0 or > 200, and the LTV is > 80 and <= 200 set the CLTV to the LTV.  If the LTV is < 80 or > 200 or unknown, set the CLTV to ‘unknown.’  If the CLTV is < LTV, set the CLTV to ‘unknown.’  Unknown is indicated by a null value. \n",
    " \n",
    "This disclosure is subject to the widely varying standards originators use to verify Borrowers’ secondary mortgage loan amounts and will not be updated. \n",
    "\n",
    "0% - 200%  Null = Unknown = 999"
   ]
  },
  {
   "cell_type": "code",
   "execution_count": 130,
   "metadata": {
    "collapsed": false
   },
   "outputs": [],
   "source": [
    "def validate_cltv(df):\n",
    "    if any(df['ORIGINAL_COMBINED_LOAN_TO_VALUE_CLTV'].isnull()):\n",
    "        df['ORIGINAL_COMBINED_LOAN_TO_VALUE_CLTV'] = df.ORIGINAL_COMBINED_LOAN_TO_VALUE_CLTV.fillna(999)\n",
    "    \n",
    "    return df\n",
    "    \n",
    "    "
   ]
  },
  {
   "cell_type": "markdown",
   "metadata": {},
   "source": [
    "### 10) ORIGINAL DEBT-TO-INCOME (DTI) RATIO \n",
    "\n",
    "Disclosure of the debt to income ratio is based on (1) the sum of the borrower's monthly debt payments, including monthly housing expenses that incorporate the mortgage payment the borrower is making at the time of the delivery of the mortgage loan to Freddie Mac, divided by (2) the total monthly income used to underwrite the borrower as of the date of the origination of the mortgage loan.  \n",
    " \n",
    "Ratios greater than 65% are indicated by three (3) blank spaces and if unknown are indicated by a Null value. \n",
    " \n",
    "This disclosure is subject to the widely varying standards originators use to verify Borrowers’ assets and liabilities and will not be updated\n",
    "\n",
    "0%< DTI <= 65%  Space(3) >65% = 70 Null = Unknown = 99"
   ]
  },
  {
   "cell_type": "code",
   "execution_count": 131,
   "metadata": {
    "collapsed": true
   },
   "outputs": [],
   "source": [
    "def validate_dti(df):\n",
    "    if any(df['ORIGINAL_DEBT_TO_INCOME_DTI_RATIO'].isnull()):\n",
    "        df['ORIGINAL_DEBT_TO_INCOME_DTI_RATIO'] = df.ORIGINAL_DEBT_TO_INCOME_DTI_RATIO.fillna(99)\n",
    "        \n",
    "    df['ORIGINAL_DEBT_TO_INCOME_DTI_RATIO'] = df.ORIGINAL_DEBT_TO_INCOME_DTI_RATIO.replace('   ',70)\n",
    "        #ORIGINAL_DEBT_TO_INCOME_DTI_RATIO_count = df.groupby('ORIGINAL_DEBT_TO_INCOME_DTI_RATIO')\n",
    "        #print (ORIGINAL_DEBT_TO_INCOME_DTI_RATIO_count['ORIGINAL_DEBT_TO_INCOME_DTI_RATIO'].count().head())\n",
    "        \n",
    "    return df\n",
    "    "
   ]
  },
  {
   "cell_type": "markdown",
   "metadata": {},
   "source": [
    "### 12) ORIGINAL LOAN-TO-VALUE (LTV) \n",
    "\n",
    "In the case of a purchase mortgage loan, the ratio obtained by dividing the original mortgage loan amount on the note date by the lesser of the mortgaged property’s appraised value on the note date or its purchase price. \n",
    " \n",
    "In the case of a refinance mortgage loan, the ratio obtained by dividing the original mortgage loan amount on the note date and the mortgaged property’s appraised value on the note date. \n",
    " \n",
    "In the case of a seasoned mortgage loan, if the Seller cannot warrant that the value of the mortgaged property has not declined since the note date, Freddie Mac requires that the Seller must provide a new appraisal value, which is used in the LTV calculation. \n",
    " \n",
    "Ratios below 6% or greater than 105% will be disclosed as “Unknown,” indicated by three (3) blank spaces = 999."
   ]
  },
  {
   "cell_type": "code",
   "execution_count": 132,
   "metadata": {
    "collapsed": true
   },
   "outputs": [],
   "source": [
    "def validate_ltv(df):\n",
    "    if any(df['ORIGINAL_LOAN_TO_VALUE_LTV'].isnull()):\n",
    "        \n",
    "        df['ORIGINAL_LOAN_TO_VALUE_LTV'] = df.ORIGINAL_LOAN_TO_VALUE_LTV.fillna(999)\n",
    "        df['ORIGINAL_LOAN_TO_VALUE_LTV'] = df.ORIGINAL_LOAN_TO_VALUE_LTV.astype(int)\n",
    "        \n",
    "    #if df.ORIGINAL_LOAN_TO_VALUE_LTV.values.any() < 6 or df.ORIGINAL_LOAN_TO_VALUE_LTV.values.any() < 105:\n",
    "        #df['ORIGINAL_LOAN_TO_VALUE_LTV']= 999\n",
    "            \n",
    "        \n",
    "    return df       "
   ]
  },
  {
   "cell_type": "markdown",
   "metadata": {},
   "source": [
    "### 13) ORIGINAL INTEREST RATE \n",
    "\n",
    "The original note rate as indicated on the mortgage note. "
   ]
  },
  {
   "cell_type": "code",
   "execution_count": 133,
   "metadata": {
    "collapsed": true
   },
   "outputs": [],
   "source": [
    "def valdiate_interest_rate(df):\n",
    "    if any(df['ORIGINAL_INTEREST_RATE'].isnull()):\n",
    "        df['ORIGINAL_INTEREST_RATE'].fillna()\n",
    "        \n",
    "    return df   "
   ]
  },
  {
   "cell_type": "markdown",
   "metadata": {},
   "source": [
    "### 14) CHANNEL \n",
    "\n",
    "R = Retail  B = Broker  C = Correspondent  T = TPO Not Specified  Space = Unknown = U"
   ]
  },
  {
   "cell_type": "code",
   "execution_count": 134,
   "metadata": {
    "collapsed": false
   },
   "outputs": [],
   "source": [
    "def validate_channel(df):\n",
    "    if any(df['CHANNEL'].isnull()):\n",
    "        df['CHANNEL'] = df.CHANNEL.fillna('U')\n",
    "        \n",
    "    df['CHANNEL'] = df.CHANNEL.replace(' ','U')\n",
    "        \n",
    "    return df\n",
    "    "
   ]
  },
  {
   "cell_type": "markdown",
   "metadata": {},
   "source": [
    "### 15) PREPAYMENT PENALTY MORTGAGE (PPM) FLAG \n",
    "\n",
    "Denotes whether the mortgage is a PPM. A PPM is a mortgage with respect to which the borrower is, or at any time has been, obligated to pay a penalty in the event of certain repayments of principal. \n",
    "\n",
    "Y = PPM  N = Not PPM   Space (1) = Unknown = U"
   ]
  },
  {
   "cell_type": "code",
   "execution_count": 135,
   "metadata": {
    "collapsed": true
   },
   "outputs": [],
   "source": [
    "def validate_ppm(df):\n",
    "    if any(df['PREPAYMENT_PENALTY_MORTGAGE_PPM_FLAG'].isnull()):\n",
    "        df['PREPAYMENT_PENALTY_MORTGAGE_PPM_FLAG'] = df.PREPAYMENT_PENALTY_MORTGAGE_PPM_FLAG.fillna('U')\n",
    "    return df\n",
    "        \n",
    "        \n",
    "    "
   ]
  },
  {
   "cell_type": "markdown",
   "metadata": {},
   "source": [
    "### 16) PRODUCT TYPE \n",
    "\n",
    "Denotes that the product is a fixed-rate mortgage.\n",
    "\n",
    "FRM – Fixed Rate Mortgage "
   ]
  },
  {
   "cell_type": "code",
   "execution_count": 136,
   "metadata": {
    "collapsed": false
   },
   "outputs": [],
   "source": [
    "def validate_productType(df):\n",
    "    return df\n"
   ]
  },
  {
   "cell_type": "markdown",
   "metadata": {},
   "source": [
    "### 17) PROPERTY STATE \n",
    "\n",
    "A two-letter abbreviation indicating the state or territory within which the property securing the mortgage is located. \n",
    "\n",
    "AL, TX, VA, etc\n",
    "UN = Unknown"
   ]
  },
  {
   "cell_type": "code",
   "execution_count": 137,
   "metadata": {
    "collapsed": true
   },
   "outputs": [],
   "source": [
    "def validate_property_state(df):\n",
    "    if any(df['PROPERTY_STATE'].isnull()):\n",
    "        df['PROPERTY_STATE'] = df.PROPERTY_STATE.fillna('UN')\n",
    "    return df\n",
    "        \n",
    "    "
   ]
  },
  {
   "cell_type": "markdown",
   "metadata": {},
   "source": [
    "### 18) PROPERTY TYPE \n",
    "\n",
    "Denotes whether the property type secured by the mortgage is a condominium, leasehold, planned unit development (PUD), cooperative share, manufactured home, or Single Family home.  \n",
    " \n",
    "If the Property Type is unknown, this will be indicated by two (2) blank spaces or 'UN'.\n",
    "\n",
    "CO = Condo  LH = Leasehold  PU = PUD  MH = Manufactured Housing  SF = 1-4 Fee Simple  CP = Co-op  \n",
    "Space (2) = Unknown = UN"
   ]
  },
  {
   "cell_type": "code",
   "execution_count": 138,
   "metadata": {
    "collapsed": true
   },
   "outputs": [],
   "source": [
    "def validate_property_type(df):\n",
    "    if any(df['PROPERTY_TYPE'].isnull()):\n",
    "        df['PROPERTY_TYPE'] = df.PROPERTY_TYPE.replace('  ','UN')\n",
    "        \n",
    "    return df"
   ]
  },
  {
   "cell_type": "markdown",
   "metadata": {},
   "source": [
    "### 19) POSTAL CODE \n",
    "\n",
    "The postal code for the location of the mortgaged property \n",
    "\n",
    "###00, where “###” represents the first three digits of the 5digit postal code  \n",
    "Space(5)= Unknown = 99999"
   ]
  },
  {
   "cell_type": "code",
   "execution_count": 139,
   "metadata": {
    "collapsed": true
   },
   "outputs": [],
   "source": [
    "def validate_postal_code(df):\n",
    "    if any(df['POSTAL_CODE'].isnull()):\n",
    "        df['POSTAL_CODE'] = df.POSTAL_CODE.fillna(99999)\n",
    "    return df\n",
    "        "
   ]
  },
  {
   "cell_type": "markdown",
   "metadata": {},
   "source": [
    "### 20) LOAN SEQUENCE NUMBER \n",
    "\n",
    "Unique identifier assigned to each loan\n",
    "\n",
    "F1YYQnXXXXXX \n",
    " \n",
    "F1 = product (Fixed Rate Mortgage);   YYQn = origination year and quarter; and,   XXXXXX = randomly assigned digits"
   ]
  },
  {
   "cell_type": "code",
   "execution_count": 140,
   "metadata": {
    "collapsed": true
   },
   "outputs": [],
   "source": [
    "def validate_loan_seq_number(df):\n",
    "    return df\n",
    "    ######### validation needed..!!!\n",
    "    "
   ]
  },
  {
   "cell_type": "markdown",
   "metadata": {},
   "source": [
    "### 21) LOAN PURPOSE\n",
    "\n",
    "P = Purchase  C = Cash-out Refinance  N = No Cash-out Refinance  Space = Unknown = U"
   ]
  },
  {
   "cell_type": "code",
   "execution_count": 141,
   "metadata": {
    "collapsed": true
   },
   "outputs": [],
   "source": [
    "def validate_loan_purpose(df):\n",
    "    if any(df['LOAN_PURPOSE'].isnull()):\n",
    "        df['LOAN_PURPOSE'] = df.LOAN_PURPOSE.fillna('U')\n",
    "    return df\n",
    "    "
   ]
  },
  {
   "cell_type": "markdown",
   "metadata": {},
   "source": [
    "### 22) ORIGINAL LOAN TERM\n",
    "\n",
    "A calculation of the number of scheduled monthly payments of the mortgage based on the First Payment Date and Maturity Date. \n",
    " \n",
    "Loans with original term of 420 or more, or 300 or less, are excluded from the Dataset if originated prior to 1/1/2005.  If loan was originated on/after 1/1/2005, this exclusion does not apply.\n",
    "\n",
    "Calculation:  (Loan Maturity Date (MM/YY) – Loan First Payment Date (MM/YY) + 1) "
   ]
  },
  {
   "cell_type": "code",
   "execution_count": 142,
   "metadata": {
    "collapsed": false
   },
   "outputs": [],
   "source": [
    "def validate_original_loan_term(df):\n",
    "    return df\n",
    "    \n",
    "        ### validation required!!\n",
    "    "
   ]
  },
  {
   "cell_type": "markdown",
   "metadata": {},
   "source": [
    "### 23) Number of Borrowers\n",
    "\n",
    "The number of Borrower(s) who are obligated to repay the mortgage note secured by the mortgaged property. Disclosure denotes only whether there is one borrower or more than one borrower associated with the mortgage note. This disclosure will not be updated to reflect any subsequent assumption of the mortgage note. \n",
    "\n",
    "01 = 1 borrower  02 = > 1 borrowers  Space (2) = Unknown = 'UN'"
   ]
  },
  {
   "cell_type": "code",
   "execution_count": 143,
   "metadata": {
    "collapsed": false
   },
   "outputs": [],
   "source": [
    "def validate_number_of_borrowers(df):\n",
    "    if any(df['NUMBER_OF_BORROWERS'].isnull()):\n",
    "            df['NUMBER_OF_BORROWERS'] = df.NUMBER_OF_BORROWERS.fillna('UN')\n",
    "            #print (sum(number_of_borrowers_count['NUMBER_OF_BORROWERS'].count()))\n",
    "    return df"
   ]
  },
  {
   "cell_type": "markdown",
   "metadata": {},
   "source": [
    "### 24) SELLER NAME\n",
    "\n",
    "The entity acting in its capacity as a seller of mortgages to Freddie Mac at the time of acquisition Seller Name will be disclosed for sellers with a total Original UPB representing 1% or more of the total Original UPB of all loans in the Dataset for a given calendar quarter.  Otherwise, the Seller Name will be set to “Other Sellers”. \n",
    "\n",
    "Name of the seller, or “Other Sellers”"
   ]
  },
  {
   "cell_type": "code",
   "execution_count": 144,
   "metadata": {
    "collapsed": true
   },
   "outputs": [],
   "source": [
    "def validate_seller_name(df):\n",
    "    if any(df['SELLER_NAME'].isnull()):\n",
    "        df['SELLER_NAME'] = df.SELLER_NAME.fillna('Other sellers')\n",
    "        #print (sum(df['SELLER_NAME'].count()))\n",
    "        \n",
    "    return df\n",
    "        "
   ]
  },
  {
   "cell_type": "markdown",
   "metadata": {},
   "source": [
    "### 25) SERVICER NAME \n",
    "\n",
    "The entity acting in its capacity as the servicer of mortgages to Freddie Mac as of the last period for which loan activity is reported in the Dataset.   \n",
    " \n",
    "Servicer Name will be disclosed for servicers with a total Original UPB representing 1% or more of the total Original UPB of all loans in the Dataset for a given calendar quarter.  Otherwise, the Servicer Name will be set to “Other Servicers”. \n",
    "\n",
    "Name of the servicer, or “Other Servicers” "
   ]
  },
  {
   "cell_type": "code",
   "execution_count": 145,
   "metadata": {
    "collapsed": true
   },
   "outputs": [],
   "source": [
    "def validate_service_name(df):\n",
    "    if any(df['SERVICER_NAME'].isnull()):\n",
    "        df['SERVICER_NAME'] = df.SERVICER_NAME.fillna('Other servicers')\n",
    "        #print (sum(servicer_name_count['SERVICER_NAME'].count()))\n",
    "        \n",
    "    return df"
   ]
  },
  {
   "cell_type": "markdown",
   "metadata": {},
   "source": [
    "### 26) Super Conforming Flag\n",
    "\n",
    "For mortgages that exceed conforming loan limits with origination dates on or after 10/1/2008 and settlements on or after 1/1/2009 \n",
    "\n",
    "Y = Yes  Space (1)  = Not Super Conforming = N"
   ]
  },
  {
   "cell_type": "code",
   "execution_count": 146,
   "metadata": {
    "collapsed": true
   },
   "outputs": [],
   "source": [
    "def validate_super_confirmng_flag(df):\n",
    "    if any(df['SUPER_CONFORMING_FLAG'].isnull()):\n",
    "        df['SUPER_CONFORMING_FLAG'] = df.SUPER_CONFORMING_FLAG.fillna('N')\n",
    "        #print (sum(scf_count['SUPER_CONFORMING_FLAG'].count()))\n",
    "        \n",
    "    return df"
   ]
  },
  {
   "cell_type": "code",
   "execution_count": null,
   "metadata": {
    "collapsed": false
   },
   "outputs": [],
   "source": [
    "for i in range(len(original_files)):\n",
    "    df = pd.DataFrame()\n",
    "    print (original_files[i])\n",
    "    df = load_df(original_files[i])\n",
    "    \n",
    "    #27)\n",
    "    df = name_columns(df)\n",
    "    \n",
    "     # 2)\n",
    "    df = validate_creditScore(df)\n",
    "    \n",
    "    # 3) (check)\n",
    "    df = validate_dti(df)\n",
    "    \n",
    "    #4)  (check)\n",
    "    df = validate_ltv(df)\n",
    "    \n",
    "    #5) (check)\n",
    "    df = valdiate_interest_rate(df)\n",
    "    \n",
    "    #6) (check)\n",
    "    df = validate_channel(df)\n",
    "    \n",
    "    #7) (check)\n",
    "    df = validate_ppm(df)\n",
    "    \n",
    "    #8) (check)\n",
    "    df = validate_property_state(df)\n",
    "    \n",
    "    #9) (check)\n",
    "    df = validate_property_type(df)\n",
    "    \n",
    "    #10) (check)\n",
    "    df = validate_first_payment_date(df)\n",
    "    \n",
    "    #11) (check)\n",
    "    df = validate_postal_code(df) \n",
    "    \n",
    "    #12) (check)\n",
    "    df = validate_loan_purpose(df)\n",
    "    \n",
    "    #13) (check)\n",
    "    df = validate_number_of_borrowers(df)\n",
    "    \n",
    "    #14) (check)\n",
    "    df = validate_seller_name(df)\n",
    "    \n",
    "    #15) (check)\n",
    "    df = validate_service_name(df)\n",
    "     \n",
    "    #16) \n",
    "    df = validate_super_confirmng_flag(df)\n",
    "    \n",
    "    #17) (check)\n",
    "    df = validate_first_time_homebuyer_flag(df)\n",
    "    \n",
    "    #18) (check)\n",
    "    df = validate_maturity_date(df)\n",
    "    \n",
    "    #19) (check)\n",
    "    df = validate_msa(df)\n",
    "    \n",
    "    #20) (check)\n",
    "    df = validate_number_of_units(df)\n",
    "    \n",
    "    #21) (check)\n",
    "    df = validate_occupany_status(df)\n",
    "    \n",
    "    #22) (check)\n",
    "    df = validate_cltv(df)\n",
    "    \n",
    "    #23) (check)\n",
    "    df = validate_productType(df)\n",
    "    \n",
    "    #24) (check)\n",
    "    df = validate_loan_seq_number(df)\n",
    "    \n",
    "    #25) (check)\n",
    "    df = validate_original_loan_term(df)\n",
    "  \n",
    " \n",
    "    df.to_csv('Sample_Original_Validated_'+str(original_files[i][12:-4])+'.csv', index=None)"
   ]
  },
  {
   "cell_type": "code",
   "execution_count": 115,
   "metadata": {
    "collapsed": false
   },
   "outputs": [
    {
     "name": "stdout",
     "output_type": "stream",
     "text": [
      "All Files have been Validated !!\n"
     ]
    }
   ],
   "source": [
    "print (\"All Files have been Validated !!\")"
   ]
  },
  {
   "cell_type": "code",
   "execution_count": null,
   "metadata": {
    "collapsed": true
   },
   "outputs": [],
   "source": [
    "for i in range(len(original_files)):\n",
    "    df = pd.DataFrame()\n",
    "    print (original_files[i])\n",
    "    df = load_df(original_files[i])\n",
    "    df = name_columns(df)\n",
    "    df = validate_creditScore(df)\n",
    "    df = validate_dti(df)\n",
    "    df = validate_ltv(df)\n",
    "    df = valdiate_interest_rate(df)\n",
    "    df = validate_channel(df)\n",
    "    df = validate_ppm(df)\n",
    "    df = validate_property_state(df)\n",
    "    df = validate_property_type(df)\n",
    "    df = validate_first_payment_date(df)\n",
    "    df = validate_postal_code(df) \n",
    "    df = validate_loan_purpose(df)\n",
    "    df = validate_number_of_borrowers(df)\n",
    "    df = validate_seller_name(df)\n",
    "    df = validate_service_name(df)\n",
    "    df = validate_super_confirmng_flag(df)\n",
    "    df = validate_first_time_homebuyer_flag(df)\n",
    "    \n",
    "    #18) (check)\n",
    "    df = validate_maturity_date(df)\n",
    "    \n",
    "    #19) (check)\n",
    "    df = validate_msa(df)\n",
    "    \n",
    "    #20) (check)\n",
    "    df = validate_number_of_units(df)\n",
    "    \n",
    "    #21) (check)\n",
    "    df = validate_occupany_status(df)\n",
    "    \n",
    "    #22) (check)\n",
    "    df = validate_cltv(df)\n",
    "    \n",
    "    #23) (check)\n",
    "    df = validate_productType(df)\n",
    "    \n",
    "    #24) (check)\n",
    "    df = validate_loan_seq_number(df)\n",
    "    \n",
    "    #25) (check)\n",
    "    df = validate_original_loan_term(df)\n",
    "  \n",
    " \n",
    "    df.to_csv('Sample_Original_Validated_'+str(original_files[i][12:-4])+'.csv', index=None)"
   ]
  }
 ],
 "metadata": {
  "anaconda-cloud": {},
  "kernelspec": {
   "display_name": "Python [conda root]",
   "language": "python",
   "name": "conda-root-py"
  },
  "language_info": {
   "codemirror_mode": {
    "name": "ipython",
    "version": 3
   },
   "file_extension": ".py",
   "mimetype": "text/x-python",
   "name": "python",
   "nbconvert_exporter": "python",
   "pygments_lexer": "ipython3",
   "version": "3.5.2"
  }
 },
 "nbformat": 4,
 "nbformat_minor": 1
}
