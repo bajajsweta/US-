{
 "cells": [
  {
   "cell_type": "code",
   "execution_count": 1,
   "metadata": {
    "collapsed": true
   },
   "outputs": [],
   "source": [
    "import pandas as pd\n",
    "import numpy as np\n",
    "import os\n",
    "import requests\n",
    "import zipfile\n",
    "import io"
   ]
  },
  {
   "cell_type": "code",
   "execution_count": 20,
   "metadata": {
    "collapsed": false
   },
   "outputs": [],
   "source": [
    "performance_files = [file for file in os.listdir() if file.startswith('Sample_Original_Validated')]"
   ]
  },
  {
   "cell_type": "code",
   "execution_count": 21,
   "metadata": {
    "collapsed": false
   },
   "outputs": [
    {
     "data": {
      "text/plain": [
       "['Sample_Original_Validated_1999.csv',\n",
       " 'Sample_Original_Validated_2000.csv',\n",
       " 'Sample_Original_Validated_2001.csv',\n",
       " 'Sample_Original_Validated_2002.csv']"
      ]
     },
     "execution_count": 21,
     "metadata": {},
     "output_type": "execute_result"
    }
   ],
   "source": [
    "files= performance_files\n",
    "files =files[:14]\n",
    "files"
   ]
  },
  {
   "cell_type": "markdown",
   "metadata": {},
   "source": [
    "### creating dataframe for each columns to create a table "
   ]
  },
  {
   "cell_type": "code",
   "execution_count": 24,
   "metadata": {
    "collapsed": false
   },
   "outputs": [],
   "source": [
    "#list1= pd.DataFrame([YearList5])\n",
    "def creating_df_for_each_column():\n",
    "    year = pd.DataFrame([YearList])\n",
    "    loanCount=pd.DataFrame([LoanCountList])\n",
    "    Tota_Orig_UPB = pd.DataFrame([Total_Original_UPBList])\n",
    "    Avg_UPB =pd.DataFrame([AvgUPBList])\n",
    "    Credit_Score= pd.DataFrame([Weight_scoreList])\n",
    "    CLTV_Ratio =pd.DataFrame([CLTV_RatioList])\n",
    "    LTV_Ratio = pd.DataFrame([LTV_RatioList])\n",
    "    DTI_Ratio= pd.DataFrame([Debt_Income_RatioList])\n",
    "    WAC = pd.DataFrame([Weighted_Average_CouponList])\n",
    "    \n",
    "    SummaryTable = pd.concat([year,loanCount,Tota_Orig_UPB,Avg_UPB,Credit_Score,CLTV_Ratio,LTV_Ratio,DTI_Ratio,WAC],axis=0)\n",
    "    SummaryTable =SummaryTable.T\n",
    "    SummaryTable.columns = ['Year','Loan Count','Total Original UPB($B)','Average Original UPB ($)','Credit Score','Original Combined Loan-to-Value (CLTV) Ratio','Original Loan-to-Value (LTV) Ratio','Original Debt-toIncome (DTI) Ratio1',\n",
    "                        'Weighted Average Coupon (WAC)']\n",
    "    SummaryTable.to_csv(\"Sample_Original_Summary.csv\", index=None)"
   ]
  },
  {
   "cell_type": "code",
   "execution_count": 25,
   "metadata": {
    "collapsed": true
   },
   "outputs": [],
   "source": [
    "## Empty the list if it already exists"
   ]
  },
  {
   "cell_type": "code",
   "execution_count": 26,
   "metadata": {
    "collapsed": true
   },
   "outputs": [],
   "source": [
    "def empty_list():\n",
    "    if len(LoanCountList)==0:\n",
    "        pass\n",
    "    else:\n",
    "        del LoanCountList\n",
    "    \n",
    "    if len(Total_Original_UPBList) ==0:\n",
    "        pass\n",
    "    else:\n",
    "        del Total_Original_UPBList\n",
    "    \n",
    "    if len(YearList)==0:\n",
    "        pass\n",
    "    else:\n",
    "        del YearList\n",
    "    \n",
    "    if len(Weight_scoreList) ==0:\n",
    "        pass\n",
    "    else:\n",
    "        del Weight_scoreList\n",
    "    \n",
    "    if len(CLTV_RatioList)==0:\n",
    "        pass\n",
    "    else:\n",
    "        del CLTV_RatioList\n",
    "    \n",
    "    if len(AvgUPB) ==0:\n",
    "        pass\n",
    "    else:\n",
    "        del AvgUPB\n",
    "    \n",
    "    if len(LTV_RatioList)==0:\n",
    "        pass\n",
    "    else:\n",
    "        del LTV_RatioList\n",
    "    \n",
    "    if len(Debt_Income_RatioList) ==0:\n",
    "        pass\n",
    "    else:\n",
    "        del Debt_Income_RatioList\n",
    "    \n",
    "    if len(Weighted_Average_CouponList) ==0:\n",
    "        pass\n",
    "    else:\n",
    "        del Weighted_Average_CouponList\n",
    "    "
   ]
  },
  {
   "cell_type": "code",
   "execution_count": 27,
   "metadata": {
    "collapsed": true
   },
   "outputs": [],
   "source": [
    "# Summary for each col "
   ]
  },
  {
   "cell_type": "code",
   "execution_count": 29,
   "metadata": {
    "collapsed": false
   },
   "outputs": [],
   "source": [
    "try:\n",
    "    empty_list()\n",
    "except:\n",
    "    pass\n",
    "\n",
    "LoanCountList = []\n",
    "Total_Original_UPBList= []\n",
    "YearList= []\n",
    "Weight_scoreList= []\n",
    "CLTV_RatioList= []\n",
    "AvgUPBList =[]\n",
    "LTV_RatioList = []\n",
    "Debt_Income_RatioList= []\n",
    "Weighted_Average_CouponList= []\n",
    "for i in range(len(files)):\n",
    "    df = pd.DataFrame()\n",
    "    df = pd.read_table(files[i],delimiter=',')\n",
    "    \n",
    "    year=files[i][-8:-4]\n",
    "    LoanCount = df['CREDIT_SCORE'].count() ## loan Count \n",
    "    Original_UPB = (format(df['ORIGINAL_UPB'].sum(),'.1f'))\n",
    "    Weight_score = int(round((df['CREDIT_SCORE']*df['ORIGINAL_UPB']).sum()/(df['ORIGINAL_UPB'].sum())))\n",
    "    Orginal_CLTV_Ratio = (format((df['ORIGINAL_COMBINED_LOAN_TO_VALUE_CLTV']*df['ORIGINAL_UPB']).sum()/df['ORIGINAL_UPB'].sum(),'.1f'))\n",
    "    AvgUPB = format(df['ORIGINAL_UPB'].sum()/(LoanCount),'.1f')\n",
    "    Original_LTV_Ratio =(format((df['ORIGINAL_LOAN_TO_VALUE_LTV']*df['ORIGINAL_UPB']).sum()/df['ORIGINAL_UPB'].sum(),'.1f'))\n",
    "    Original_Debt_Income_Ratio = (format((df['ORIGINAL_DEBT_TO_INCOME_DTI_RATIO']*df['ORIGINAL_UPB']).sum()/df['ORIGINAL_UPB'].sum(),'.1f'))\n",
    "    Weighted_Average_Coupon =format((df['ORIGINAL_UPB']*df['ORIGINAL_INTEREST_RATE']).sum()/df['ORIGINAL_UPB'].sum(),'.1f')\n",
    "        \n",
    "        \n",
    "    YearList.append(year)\n",
    "    LoanCountList.append(LoanCount)\n",
    "    Total_Original_UPBList.append(Original_UPB)\n",
    "    Weight_scoreList.append(Weight_score)\n",
    "    CLTV_RatioList.append(Orginal_CLTV_Ratio)\n",
    "    AvgUPBList.append(AvgUPB)\n",
    "    LTV_RatioList.append(Original_LTV_Ratio)\n",
    "    Debt_Income_RatioList.append(Original_Debt_Income_Ratio)\n",
    "    Weighted_Average_CouponList.append(Weighted_Average_Coupon)\n",
    "    \n",
    "    creating_df_for_each_column()\n",
    "    \n",
    "    \n",
    "\n"
   ]
  },
  {
   "cell_type": "code",
   "execution_count": null,
   "metadata": {
    "collapsed": true
   },
   "outputs": [],
   "source": [
    "print(\"The End..\")"
   ]
  }
 ],
 "metadata": {
  "anaconda-cloud": {},
  "kernelspec": {
   "display_name": "Python [conda root]",
   "language": "python",
   "name": "conda-root-py"
  },
  "language_info": {
   "codemirror_mode": {
    "name": "ipython",
    "version": 3
   },
   "file_extension": ".py",
   "mimetype": "text/x-python",
   "name": "python",
   "nbconvert_exporter": "python",
   "pygments_lexer": "ipython3",
   "version": "3.5.2"
  }
 },
 "nbformat": 4,
 "nbformat_minor": 1
}
